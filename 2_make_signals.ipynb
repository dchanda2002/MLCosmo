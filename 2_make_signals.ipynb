{
 "cells": [
  {
   "cell_type": "code",
   "execution_count": 1,
   "id": "6485064d",
   "metadata": {},
   "outputs": [],
   "source": [
    "import pandas as pd\n",
    "import math\n",
    "import numpy as np\n",
    "from astropy.coordinates import SkyCoord\n",
    "from astropy.io import fits\n",
    "import healpy as hp\n",
    "import matplotlib.pyplot as plt\n",
    "import time\n",
    "import sys\n",
    "from pixell import enmap, enplot, reproject, utils, curvedsky, wcsutils\n",
    "from matplotlib import cm\n",
    "from scipy.optimize import curve_fit\n",
    "from scipy.linalg import sqrtm\n",
    "from tqdm import tqdm\n",
    "import random\n",
    "import time\n",
    "import multiprocessing as mp\n",
    "import numpy as np\n",
    "import random\n",
    "import time\n",
    "import multiprocessing as mp\n",
    "import numpy as np"
   ]
  },
  {
   "cell_type": "markdown",
   "id": "a2d6dff5",
   "metadata": {},
   "source": [
    "# Rad: 5, 10"
   ]
  },
  {
   "cell_type": "code",
   "execution_count": 2,
   "id": "6d5e792e",
   "metadata": {},
   "outputs": [],
   "source": [
    "def import_map(filepath, beam):\n",
    "    pl = hp.read_map(filepath)\n",
    "    pl[(pl==-32768) | np.isnan(pl)] = 0\n",
    "    try:\n",
    "        shape,wcs = enmap.fullsky_geometry(res=int(beam)*utils.arcmin,proj='car')\n",
    "        map_pix = reproject.enmap_from_healpix(pl,shape=shape,wcs=wcs)\n",
    "    except:\n",
    "        shape,wcs = enmap.fullsky_geometry(res=int(beam+1)*utils.arcmin,proj='car')\n",
    "        map_pix = reproject.enmap_from_healpix(pl,shape=shape,wcs=wcs)\n",
    "    return map_pix\n",
    "\n",
    "\n",
    "def extract_intensity(map_pix, ras, decs, beam):\n",
    "    N = len(ras)\n",
    "    stack_CMB_kSZ           = 0\n",
    "    stack_CMB_kSZ_deproject = 0\n",
    "    c = 0\n",
    "\n",
    "    signal = []\n",
    "    signal_ring = []\n",
    "    ras_used = []\n",
    "    decs_used = []\n",
    "    for i in tqdm(range(N)):\n",
    "        stamp = reproject.thumbnails(map_pix,coords = np.deg2rad([decs[i], ras[i]]),r=beam*utils.arcmin)\n",
    "        stamp2 = reproject.thumbnails(map_pix,coords = np.deg2rad([decs[i], ras[i]]),r=beam*2*utils.arcmin)\n",
    "\n",
    "        if stamp is None:\n",
    "            signal.append(-9999)\n",
    "            signal_ring.append(-9999)\n",
    "        elif stamp[0][0][0]==0.0:\n",
    "            signal.append(-9999)\n",
    "            signal_ring.append(-9999)\n",
    "        else:\n",
    "            signal_sum = sum(sum(stamp[0]))\n",
    "            signal2_sum = sum(sum(stamp2[0]))\n",
    "            num_pix_signal = len(stamp[0][0])*len(stamp[0][0])\n",
    "            num_pix_signal2 = len(stamp2[0][0])*len(stamp2[0][0])            \n",
    "            signal.append(signal_sum/num_pix_signal)\n",
    "            signal_ring.append((signal2_sum-signal_sum)/(num_pix_signal2-num_pix_signal))\n",
    "        ras_used.append(ras[i])\n",
    "        decs_used.append(decs[i])\n",
    "\n",
    "    return signal, signal_ring, ras_used, decs_used\n",
    "\n",
    "\n",
    "def output_signal(signal,signal_ring,output_fp,output_fp_signal):\n",
    "    np.savetxt(output_fp,\n",
    "               signal,\n",
    "               delimiter=\", \",\n",
    "               fmt='% s')\n",
    "    np.savetxt(output_fp_signal,\n",
    "               signal_ring,\n",
    "               delimiter=\", \",\n",
    "               fmt='% s')"
   ]
  },
  {
   "cell_type": "code",
   "execution_count": 4,
   "id": "6caea1ec",
   "metadata": {},
   "outputs": [],
   "source": [
    "real = pd.read_csv(\"data/union3.csv\", skiprows = 0)\n",
    "real6 = pd.read_csv(\"data/sdss.csv\", skiprows = 0)\n",
    "\n",
    "# run catalogue 3 --> \n",
    "# do one run that is [::4] ~50,000 objects\n",
    "# do one run with ALL objects ~200,000 objects\n",
    "\n",
    "# Zou HSC, z > 1\n",
    "real1 = real[(real.z > 1) & (real.cat == 3)]\n",
    "\n",
    "# WH22, z > 1\n",
    "real2 = real[(real.z > 1) & (real.cat == 4)]\n",
    "\n",
    "# Zou DESI, 0.6 < z < 1\n",
    "real3 = real[(real.z < 1) & (real.z > 0.6) & (real.cat == 2)]\n",
    "real3_c = real[(real.z < 1) & (real.z > 0.6) & (real.cat == 2)][::4]\n",
    "\n",
    "# Zou DES, 0.6 < z < 1\n",
    "real4 = real[(real.z < 1) & (real.z > 0.6) & (real.cat == 1)]\n",
    "\n",
    "# WH22, 0.6 < z < 1\n",
    "real5 = real[(real.z < 1) & (real.z > 0.6) & (real.cat == 4)]\n",
    "\n",
    "# SDSS 0.05 < z < 0.6\n",
    "real6 = real6[(real6.z < 0.6) & (real6.z > 0.05)]\n",
    "\n",
    "# Zou DESI, 0.05 < z < 0.6\n",
    "real7 = real[(real.z < 0.6) & (real.z > 0.05) & (real.cat == 2)]\n",
    "\n",
    "# intersection of DESI, DES, WH22 in same area (look at prob in those objects that are shared vs. those not shared)\n",
    "# mass cuts in DESI --> instead of random 100k points, take richest 100k ones"
   ]
  },
  {
   "cell_type": "code",
   "execution_count": null,
   "id": "8d5707aa",
   "metadata": {},
   "outputs": [],
   "source": [
    "# real = pd.read_csv('data/union2.csv',skiprows=0,index_col=0)[::3]\n",
    "ras_real = real3['amf_ra'].reset_index(drop=True)##[real.z>0.75][::2].reset_index(drop=True)\n",
    "decs_real = real3['amf_dec'].reset_index(drop=True)##[real.z>0.75][::2].reset_index(drop=True)\n",
    "\n",
    "ras_all = ras_real\n",
    "decs_all = decs_real\n",
    "\n",
    "maps = \"data/IRIS_nohole_1_2048_v2.fits\"\n",
    "beam=10\n",
    "map_pix = import_map(maps, int(beam))\n",
    "\n",
    "outputs = \"output/510u3C3/ir12.csv\"\n",
    "outputs2 = \"output/510u3C3/ir12_r.csv\"\n",
    "\n",
    "signal, signal_ring, ras_used, decs_used = extract_intensity(map_pix, ras_all, decs_all, beam)\n",
    "output_signal(signal, signal_ring, outputs, outputs2)"
   ]
  },
  {
   "cell_type": "code",
   "execution_count": null,
   "id": "6111375f",
   "metadata": {},
   "outputs": [],
   "source": [
    "# real = pd.read_csv('data/union2.csv',skiprows=0,index_col=0)[::3]\n",
    "ras_real = real3['amf_ra'].reset_index(drop=True)##[real.z>0.75][::2].reset_index(drop=True)\n",
    "decs_real = real3['amf_dec'].reset_index(drop=True)##[real.z>0.75][::2].reset_index(drop=True)\n",
    "\n",
    "ras_all = ras_real\n",
    "decs_all = decs_real\n",
    "\n",
    "maps = \"data/IRIS_nohole_2_2048_v2.fits\"\n",
    "beam=10\n",
    "map_pix = import_map(maps, int(beam))\n",
    "\n",
    "outputs = \"output/510u3C3/ir25.csv\"\n",
    "outputs2 = \"output/510u3C3/ir25_r.csv\"\n",
    "\n",
    "signal, signal_ring, ras_used, decs_used = extract_intensity(map_pix, ras_all, decs_all, beam)\n",
    "output_signal(signal, signal_ring, outputs, outputs2)"
   ]
  },
  {
   "cell_type": "code",
   "execution_count": null,
   "id": "6598379b",
   "metadata": {},
   "outputs": [],
   "source": [
    "#real = pd.read_csv('data/union2.csv',skiprows=0,index_col=0)[::3]\n",
    "ras_real = real3['amf_ra'].reset_index(drop=True)##[real.z>0.75][::2].reset_index(drop=True)\n",
    "decs_real = real3['amf_dec'].reset_index(drop=True)##[real.z>0.75][::2].reset_index(drop=True)\n",
    "\n",
    "ras_all = ras_real\n",
    "decs_all = decs_real\n",
    "\n",
    "maps = \"data/IRIS_nohole_3_2048_v2.fits\"\n",
    "beam=10\n",
    "map_pix = import_map(maps, int(beam))\n",
    "\n",
    "outputs = \"output/510u3C3/ir60.csv\"\n",
    "outputs2 = \"output/510u3C3/ir60_r.csv\"\n",
    "\n",
    "signal, signal_ring, ras_used, decs_used = extract_intensity(map_pix, ras_all, decs_all, beam)\n",
    "output_signal(signal, signal_ring, outputs, outputs2)"
   ]
  },
  {
   "cell_type": "code",
   "execution_count": null,
   "id": "c5d2940d",
   "metadata": {},
   "outputs": [],
   "source": [
    "#real = pd.read_csv('data/union2.csv',skiprows=0,index_col=0)[::3]\n",
    "ras_real = real3['amf_ra'].reset_index(drop=True)##[real.z>0.75][::2].reset_index(drop=True)\n",
    "decs_real = real3['amf_dec'].reset_index(drop=True)##[real.z>0.75][::2].reset_index(drop=True)\n",
    "\n",
    "ras_all = ras_real\n",
    "decs_all = decs_real\n",
    "\n",
    "maps = \"data/IRIS_nohole_4_2048_v2.fits\"\n",
    "beam=10\n",
    "map_pix = import_map(maps, int(beam))\n",
    "\n",
    "outputs = \"output/510u3C3/ir100.csv\"\n",
    "outputs2 = \"output/510u3C3/ir100_r.csv\"\n",
    "\n",
    "signal, signal_ring, ras_used, decs_used = extract_intensity(map_pix, ras_all, decs_all, beam)\n",
    "output_signal(signal, signal_ring, outputs, outputs2)"
   ]
  },
  {
   "cell_type": "markdown",
   "id": "eb8993d3",
   "metadata": {},
   "source": [
    "---"
   ]
  },
  {
   "cell_type": "code",
   "execution_count": null,
   "id": "18fc9a8d",
   "metadata": {},
   "outputs": [],
   "source": [
    "voids = pd.read_csv('data/voids.csv',skiprows=0,index_col=0)\n",
    "ras_voids = voids['ras'].reset_index(drop=True)\n",
    "decs_voids = voids['decs'].reset_index(drop=True)\n",
    "\n",
    "ras_all = ras_voids\n",
    "decs_all = decs_voids\n",
    "\n",
    "maps = \"data/IRIS_nohole_1_2048_v2.fits\"\n",
    "beam=10\n",
    "map_pix = import_map(maps, int(beam))\n",
    "\n",
    "outputs = \"output/510u3/iv12.csv\"\n",
    "outputs2 = \"output/510u3/iv12_r.csv\"\n",
    "\n",
    "signal, signal_ring, ras_used, decs_used = extract_intensity(map_pix, ras_all, decs_all, beam)\n",
    "output_signal(signal, signal_ring, outputs, outputs2)"
   ]
  },
  {
   "cell_type": "code",
   "execution_count": null,
   "id": "8c4017c7",
   "metadata": {},
   "outputs": [],
   "source": [
    "voids = pd.read_csv('data/voids.csv',skiprows=0,index_col=0)\n",
    "ras_voids = voids['ras'].reset_index(drop=True)\n",
    "decs_voids = voids['decs'].reset_index(drop=True)\n",
    "\n",
    "ras_all = ras_voids\n",
    "decs_all = decs_voids\n",
    "\n",
    "maps = \"data/IRIS_nohole_2_2048_v2.fits\"\n",
    "beam=10\n",
    "map_pix = import_map(maps, int(beam))\n",
    "\n",
    "outputs = \"output/510u3/iv25.csv\"\n",
    "outputs2 = \"output/510u3/iv25_r.csv\"\n",
    "\n",
    "signal, signal_ring, ras_used, decs_used = extract_intensity(map_pix, ras_all, decs_all, beam)\n",
    "output_signal(signal, signal_ring, outputs, outputs2)"
   ]
  },
  {
   "cell_type": "code",
   "execution_count": null,
   "id": "39955440",
   "metadata": {},
   "outputs": [],
   "source": [
    "voids = pd.read_csv('data/voids.csv',skiprows=0,index_col=0)\n",
    "ras_voids = voids['ras'].reset_index(drop=True)\n",
    "decs_voids = voids['decs'].reset_index(drop=True)\n",
    "\n",
    "ras_all = ras_voids\n",
    "decs_all = decs_voids\n",
    "\n",
    "maps = \"data/IRIS_nohole_3_2048_v2.fits\"\n",
    "beam=10\n",
    "map_pix = import_map(maps, int(beam))\n",
    "\n",
    "outputs = \"output/510u3/iv60.csv\"\n",
    "outputs2 = \"output/510u3/iv60_r.csv\"\n",
    "\n",
    "signal, signal_ring, ras_used, decs_used = extract_intensity(map_pix, ras_all, decs_all, beam)\n",
    "output_signal(signal, signal_ring, outputs, outputs2)"
   ]
  },
  {
   "cell_type": "code",
   "execution_count": null,
   "id": "d28fdc6b",
   "metadata": {},
   "outputs": [],
   "source": [
    "voids = pd.read_csv('data/voids.csv',skiprows=0,index_col=0) \n",
    "ras_voids = voids['ras'].reset_index(drop=True)\n",
    "decs_voids = voids['decs'].reset_index(drop=True)\n",
    "\n",
    "ras_all = ras_voids\n",
    "decs_all = decs_voids\n",
    "\n",
    "maps = \"data/IRIS_nohole_4_2048_v2.fits\"\n",
    "beam=10\n",
    "map_pix = import_map(maps, int(beam))\n",
    "\n",
    "outputs = \"output/510u3/iv100.csv\"\n",
    "outputs2 = \"output/510u3/iv100_r.csv\"\n",
    "\n",
    "signal, signal_ring, ras_used, decs_used = extract_intensity(map_pix, ras_all, decs_all, beam)\n",
    "output_signal(signal, signal_ring, outputs, outputs2)"
   ]
  },
  {
   "cell_type": "code",
   "execution_count": 5,
   "id": "a6fec2d5",
   "metadata": {},
   "outputs": [
    {
     "name": "stderr",
     "output_type": "stream",
     "text": [
      "100%|██████████████████████████████████████████████████████████████████████████████████████████████████████████████████████████| 540/540 [00:00<00:00, 8401.61it/s]\n"
     ]
    }
   ],
   "source": [
    "import astropy.coordinates as coord\n",
    "from astropy.coordinates import SkyCoord\n",
    "from astropy import units as u\n",
    "from tqdm import tqdm\n",
    "\n",
    "# galactic coordinates\n",
    "glon = []\n",
    "glat = []\n",
    "for lon in tqdm(np.linspace(0,180,540)):\n",
    "    for lat in np.linspace(15,90,224):\n",
    "        glon.append(lon)\n",
    "        glat.append(lat)\n",
    "glon2 = [i*u.degree for i in glon]\n",
    "glat2 = [i*u.degree for i in glat]\n",
    "\n",
    "# convert to equitorial coordinates\n",
    "c = SkyCoord(glon2, glat2, frame='galactic')\n",
    "ras = c.icrs.ra.deg\n",
    "decs = c.icrs.dec.deg"
   ]
  },
  {
   "cell_type": "code",
   "execution_count": 3,
   "id": "935b0aa0",
   "metadata": {},
   "outputs": [],
   "source": [
    "import astropy.coordinates as coord\n",
    "from astropy.coordinates import SkyCoord\n",
    "from astropy import units as u\n",
    "\n",
    "jiggles = pd.read_csv('output/Locations/C3_wA/Allsky/jiggles_80.csv', skiprows = 0)\n",
    "# jiggles[jiggles.glon>360] = 360\n",
    "# jiggles[jiggles.glat>90] = 90\n",
    "\n",
    "glon = jiggles.glon.values\n",
    "glat = jiggles.glat.values\n",
    "\n",
    "glon2 = [i*u.degree for i in glon]\n",
    "glat2 = [i*u.degree for i in glat]\n",
    "\n",
    "c = SkyCoord(glon2, glat2, frame='galactic')\n",
    "ras = c.icrs.ra.deg\n",
    "decs = c.icrs.dec.deg"
   ]
  },
  {
   "cell_type": "code",
   "execution_count": 4,
   "id": "b7872f3d",
   "metadata": {},
   "outputs": [
    {
     "name": "stdout",
     "output_type": "stream",
     "text": [
      "Preparing SHT\n",
      "T -> alm\n",
      "float64 complex128\n",
      "Computing pixel positions\n",
      "Computing rotated positions\n",
      "Projecting\n"
     ]
    },
    {
     "name": "stderr",
     "output_type": "stream",
     "text": [
      "100%|████████████████████████████████████████████████████████████████████████████████████████████████████████████████████| 869311/869311 [3:37:41<00:00, 66.55it/s]\n"
     ]
    }
   ],
   "source": [
    "# ras_fsky = pd.read_csv('data/full_sky_ras.csv').reset_index(drop=True)\n",
    "# decs_fsky = pd.read_csv('data/full_sky_decs.csv').reset_index(drop=True)\n",
    "\n",
    "ras_all = np.array(ras)#np.array(ras)#ras_fsky['ras'].values\n",
    "decs_all = np.array(decs)#decs_fsky['decs'].values\n",
    "\n",
    "maps = \"data/IRIS_nohole_1_2048_v2.fits\"\n",
    "beam=10\n",
    "map_pix = import_map(maps, int(beam))\n",
    "\n",
    "outputs = \"output/Locations/C3_wA/Allsky/JigglesData/if12.csv\"\n",
    "outputs2 = \"output/Locations/C3_wA/Allsky/JigglesData/if12_r.csv\"\n",
    "\n",
    "signal, signal_ring, ras_used, decs_used = extract_intensity(map_pix, ras_all, decs_all, beam)\n",
    "output_signal(signal, signal_ring, outputs, outputs2)"
   ]
  },
  {
   "cell_type": "code",
   "execution_count": 5,
   "id": "a6e3b01c",
   "metadata": {},
   "outputs": [
    {
     "name": "stdout",
     "output_type": "stream",
     "text": [
      "Preparing SHT\n",
      "T -> alm\n",
      "float64 complex128\n",
      "Computing pixel positions\n",
      "Computing rotated positions\n",
      "Projecting\n"
     ]
    },
    {
     "name": "stderr",
     "output_type": "stream",
     "text": [
      "100%|████████████████████████████████████████████████████████████████████████████████████████████████████████████████████| 869311/869311 [3:30:04<00:00, 68.97it/s]\n"
     ]
    }
   ],
   "source": [
    "# ras_fsky = pd.read_csv('data/full_sky_ras.csv').reset_index(drop=True)\n",
    "# decs_fsky = pd.read_csv('data/full_sky_decs.csv').reset_index(drop=True)\n",
    "\n",
    "ras_all = np.array(ras)#np.array(ras)#ras_fsky['ras'].values\n",
    "decs_all = np.array(decs)#decs_fsky['decs'].values\n",
    "\n",
    "maps = \"data/IRIS_nohole_2_2048_v2.fits\"\n",
    "beam=10\n",
    "map_pix = import_map(maps, int(beam))\n",
    "\n",
    "outputs = \"output/Locations/C3_wA/Allsky/JigglesData/if25.csv\"\n",
    "outputs2 = \"output/Locations/C3_wA/Allsky/JigglesData/if25_r.csv\"\n",
    "\n",
    "signal, signal_ring, ras_used, decs_used = extract_intensity(map_pix, ras_all, decs_all, beam)\n",
    "output_signal(signal, signal_ring, outputs, outputs2)"
   ]
  },
  {
   "cell_type": "code",
   "execution_count": 4,
   "id": "d885e186",
   "metadata": {},
   "outputs": [
    {
     "name": "stdout",
     "output_type": "stream",
     "text": [
      "Preparing SHT\n",
      "T -> alm\n",
      "float64 complex128\n",
      "Computing pixel positions\n",
      "Computing rotated positions\n",
      "Projecting\n"
     ]
    },
    {
     "name": "stderr",
     "output_type": "stream",
     "text": [
      "100%|█████████████████████████████████████████████████████████████████████████| 869311/869311 [3:41:36<00:00, 65.38it/s]\n"
     ]
    }
   ],
   "source": [
    "# ras_fsky = pd.read_csv('data/full_sky_ras.csv').reset_index(drop=True)\n",
    "# decs_fsky = pd.read_csv('data/full_sky_decs.csv').reset_index(drop=True)\n",
    "\n",
    "ras_all = np.array(ras)#np.array(ras)#ras_fsky['ras'].values\n",
    "decs_all = np.array(decs)#decs_fsky['decs'].values\n",
    "\n",
    "maps = \"data/IRIS_nohole_3_2048_v2.fits\"\n",
    "beam=10\n",
    "map_pix = import_map(maps, int(beam))\n",
    "\n",
    "outputs = \"output/Locations/C3_wA/Allsky/JigglesData/if60.csv\"\n",
    "outputs2 = \"output/Locations/C3_wA/Allsky/JigglesData/if60_r.csv\"\n",
    "\n",
    "signal, signal_ring, ras_used, decs_used = extract_intensity(map_pix, ras_all, decs_all, beam)\n",
    "output_signal(signal, signal_ring, outputs, outputs2)"
   ]
  },
  {
   "cell_type": "code",
   "execution_count": 5,
   "id": "ac628604",
   "metadata": {},
   "outputs": [
    {
     "name": "stdout",
     "output_type": "stream",
     "text": [
      "Preparing SHT\n",
      "T -> alm\n",
      "float64 complex128\n",
      "Computing pixel positions\n",
      "Computing rotated positions\n",
      "Projecting\n"
     ]
    },
    {
     "name": "stderr",
     "output_type": "stream",
     "text": [
      "100%|████████████████████████████████████████████████████████████████████████████████████████████████████████████████████| 869311/869311 [4:11:45<00:00, 57.55it/s]\n"
     ]
    }
   ],
   "source": [
    "# ras_fsky = pd.read_csv('data/full_sky_ras.csv').reset_index(drop=True)\n",
    "# decs_fsky = pd.read_csv('data/full_sky_decs.csv').reset_index(drop=True)\n",
    "\n",
    "ras_all = np.array(ras)#np.array(ras)#ras_fsky['ras'].values\n",
    "decs_all = np.array(decs)#decs_fsky['decs'].values\n",
    "\n",
    "maps = \"data/IRIS_nohole_4_2048_v2.fits\"\n",
    "beam=10\n",
    "map_pix = import_map(maps, int(beam))\n",
    "\n",
    "outputs = \"output/Locations/C3_wA/Allsky/JigglesData/if100.csv\"\n",
    "outputs2 = \"output/Locations/C3_wA/Allsky/JigglesData/if100_r.csv\"\n",
    "\n",
    "signal, signal_ring, ras_used, decs_used = extract_intensity(map_pix, ras_all, decs_all, beam)\n",
    "output_signal(signal, signal_ring, outputs, outputs2)"
   ]
  },
  {
   "cell_type": "markdown",
   "id": "0db31942",
   "metadata": {},
   "source": [
    "## Planck"
   ]
  },
  {
   "cell_type": "markdown",
   "id": "e2186534",
   "metadata": {},
   "source": [
    "### Real"
   ]
  },
  {
   "cell_type": "code",
   "execution_count": 6,
   "id": "dc2c4a5c",
   "metadata": {},
   "outputs": [],
   "source": [
    "def import_map(filepath, beam):\n",
    "    pl = hp.read_map(filepath)\n",
    "    pl[pl<-1e23]=0\n",
    "    try:\n",
    "        shape,wcs = enmap.fullsky_geometry(res=int(beam)*utils.arcmin,proj='car')\n",
    "        map_pix = reproject.enmap_from_healpix(pl,shape=shape,wcs=wcs)\n",
    "    except:\n",
    "        shape,wcs = enmap.fullsky_geometry(res=int(beam+1)*utils.arcmin,proj='car')\n",
    "        map_pix = reproject.enmap_from_healpix(pl,shape=shape,wcs=wcs)\n",
    "    return map_pix\n",
    "\n",
    "\n",
    "def extract_intensity(map_pix, ras, decs, beam):\n",
    "    N = len(ras)\n",
    "    stack_CMB_kSZ           = 0\n",
    "    stack_CMB_kSZ_deproject = 0\n",
    "    c = 0\n",
    "\n",
    "    signal = []\n",
    "    signal_ring = []\n",
    "    ras_used = []\n",
    "    decs_used = []\n",
    "    for i in tqdm(range(N)):\n",
    "        stamp = reproject.thumbnails(map_pix,coords = np.deg2rad([decs[i], ras[i]]),r=beam*utils.arcmin)\n",
    "        stamp2 = reproject.thumbnails(map_pix,coords = np.deg2rad([decs[i], ras[i]]),r=beam*2*utils.arcmin)\n",
    "\n",
    "        if stamp is None:\n",
    "            signal.append(-9999)\n",
    "            signal_ring.append(-9999)\n",
    "        elif stamp[0][0][0]==0.0:\n",
    "            signal.append(-9999)\n",
    "            signal_ring.append(-9999)\n",
    "        else:\n",
    "            signal_sum = sum(sum(stamp[0]))\n",
    "            signal2_sum = sum(sum(stamp2[0]))\n",
    "            num_pix_signal = len(stamp[0][0])*len(stamp[0][0])\n",
    "            num_pix_signal2 = len(stamp2[0][0])*len(stamp2[0][0])            \n",
    "            signal.append(signal_sum/num_pix_signal)\n",
    "            signal_ring.append((signal2_sum-signal_sum)/(num_pix_signal2-num_pix_signal))\n",
    "        ras_used.append(ras[i])\n",
    "        decs_used.append(decs[i])\n",
    "\n",
    "    return signal, signal_ring, ras_used, decs_used\n",
    "\n",
    "\n",
    "def output_signal(signal,signal_ring,output_fp,output_fp_signal):\n",
    "    np.savetxt(output_fp,\n",
    "               signal,\n",
    "               delimiter=\", \",\n",
    "               fmt='% s')\n",
    "    np.savetxt(output_fp_signal,\n",
    "               signal_ring,\n",
    "               delimiter=\", \",\n",
    "               fmt='% s')"
   ]
  },
  {
   "cell_type": "code",
   "execution_count": null,
   "id": "be827061",
   "metadata": {},
   "outputs": [],
   "source": [
    "#real = pd.read_csv('data/union2.csv',skiprows=0,index_col=0)[::3]\n",
    "ras_real = real3['amf_ra'].reset_index(drop=True)##[real.z>0.75][::2].reset_index(drop=True)\n",
    "decs_real = real3['amf_dec'].reset_index(drop=True)##[real.z>0.75][::2].reset_index(drop=True)\n",
    "\n",
    "ras_all = ras_real\n",
    "decs_all = decs_real\n",
    "\n",
    "maps = \"data/HFI_SkyMap_100-field-IQU_2048_R3.00_full.fits\"\n",
    "beam = 10\n",
    "map_pix = import_map(maps, int(beam))\n",
    "\n",
    "outputs = \"output/510u3C3/pr100.csv\"\n",
    "outputs2 = \"output/510u3C3/pr100_r.csv\"\n",
    "\n",
    "signal, signal_ring, ras_used, decs_used = extract_intensity(map_pix, ras_all, decs_all, beam)\n",
    "output_signal(signal, signal_ring, outputs, outputs2)"
   ]
  },
  {
   "cell_type": "code",
   "execution_count": null,
   "id": "470d5268",
   "metadata": {},
   "outputs": [],
   "source": [
    "# real = pd.read_csv('data/union2.csv',skiprows=0,index_col=0)[::3]\n",
    "ras_real = real3['amf_ra'].reset_index(drop=True)##[real.z>0.75][::2].reset_index(drop=True)\n",
    "decs_real = real3['amf_dec'].reset_index(drop=True)##[real.z>0.75][::2].reset_index(drop=True)\n",
    "\n",
    "ras_all = ras_real\n",
    "decs_all = decs_real\n",
    "\n",
    "maps = \"data/HFI_SkyMap_143-field-IQU_2048_R3.00_full.fits\"\n",
    "beam = 10\n",
    "map_pix = import_map(maps, int(beam))\n",
    "\n",
    "outputs = \"output/510u3C3/pr143.csv\"\n",
    "outputs2 = \"output/510u3C3/pr143_r.csv\"\n",
    "\n",
    "signal, signal_ring, ras_used, decs_used = extract_intensity(map_pix, ras_all, decs_all, beam)\n",
    "output_signal(signal, signal_ring, outputs, outputs2)"
   ]
  },
  {
   "cell_type": "code",
   "execution_count": null,
   "id": "75eb3af7",
   "metadata": {},
   "outputs": [],
   "source": [
    "#real = pd.read_csv('data/union2.csv',skiprows=0,index_col=0)[::3]\n",
    "ras_real = real3['amf_ra'].reset_index(drop=True)##[real.z>0.75][::2].reset_index(drop=True)\n",
    "decs_real = real3['amf_dec'].reset_index(drop=True)##[real.z>0.75][::2].reset_index(drop=True)\n",
    "\n",
    "ras_all = ras_real\n",
    "decs_all = decs_real\n",
    "\n",
    "maps = \"data/HFI_SkyMap_217-field-IQU_2048_R3.00_full.fits\"\n",
    "beam = 10\n",
    "map_pix = import_map(maps, int(beam))\n",
    "\n",
    "outputs = \"output/510u3C3/pr217.csv\"\n",
    "outputs2 = \"output/510u3C3/pr217_r.csv\"\n",
    "\n",
    "signal, signal_ring, ras_used, decs_used = extract_intensity(map_pix, ras_all, decs_all, beam)\n",
    "output_signal(signal, signal_ring, outputs, outputs2)"
   ]
  },
  {
   "cell_type": "code",
   "execution_count": null,
   "id": "4bedeb40",
   "metadata": {},
   "outputs": [],
   "source": [
    "#real = pd.read_csv('data/union2.csv',skiprows=0,index_col=0)[::3]\n",
    "ras_real = real3['amf_ra'].reset_index(drop=True)##[real.z>0.75][::2].reset_index(drop=True)\n",
    "decs_real = real3['amf_dec'].reset_index(drop=True)##[real.z>0.75][::2].reset_index(drop=True)\n",
    "\n",
    "ras_all = ras_real\n",
    "decs_all = decs_real\n",
    "\n",
    "maps = \"data/HFI_SkyMap_353-psb-field-IQU_2048_R3.00_full.fits\"\n",
    "beam = 10\n",
    "map_pix = import_map(maps, int(beam))\n",
    "\n",
    "outputs = \"output/510u3C3/pr353.csv\"\n",
    "outputs2 = \"output/510u3C3/pr353_r.csv\"\n",
    "\n",
    "signal, signal_ring, ras_used, decs_used = extract_intensity(map_pix, ras_all, decs_all, beam)\n",
    "output_signal(signal, signal_ring, outputs, outputs2)"
   ]
  },
  {
   "cell_type": "code",
   "execution_count": null,
   "id": "231389e2",
   "metadata": {},
   "outputs": [],
   "source": [
    "def extract_intensity(map_pix, ras, decs, beam):\n",
    "    N = len(ras)\n",
    "    stack_CMB_kSZ           = 0\n",
    "    stack_CMB_kSZ_deproject = 0\n",
    "    c = 0\n",
    "\n",
    "    signal = []\n",
    "    signal_ring = []\n",
    "    ras_used = []\n",
    "    decs_used = []\n",
    "    for i in tqdm(range(N)):\n",
    "        dust = reproject.thumbnails(map_pix,coords = np.deg2rad([decs[i], ras[i]]),r=30*utils.arcmin)\n",
    "        stamp = reproject.thumbnails(map_pix,coords = np.deg2rad([decs[i], ras[i]]),r=beam*utils.arcmin)\n",
    "        stamp2 = reproject.thumbnails(map_pix,coords = np.deg2rad([decs[i], ras[i]]),r=2*beam*utils.arcmin)\n",
    "\n",
    "        if stamp is None:\n",
    "            signal.append(-9999)\n",
    "            signal_ring.append(-9999)\n",
    "        elif stamp[0][0][0]==0.0:\n",
    "            signal.append(-9999)\n",
    "            signal_ring.append(-9999)\n",
    "        elif dust is None:\n",
    "            signal.append(-9999)\n",
    "            signal_ring.append(-9999)\n",
    "        elif dust[0][0][0]==0.0:\n",
    "            signal.append(-9999)\n",
    "            signal_ring.append(-9999)\n",
    "        else:\n",
    "            dust_sum = sum(sum(dust[0]))\n",
    "            num_pix_dust = len(dust[0][0])*len(dust[0][0])\n",
    "            signal_sum = sum(sum(stamp[0]))\n",
    "            num_pix_signal = len(stamp[0][0])*len(stamp[0][0])\n",
    "            signal2_sum = sum(sum(stamp2[0]))\n",
    "            num_pix_signal2 = len(stamp2[0][0])*len(stamp2[0][0])            \n",
    "                        \n",
    "            signal.append((signal_sum/num_pix_signal)-(dust_sum/num_pix_dust))\n",
    "            signal_ring.append(((signal2_sum-signal_sum)/(num_pix_signal2-num_pix_signal))-(dust_sum/num_pix_dust))\n",
    "            \n",
    "        ras_used.append(ras[i])\n",
    "        decs_used.append(decs[i])\n",
    "\n",
    "    return signal, signal_ring, ras_used, decs_used"
   ]
  },
  {
   "cell_type": "code",
   "execution_count": null,
   "id": "1ecf0347",
   "metadata": {},
   "outputs": [],
   "source": [
    "#real = pd.read_csv('data/union2.csv',skiprows=0,index_col=0)[::3]\n",
    "ras_real = real3['amf_ra'].reset_index(drop=True)##[real.z>0.75][::2].reset_index(drop=True)\n",
    "decs_real = real3['amf_dec'].reset_index(drop=True)##[real.z>0.75][::2].reset_index(drop=True)\n",
    "\n",
    "ras_all = ras_real\n",
    "decs_all = decs_real\n",
    "\n",
    "maps = \"data/HFI_SkyMap_545-field-Int_2048_R3.00_full.fits\"\n",
    "beam = 10\n",
    "map_pix = import_map(maps, int(beam))\n",
    "\n",
    "outputs = \"output/510u3C3/pr545.csv\"\n",
    "outputs2 = \"output/510u3C3/pr545_r.csv\"\n",
    "\n",
    "signal, signal_ring, ras_used, decs_used = extract_intensity(map_pix, ras_all, decs_all, beam)\n",
    "output_signal(signal, signal_ring, outputs, outputs2)"
   ]
  },
  {
   "cell_type": "code",
   "execution_count": null,
   "id": "5e02427c",
   "metadata": {},
   "outputs": [],
   "source": [
    "#real = pd.read_csv('data/union2.csv',skiprows=0,index_col=0)[::3]\n",
    "ras_real = real3['amf_ra'].reset_index(drop=True)##[real.z>0.75][::2].reset_index(drop=True)\n",
    "decs_real = real3['amf_dec'].reset_index(drop=True)##[real.z>0.75][::2].reset_index(drop=True)\n",
    "\n",
    "ras_all = ras_real\n",
    "decs_all = decs_real\n",
    "\n",
    "maps = \"data/HFI_SkyMap_857-field-Int_2048_R3.00_full.fits\"\n",
    "beam = 10\n",
    "map_pix = import_map(maps, int(beam))\n",
    "\n",
    "outputs = \"output/510u3C3/pr857.csv\"\n",
    "outputs2 = \"output/510u3C3/pr857_r.csv\"\n",
    "\n",
    "signal, signal_ring, ras_used, decs_used = extract_intensity(map_pix, ras_all, decs_all, beam)\n",
    "output_signal(signal, signal_ring, outputs, outputs2)"
   ]
  },
  {
   "cell_type": "markdown",
   "id": "7b230279",
   "metadata": {},
   "source": [
    "### Non-clusters"
   ]
  },
  {
   "cell_type": "code",
   "execution_count": null,
   "id": "0bf0ce28",
   "metadata": {},
   "outputs": [],
   "source": [
    "def import_map(filepath, beam):\n",
    "    pl = hp.read_map(filepath)\n",
    "    pl[pl<-1e23]=0\n",
    "    try:\n",
    "        shape,wcs = enmap.fullsky_geometry(res=int(beam)*utils.arcmin,proj='car')\n",
    "        map_pix = reproject.enmap_from_healpix(pl,shape=shape,wcs=wcs)\n",
    "    except:\n",
    "        shape,wcs = enmap.fullsky_geometry(res=int(beam+1)*utils.arcmin,proj='car')\n",
    "        map_pix = reproject.enmap_from_healpix(pl,shape=shape,wcs=wcs)\n",
    "    return map_pix\n",
    "\n",
    "\n",
    "def extract_intensity(map_pix, ras, decs, beam):\n",
    "    N = len(ras)\n",
    "    stack_CMB_kSZ           = 0\n",
    "    stack_CMB_kSZ_deproject = 0\n",
    "    c = 0\n",
    "\n",
    "    signal = []\n",
    "    signal_ring = []\n",
    "    ras_used = []\n",
    "    decs_used = []\n",
    "    for i in tqdm(range(N)):\n",
    "        stamp = reproject.thumbnails(map_pix,coords = np.deg2rad([decs[i], ras[i]]),r=beam*utils.arcmin)\n",
    "        stamp2 = reproject.thumbnails(map_pix,coords = np.deg2rad([decs[i], ras[i]]),r=beam*2*utils.arcmin)\n",
    "\n",
    "        if stamp is None:\n",
    "            signal.append(-9999)\n",
    "            signal_ring.append(-9999)\n",
    "        elif stamp[0][0][0]==0.0:\n",
    "            signal.append(-9999)\n",
    "            signal_ring.append(-9999)\n",
    "        else:\n",
    "            signal_sum = sum(sum(stamp[0]))\n",
    "            signal2_sum = sum(sum(stamp2[0]))\n",
    "            num_pix_signal = len(stamp[0][0])*len(stamp[0][0])\n",
    "            num_pix_signal2 = len(stamp2[0][0])*len(stamp2[0][0])            \n",
    "            signal.append(signal_sum/num_pix_signal)\n",
    "            signal_ring.append((signal2_sum-signal_sum)/(num_pix_signal2-num_pix_signal))\n",
    "        ras_used.append(ras[i])\n",
    "        decs_used.append(decs[i])\n",
    "\n",
    "    return signal, signal_ring, ras_used, decs_used\n",
    "\n",
    "\n",
    "def output_signal(signal,signal_ring,output_fp,output_fp_signal):\n",
    "    np.savetxt(output_fp,\n",
    "               signal,\n",
    "               delimiter=\", \",\n",
    "               fmt='% s')\n",
    "    np.savetxt(output_fp_signal,\n",
    "               signal_ring,\n",
    "               delimiter=\", \",\n",
    "               fmt='% s')"
   ]
  },
  {
   "cell_type": "code",
   "execution_count": null,
   "id": "83e08a71",
   "metadata": {},
   "outputs": [],
   "source": [
    "voids = pd.read_csv('data/voids.csv',skiprows=0,index_col=0)\n",
    "ras_voids = voids['ras'].reset_index(drop=True)\n",
    "decs_voids = voids['decs'].reset_index(drop=True)\n",
    "\n",
    "ras_all = ras_voids\n",
    "decs_all = decs_voids\n",
    "\n",
    "maps = \"data/HFI_SkyMap_100-field-IQU_2048_R3.00_full.fits\"\n",
    "beam = 10\n",
    "map_pix = import_map(maps, int(beam))\n",
    "\n",
    "outputs = \"output/510u3C2/pv100.csv\"\n",
    "outputs2 = \"output/510u3C2/pv100_r.csv\"\n",
    "\n",
    "signal, signal_ring, ras_used, decs_used = extract_intensity(map_pix, ras_all, decs_all, beam)\n",
    "output_signal(signal, signal_ring, outputs, outputs2)"
   ]
  },
  {
   "cell_type": "code",
   "execution_count": null,
   "id": "27b843a2",
   "metadata": {},
   "outputs": [],
   "source": [
    "voids = pd.read_csv('data/voids.csv',skiprows=0,index_col=0)\n",
    "ras_voids = voids['ras'].reset_index(drop=True)\n",
    "decs_voids = voids['decs'].reset_index(drop=True)\n",
    "\n",
    "ras_all = ras_voids\n",
    "decs_all = decs_voids\n",
    "\n",
    "maps = \"data/HFI_SkyMap_143-field-IQU_2048_R3.00_full.fits\"\n",
    "beam = 10\n",
    "map_pix = import_map(maps, int(beam))\n",
    "\n",
    "outputs = \"output/510u3C2/pv143.csv\"\n",
    "outputs2 = \"output/510u3C2/pv143_r.csv\"\n",
    "\n",
    "signal, signal_ring, ras_used, decs_used = extract_intensity(map_pix, ras_all, decs_all, beam)\n",
    "output_signal(signal, signal_ring, outputs, outputs2)"
   ]
  },
  {
   "cell_type": "code",
   "execution_count": null,
   "id": "ecf0031a",
   "metadata": {},
   "outputs": [],
   "source": [
    "voids = pd.read_csv('data/voids.csv',skiprows=0,index_col=0)\n",
    "ras_voids = voids['ras'].reset_index(drop=True)\n",
    "decs_voids = voids['decs'].reset_index(drop=True)\n",
    "\n",
    "ras_all = ras_voids\n",
    "decs_all = decs_voids\n",
    "\n",
    "maps = \"data/HFI_SkyMap_217-field-IQU_2048_R3.00_full.fits\"\n",
    "beam = 10\n",
    "map_pix = import_map(maps, int(beam))\n",
    "\n",
    "outputs = \"output/510u3C2/pv217.csv\"\n",
    "outputs2 = \"output/510u3C2/pv217_r.csv\"\n",
    "\n",
    "signal, signal_ring, ras_used, decs_used = extract_intensity(map_pix, ras_all, decs_all, beam)\n",
    "output_signal(signal, signal_ring, outputs, outputs2)"
   ]
  },
  {
   "cell_type": "code",
   "execution_count": null,
   "id": "128f8af0",
   "metadata": {},
   "outputs": [],
   "source": [
    "voids = pd.read_csv('data/voids.csv',skiprows=0,index_col=0)\n",
    "ras_voids = voids['ras'].reset_index(drop=True)\n",
    "decs_voids = voids['decs'].reset_index(drop=True)\n",
    "\n",
    "ras_all = ras_voids\n",
    "decs_all = decs_voids\n",
    "\n",
    "maps = \"data/HFI_SkyMap_353-psb-field-IQU_2048_R3.00_full.fits\"\n",
    "beam = 10\n",
    "map_pix = import_map(maps, int(beam))\n",
    "\n",
    "outputs = \"output/510u3C2/pv353.csv\"\n",
    "outputs2 = \"output/510u3C2/pv353_r.csv\"\n",
    "\n",
    "signal, signal_ring, ras_used, decs_used = extract_intensity(map_pix, ras_all, decs_all, beam)\n",
    "output_signal(signal, signal_ring, outputs, outputs2)"
   ]
  },
  {
   "cell_type": "code",
   "execution_count": null,
   "id": "2bfece4e",
   "metadata": {},
   "outputs": [],
   "source": [
    "def extract_intensity(map_pix, ras, decs, beam):\n",
    "    N = len(ras)\n",
    "    stack_CMB_kSZ           = 0\n",
    "    stack_CMB_kSZ_deproject = 0\n",
    "    c = 0\n",
    "\n",
    "    signal = []\n",
    "    signal_ring = []\n",
    "    ras_used = []\n",
    "    decs_used = []\n",
    "    for i in tqdm(range(N)):\n",
    "        dust = reproject.thumbnails(map_pix,coords = np.deg2rad([decs[i], ras[i]]),r=30*utils.arcmin)\n",
    "        stamp = reproject.thumbnails(map_pix,coords = np.deg2rad([decs[i], ras[i]]),r=beam*utils.arcmin)\n",
    "        stamp2 = reproject.thumbnails(map_pix,coords = np.deg2rad([decs[i], ras[i]]),r=2*beam*utils.arcmin)\n",
    "\n",
    "        if stamp is None:\n",
    "            signal.append(-9999)\n",
    "            signal_ring.append(-9999)\n",
    "        elif stamp[0][0][0]==0.0:\n",
    "            signal.append(-9999)\n",
    "            signal_ring.append(-9999)\n",
    "        elif dust is None:\n",
    "            signal.append(-9999)\n",
    "            signal_ring.append(-9999)\n",
    "        elif dust[0][0][0]==0.0:\n",
    "            signal.append(-9999)\n",
    "            signal_ring.append(-9999)\n",
    "        else:\n",
    "            dust_sum = sum(sum(dust[0]))\n",
    "            num_pix_dust = len(dust[0][0])*len(dust[0][0])\n",
    "            signal_sum = sum(sum(stamp[0]))\n",
    "            num_pix_signal = len(stamp[0][0])*len(stamp[0][0])\n",
    "            signal2_sum = sum(sum(stamp2[0]))\n",
    "            num_pix_signal2 = len(stamp2[0][0])*len(stamp2[0][0])            \n",
    "                        \n",
    "            signal.append((signal_sum/num_pix_signal)-(dust_sum/num_pix_dust))\n",
    "            signal_ring.append(((signal2_sum-signal_sum)/(num_pix_signal2-num_pix_signal))-(dust_sum/num_pix_dust))\n",
    "            \n",
    "        ras_used.append(ras[i])\n",
    "        decs_used.append(decs[i])\n",
    "\n",
    "    return signal, signal_ring, ras_used, decs_used"
   ]
  },
  {
   "cell_type": "code",
   "execution_count": null,
   "id": "1c536d4c",
   "metadata": {},
   "outputs": [],
   "source": [
    "voids = pd.read_csv('data/voids.csv',skiprows=0,index_col=0)\n",
    "ras_voids = voids['ras'].reset_index(drop=True)\n",
    "decs_voids = voids['decs'].reset_index(drop=True)\n",
    "\n",
    "ras_all = ras_voids\n",
    "decs_all = decs_voids\n",
    "\n",
    "maps = \"data/HFI_SkyMap_545-field-Int_2048_R3.00_full.fits\"\n",
    "beam = 10\n",
    "map_pix = import_map(maps, int(beam))\n",
    "\n",
    "outputs = \"output/510u3C2/pv545.csv\"\n",
    "outputs2 = \"output/510u3C2/pv545_r.csv\"\n",
    "\n",
    "signal, signal_ring, ras_used, decs_used = extract_intensity(map_pix, ras_all, decs_all, beam)\n",
    "output_signal(signal, signal_ring, outputs, outputs2)"
   ]
  },
  {
   "cell_type": "code",
   "execution_count": null,
   "id": "e0d17a30",
   "metadata": {},
   "outputs": [],
   "source": [
    "voids = pd.read_csv('data/voids.csv',skiprows=0,index_col=0)\n",
    "ras_voids = voids['ras'].reset_index(drop=True)\n",
    "decs_voids = voids['decs'].reset_index(drop=True)\n",
    "\n",
    "ras_all = ras_voids\n",
    "decs_all = decs_voids\n",
    "\n",
    "maps = \"data/HFI_SkyMap_857-field-Int_2048_R3.00_full.fits\"\n",
    "beam = 10\n",
    "map_pix = import_map(maps, int(beam))\n",
    "\n",
    "outputs = \"output/510u3C2/pv857.csv\"\n",
    "outputs2 = \"output/510u3C2/pv857_r.csv\"\n",
    "\n",
    "signal, signal_ring, ras_used, decs_used = extract_intensity(map_pix, ras_all, decs_all, beam)\n",
    "output_signal(signal, signal_ring, outputs, outputs2)"
   ]
  },
  {
   "cell_type": "markdown",
   "id": "55c48d8a",
   "metadata": {},
   "source": [
    "---"
   ]
  },
  {
   "cell_type": "markdown",
   "id": "9fed9586",
   "metadata": {},
   "source": [
    "### Fullsky"
   ]
  },
  {
   "cell_type": "code",
   "execution_count": 74,
   "id": "578d787c",
   "metadata": {},
   "outputs": [],
   "source": [
    "import astropy.coordinates as coord\n",
    "from astropy.coordinates import SkyCoord\n",
    "from astropy import units as u\n",
    "\n",
    "# galactic coordinates\n",
    "glon = []\n",
    "glat = []\n",
    "for lon in np.linspace(0,180,540):\n",
    "    for lat in np.linspace(15,90,224):\n",
    "        glon.append(lon)\n",
    "        glat.append(lat)\n",
    "glon2 = [i*u.degree for i in glon]\n",
    "glat2 = [i*u.degree for i in glat]\n",
    "\n",
    "# convert to equitorial coordinates\n",
    "c = SkyCoord(glon2, glat2, frame='galactic')\n",
    "ras = c.icrs.ra.deg\n",
    "decs = c.icrs.dec.deg"
   ]
  },
  {
   "cell_type": "code",
   "execution_count": 2,
   "id": "bc401343",
   "metadata": {},
   "outputs": [],
   "source": [
    "def import_map(filepath, beam):\n",
    "    pl = hp.read_map(filepath)\n",
    "    pl[pl<-1e23]=0\n",
    "    try:\n",
    "        shape,wcs = enmap.fullsky_geometry(res=int(beam)*utils.arcmin,proj='car')\n",
    "        map_pix = reproject.enmap_from_healpix(pl,shape=shape,wcs=wcs)\n",
    "    except:\n",
    "        shape,wcs = enmap.fullsky_geometry(res=int(beam+1)*utils.arcmin,proj='car')\n",
    "        map_pix = reproject.enmap_from_healpix(pl,shape=shape,wcs=wcs)\n",
    "    return map_pix\n",
    "\n",
    "\n",
    "def extract_intensity(map_pix, ras, decs, beam):\n",
    "    N = len(ras)\n",
    "    stack_CMB_kSZ           = 0\n",
    "    stack_CMB_kSZ_deproject = 0\n",
    "    c = 0\n",
    "\n",
    "    signal = []\n",
    "    signal_ring = []\n",
    "    ras_used = []\n",
    "    decs_used = []\n",
    "    for i in tqdm(range(N)):\n",
    "        stamp = reproject.thumbnails(map_pix,coords = np.deg2rad([decs[i], ras[i]]),r=beam*utils.arcmin)\n",
    "        stamp2 = reproject.thumbnails(map_pix,coords = np.deg2rad([decs[i], ras[i]]),r=beam*2*utils.arcmin)\n",
    "\n",
    "        if stamp is None:\n",
    "            signal.append(-9999)\n",
    "            signal_ring.append(-9999)\n",
    "        elif stamp[0][0][0]==0.0:\n",
    "            signal.append(-9999)\n",
    "            signal_ring.append(-9999)\n",
    "        else:\n",
    "            signal_sum = sum(sum(stamp[0]))\n",
    "            signal2_sum = sum(sum(stamp2[0]))\n",
    "            num_pix_signal = len(stamp[0][0])*len(stamp[0][0])\n",
    "            num_pix_signal2 = len(stamp2[0][0])*len(stamp2[0][0])            \n",
    "            signal.append(signal_sum/num_pix_signal)\n",
    "            signal_ring.append((signal2_sum-signal_sum)/(num_pix_signal2-num_pix_signal))\n",
    "        ras_used.append(ras[i])\n",
    "        decs_used.append(decs[i])\n",
    "\n",
    "    return signal, signal_ring, ras_used, decs_used\n",
    "\n",
    "\n",
    "def output_signal(signal,signal_ring,output_fp,output_fp_signal):\n",
    "    np.savetxt(output_fp,\n",
    "               signal,\n",
    "               delimiter=\", \",\n",
    "               fmt='% s')\n",
    "    np.savetxt(output_fp_signal,\n",
    "               signal_ring,\n",
    "               delimiter=\", \",\n",
    "               fmt='% s')"
   ]
  },
  {
   "cell_type": "code",
   "execution_count": 3,
   "id": "6ec662e6",
   "metadata": {},
   "outputs": [],
   "source": [
    "import astropy.coordinates as coord\n",
    "from astropy.coordinates import SkyCoord\n",
    "from astropy import units as u\n",
    "\n",
    "# galactic coordinates\n",
    "glon = []\n",
    "glat = []\n",
    "for lon in np.linspace(180,360,540):\n",
    "    for lat in np.linspace(-15,-90,224):\n",
    "        glon.append(lon)\n",
    "        glat.append(lat)\n",
    "glon2 = [i*u.degree for i in glon]\n",
    "glat2 = [i*u.degree for i in glat]\n",
    "\n",
    "# convert to equitorial coordinates\n",
    "c = SkyCoord(glon2, glat2, frame='galactic')\n",
    "ras = c.icrs.ra.deg\n",
    "decs = c.icrs.dec.deg"
   ]
  },
  {
   "cell_type": "code",
   "execution_count": 81,
   "id": "bc97ebe2",
   "metadata": {},
   "outputs": [
    {
     "name": "stdout",
     "output_type": "stream",
     "text": [
      "Preparing SHT\n",
      "T -> alm\n",
      "float64 complex128\n",
      "Computing pixel positions\n",
      "Computing rotated positions\n",
      "Projecting\n"
     ]
    },
    {
     "name": "stderr",
     "output_type": "stream",
     "text": [
      "100%|██████████████████████████████████████████████████████████████████████████████████████████████████████████████████████| 120960/120960 [35:27<00:00, 56.86it/s]\n"
     ]
    }
   ],
   "source": [
    "# ras_fsky = pd.read_csv('data/full_sky_ras.csv').reset_index(drop=True)\n",
    "# decs_fsky = pd.read_csv('data/full_sky_decs.csv').reset_index(drop=True)\n",
    "\n",
    "ras_all = np.array(ras)#np.array(ras)#ras_fsky['ras'].values\n",
    "decs_all = np.array(decs)#decs_fsky['decs'].values\n",
    "\n",
    "maps = \"data/HFI_SkyMap_100-field-IQU_2048_R3.00_full.fits\"\n",
    "beam = 10\n",
    "map_pix = import_map(maps, int(beam))\n",
    "\n",
    "outputs = \"output/510u3Q2/pf100.csv\"\n",
    "outputs2 = \"output/510u3Q2/pf100_r.csv\"\n",
    "\n",
    "signal, signal_ring, ras_used, decs_used = extract_intensity(map_pix, ras_all, decs_all, beam)\n",
    "output_signal(signal, signal_ring, outputs, outputs2)"
   ]
  },
  {
   "cell_type": "code",
   "execution_count": 82,
   "id": "ae6a7dd5",
   "metadata": {},
   "outputs": [
    {
     "name": "stdout",
     "output_type": "stream",
     "text": [
      "Preparing SHT\n",
      "T -> alm\n",
      "float64 complex128\n",
      "Computing pixel positions\n",
      "Computing rotated positions\n",
      "Projecting\n"
     ]
    },
    {
     "name": "stderr",
     "output_type": "stream",
     "text": [
      "100%|██████████████████████████████████████████████████████████████████████████████████████████████████████████████████████| 120960/120960 [35:20<00:00, 57.05it/s]\n"
     ]
    }
   ],
   "source": [
    "# ras_fsky = pd.read_csv('data/full_sky_ras.csv').reset_index(drop=True)\n",
    "# decs_fsky = pd.read_csv('data/full_sky_decs.csv').reset_index(drop=True)\n",
    "\n",
    "ras_all = np.array(ras)#np.array(ras)#ras_fsky['ras'].values\n",
    "decs_all = np.array(decs)#decs_fsky['decs'].values\n",
    "\n",
    "maps = \"data/HFI_SkyMap_143-field-IQU_2048_R3.00_full.fits\"\n",
    "beam = 10\n",
    "map_pix = import_map(maps, int(beam))\n",
    "\n",
    "outputs = \"output/510u3Q2/pf143.csv\"\n",
    "outputs2 = \"output/510u3Q2/pf143_r.csv\"\n",
    "\n",
    "signal, signal_ring, ras_used, decs_used = extract_intensity(map_pix, ras_all, decs_all, beam)\n",
    "output_signal(signal, signal_ring, outputs, outputs2)"
   ]
  },
  {
   "cell_type": "code",
   "execution_count": 83,
   "id": "1963ab44",
   "metadata": {},
   "outputs": [
    {
     "name": "stdout",
     "output_type": "stream",
     "text": [
      "Preparing SHT\n",
      "T -> alm\n",
      "float64 complex128\n",
      "Computing pixel positions\n",
      "Computing rotated positions\n",
      "Projecting\n"
     ]
    },
    {
     "name": "stderr",
     "output_type": "stream",
     "text": [
      "100%|██████████████████████████████████████████████████████████████████████████████████████████████████████████████████████| 120960/120960 [35:51<00:00, 56.22it/s]\n"
     ]
    }
   ],
   "source": [
    "# ras_fsky = pd.read_csv('data/full_sky_ras.csv').reset_index(drop=True)\n",
    "# decs_fsky = pd.read_csv('data/full_sky_decs.csv').reset_index(drop=True)\n",
    "\n",
    "ras_all = np.array(ras)#np.array(ras)#ras_fsky['ras'].values\n",
    "decs_all = np.array(decs)#decs_fsky['decs'].values\n",
    "\n",
    "maps = \"data/HFI_SkyMap_217-field-IQU_2048_R3.00_full.fits\"\n",
    "beam = 10\n",
    "map_pix = import_map(maps, int(beam))\n",
    "\n",
    "outputs = \"output/510u3Q2/pf217.csv\"\n",
    "outputs2 = \"output/510u3Q2/pf217_r.csv\"\n",
    "\n",
    "signal, signal_ring, ras_used, decs_used = extract_intensity(map_pix, ras_all, decs_all, beam)\n",
    "output_signal(signal, signal_ring, outputs, outputs2)"
   ]
  },
  {
   "cell_type": "code",
   "execution_count": 84,
   "id": "bdc8043d",
   "metadata": {},
   "outputs": [
    {
     "name": "stdout",
     "output_type": "stream",
     "text": [
      "Preparing SHT\n",
      "T -> alm\n",
      "float64 complex128\n",
      "Computing pixel positions\n",
      "Computing rotated positions\n",
      "Projecting\n"
     ]
    },
    {
     "name": "stderr",
     "output_type": "stream",
     "text": [
      "100%|██████████████████████████████████████████████████████████████████████████████████████████████████████████████████████| 120960/120960 [36:29<00:00, 55.25it/s]\n"
     ]
    }
   ],
   "source": [
    "# ras_fsky = pd.read_csv('data/full_sky_ras.csv').reset_index(drop=True)\n",
    "# decs_fsky = pd.read_csv('data/full_sky_decs.csv').reset_index(drop=True)\n",
    "\n",
    "ras_all = np.array(ras)#np.array(ras)#ras_fsky['ras'].values\n",
    "decs_all = np.array(decs)#decs_fsky['decs'].values\n",
    "\n",
    "maps = \"data/HFI_SkyMap_353-psb-field-IQU_2048_R3.00_full.fits\"\n",
    "beam = 10\n",
    "map_pix = import_map(maps, int(beam))\n",
    "\n",
    "outputs = \"output/510u3Q2/pf353.csv\"\n",
    "outputs2 = \"output/510u3Q2/pf353_r.csv\"\n",
    "\n",
    "signal, signal_ring, ras_used, decs_used = extract_intensity(map_pix, ras_all, decs_all, beam)\n",
    "output_signal(signal, signal_ring, outputs, outputs2)"
   ]
  },
  {
   "cell_type": "code",
   "execution_count": 4,
   "id": "453eb1c7",
   "metadata": {},
   "outputs": [],
   "source": [
    "def extract_intensity(map_pix, ras, decs, beam):\n",
    "    N = len(ras)\n",
    "    stack_CMB_kSZ           = 0\n",
    "    stack_CMB_kSZ_deproject = 0\n",
    "    c = 0\n",
    "\n",
    "    signal = []\n",
    "    signal_ring = []\n",
    "    ras_used = []\n",
    "    decs_used = []\n",
    "    for i in tqdm(range(N)):\n",
    "        dust = reproject.thumbnails(map_pix,coords = np.deg2rad([decs[i], ras[i]]),r=30*utils.arcmin)\n",
    "        stamp = reproject.thumbnails(map_pix,coords = np.deg2rad([decs[i], ras[i]]),r=beam*utils.arcmin)\n",
    "        stamp2 = reproject.thumbnails(map_pix,coords = np.deg2rad([decs[i], ras[i]]),r=2*beam*utils.arcmin)\n",
    "\n",
    "        if stamp is None:\n",
    "            signal.append(-9999)\n",
    "            signal_ring.append(-9999)\n",
    "        elif stamp[0][0][0]==0.0:\n",
    "            signal.append(-9999)\n",
    "            signal_ring.append(-9999)\n",
    "        elif dust is None:\n",
    "            signal.append(-9999)\n",
    "            signal_ring.append(-9999)\n",
    "        elif dust[0][0][0]==0.0:\n",
    "            signal.append(-9999)\n",
    "            signal_ring.append(-9999)\n",
    "        else:\n",
    "            dust_sum = sum(sum(dust[0]))\n",
    "            num_pix_dust = len(dust[0][0])*len(dust[0][0])\n",
    "            signal_sum = sum(sum(stamp[0]))\n",
    "            num_pix_signal = len(stamp[0][0])*len(stamp[0][0])\n",
    "            signal2_sum = sum(sum(stamp2[0]))\n",
    "            num_pix_signal2 = len(stamp2[0][0])*len(stamp2[0][0])            \n",
    "                        \n",
    "            signal.append((signal_sum/num_pix_signal)-(dust_sum/num_pix_dust))\n",
    "            signal_ring.append(((signal2_sum-signal_sum)/(num_pix_signal2-num_pix_signal))-(dust_sum/num_pix_dust))\n",
    "            \n",
    "        ras_used.append(ras[i])\n",
    "        decs_used.append(decs[i])\n",
    "\n",
    "    return signal, signal_ring, ras_used, decs_used"
   ]
  },
  {
   "cell_type": "code",
   "execution_count": 90,
   "id": "9337c9c7",
   "metadata": {},
   "outputs": [
    {
     "name": "stdout",
     "output_type": "stream",
     "text": [
      "Preparing SHT\n",
      "T -> alm\n",
      "float64 complex128\n",
      "Computing pixel positions\n",
      "Computing rotated positions\n",
      "Projecting\n"
     ]
    },
    {
     "name": "stderr",
     "output_type": "stream",
     "text": [
      "100%|██████████████████████████████████████████████████████████████████████████████████████████████████████████████████████| 120960/120960 [54:20<00:00, 37.10it/s]\n"
     ]
    }
   ],
   "source": [
    "# ras_fsky = pd.read_csv('data/full_sky_ras.csv').reset_index(drop=True)\n",
    "# decs_fsky = pd.read_csv('data/full_sky_decs.csv').reset_index(drop=True)\n",
    "\n",
    "ras_all = np.array(ras)#np.array(ras)#ras_fsky['ras'].values\n",
    "decs_all = np.array(decs)#decs_fsky['decs'].values\n",
    "\n",
    "maps = \"data/HFI_SkyMap_545-field-Int_2048_R3.00_full.fits\"\n",
    "beam = 10\n",
    "map_pix = import_map(maps, int(beam))\n",
    "\n",
    "outputs = \"output/510u3Q4/pf545.csv\"\n",
    "outputs2 = \"output/510u3Q4/pf545_r.csv\"\n",
    "\n",
    "signal, signal_ring, ras_used, decs_used = extract_intensity(map_pix, ras_all, decs_all, beam)\n",
    "output_signal(signal, signal_ring, outputs, outputs2)"
   ]
  },
  {
   "cell_type": "code",
   "execution_count": 5,
   "id": "09a8fe0e",
   "metadata": {},
   "outputs": [
    {
     "name": "stdout",
     "output_type": "stream",
     "text": [
      "Preparing SHT\n",
      "T -> alm\n",
      "float64 complex128\n",
      "Computing pixel positions\n",
      "Computing rotated positions\n",
      "Projecting\n"
     ]
    },
    {
     "name": "stderr",
     "output_type": "stream",
     "text": [
      "100%|███████████████████████████████████████████████████████████████████████████| 120960/120960 [48:55<00:00, 41.21it/s]\n"
     ]
    }
   ],
   "source": [
    "# ras_fsky = pd.read_csv('data/full_sky_ras.csv').reset_index(drop=True)\n",
    "# decs_fsky = pd.read_csv('data/full_sky_decs.csv').reset_index(drop=True)\n",
    "\n",
    "ras_all = np.array(ras)#np.array(ras)#ras_fsky['ras'].values\n",
    "decs_all = np.array(decs)#decs_fsky['decs'].values\n",
    "\n",
    "maps = \"data/HFI_SkyMap_857-field-Int_2048_R3.00_full.fits\"\n",
    "beam = 10\n",
    "map_pix = import_map(maps, int(beam))\n",
    "\n",
    "outputs = \"output/510u3Q4/pf857.csv\"\n",
    "outputs2 = \"output/510u3Q4/pf857_r.csv\"\n",
    "\n",
    "signal, signal_ring, ras_used, decs_used = extract_intensity(map_pix, ras_all, decs_all, beam)\n",
    "output_signal(signal, signal_ring, outputs, outputs2)"
   ]
  },
  {
   "cell_type": "code",
   "execution_count": 72,
   "id": "6e68b29c",
   "metadata": {
    "scrolled": true
   },
   "outputs": [
    {
     "data": {
      "text/plain": [
       "120884"
      ]
     },
     "execution_count": 72,
     "metadata": {},
     "output_type": "execute_result"
    }
   ],
   "source": [
    "signal_pd = pd.Series(signal)\n",
    "values = signal_pd[signal_pd == -9999].index\n",
    "120960-len(values)"
   ]
  },
  {
   "cell_type": "markdown",
   "id": "7160cdce",
   "metadata": {},
   "source": [
    "---"
   ]
  },
  {
   "cell_type": "markdown",
   "id": "2ca5ca15",
   "metadata": {},
   "source": [
    "### ACT"
   ]
  },
  {
   "cell_type": "markdown",
   "id": "1dc42c1f",
   "metadata": {},
   "source": [
    "### Real"
   ]
  },
  {
   "cell_type": "code",
   "execution_count": 4,
   "id": "9a834b45",
   "metadata": {},
   "outputs": [],
   "source": [
    "# Import map is not used in ACT calcs below, so it is same as planck. Refer to cluster code for short updated version\n",
    "\n",
    "def import_map(filepath, beam):\n",
    "    pl = hp.read_map(filepath)\n",
    "    pl[pl<-1e23]=0\n",
    "    try:\n",
    "        shape,wcs = enmap.fullsky_geometry(res=int(beam)*utils.arcmin,proj='car')\n",
    "        map_pix = reproject.enmap_from_healpix(pl,shape=shape,wcs=wcs)\n",
    "    except:\n",
    "        shape,wcs = enmap.fullsky_geometry(res=int(beam+1)*utils.arcmin,proj='car')\n",
    "        map_pix = reproject.enmap_from_healpix(pl,shape=shape,wcs=wcs)\n",
    "    return map_pix\n",
    "\n",
    "\n",
    "def extract_intensity(map_pix, ras, decs, beam):\n",
    "    N = len(ras)\n",
    "    stack_CMB_kSZ           = 0\n",
    "    stack_CMB_kSZ_deproject = 0\n",
    "    c = 0\n",
    "\n",
    "    signal = []\n",
    "    signal_ring = []\n",
    "    ras_used = []\n",
    "    decs_used = []\n",
    "    for i in tqdm(range(N)):\n",
    "        stamp = reproject.thumbnails(map_pix,coords = np.deg2rad([decs[i], ras[i]]),r=beam*utils.arcmin)\n",
    "        stamp2 = reproject.thumbnails(map_pix,coords = np.deg2rad([decs[i], ras[i]]),r=beam*2*utils.arcmin)\n",
    "\n",
    "        if stamp is None:\n",
    "            signal.append(-9999)\n",
    "            signal_ring.append(-9999)\n",
    "        elif stamp[0][0][0]==0.0:\n",
    "            signal.append(-9999)\n",
    "            signal_ring.append(-9999)\n",
    "        else:\n",
    "            signal_sum = sum(sum(stamp[0]))\n",
    "            signal2_sum = sum(sum(stamp2[0]))\n",
    "            num_pix_signal = len(stamp[0][0])*len(stamp[0][0])\n",
    "            num_pix_signal2 = len(stamp2[0][0])*len(stamp2[0][0])            \n",
    "            signal.append(signal_sum/num_pix_signal)\n",
    "            signal_ring.append((signal2_sum-signal_sum)/(num_pix_signal2-num_pix_signal))\n",
    "        ras_used.append(ras[i])\n",
    "        decs_used.append(decs[i])\n",
    "\n",
    "    return signal, signal_ring, ras_used, decs_used\n",
    "\n",
    "\n",
    "def output_signal(signal,signal_ring,output_fp,output_fp_signal):\n",
    "    np.savetxt(output_fp,\n",
    "               signal,\n",
    "               delimiter=\", \",\n",
    "               fmt='% s')\n",
    "    np.savetxt(output_fp_signal,\n",
    "               signal_ring,\n",
    "               delimiter=\", \",\n",
    "               fmt='% s')"
   ]
  },
  {
   "cell_type": "code",
   "execution_count": null,
   "id": "4fed0c5d",
   "metadata": {},
   "outputs": [],
   "source": [
    "# real = pd.read_csv('data/union2.csv',skiprows=0,index_col=0)[::3]\n",
    "ras_real = real3['amf_ra'].reset_index(drop=True)##[real.z>0.75][::2].reset_index(drop=True)\n",
    "decs_real = real3['amf_dec'].reset_index(drop=True)##[real.z>0.75][::2].reset_index(drop=True)\n",
    "\n",
    "ras_all = ras_real\n",
    "decs_all = decs_real\n",
    "\n",
    "beam = 5\n",
    "map_pix = enmap.read_map(\"data/act_dr5.01_s08s18_AA_f090_daynight_map.fits\")\n",
    "outputs = \"output/510u3C3/ar90.csv\"\n",
    "outputs2 = \"output/510u3C3/ar90_r.csv\"\n",
    "\n",
    "signal, signal_ring, ras_used, decs_used = extract_intensity(map_pix, ras_all, decs_all, beam)\n",
    "output_signal(signal, signal_ring, outputs, outputs2)"
   ]
  },
  {
   "cell_type": "code",
   "execution_count": null,
   "id": "935f247d",
   "metadata": {},
   "outputs": [],
   "source": [
    "# real = pd.read_csv('data/union2.csv',skiprows=0,index_col=0)[::3]\n",
    "ras_real = real3['amf_ra'].reset_index(drop=True)##[real.z>0.75][::2].reset_index(drop=True)\n",
    "decs_real = real3['amf_dec'].reset_index(drop=True)##[real.z>0.75][::2].reset_index(drop=True)\n",
    "\n",
    "ras_all = ras_real\n",
    "decs_all = decs_real\n",
    "\n",
    "beam = 5\n",
    "map_pix = enmap.read_map(\"data/act_dr5.01_s08s18_AA_f150_daynight_map.fits\")\n",
    "outputs = \"output/510u3C3/ar150.csv\"\n",
    "outputs2 = \"output/510u3C3/ar150_r.csv\"\n",
    "\n",
    "signal, signal_ring, ras_used, decs_used = extract_intensity(map_pix, ras_all, decs_all, beam)\n",
    "output_signal(signal, signal_ring, outputs, outputs2)"
   ]
  },
  {
   "cell_type": "code",
   "execution_count": null,
   "id": "16e69809",
   "metadata": {},
   "outputs": [],
   "source": [
    "# real = pd.read_csv('data/union2.csv',skiprows=0,index_col=0)[::3]\n",
    "ras_real = real3['amf_ra'].reset_index(drop=True)##[real.z>0.75][::2].reset_index(drop=True)\n",
    "decs_real = real3['amf_dec'].reset_index(drop=True)##[real.z>0.75][::2].reset_index(drop=True)\n",
    "\n",
    "ras_all = ras_real\n",
    "decs_all = decs_real\n",
    "\n",
    "beam = 5\n",
    "map_pix = enmap.read_map(\"data/act_dr5.01_s08s18_AA_f220_daynight_map.fits\")\n",
    "outputs = \"output/510u3C3/ar220.csv\"\n",
    "outputs2 = \"output/510u3C3/ar220_r.csv\"\n",
    "\n",
    "signal, signal_ring, ras_used, decs_used = extract_intensity(map_pix, ras_all, decs_all, beam)\n",
    "output_signal(signal, signal_ring, outputs, outputs2)"
   ]
  },
  {
   "cell_type": "markdown",
   "id": "274dd483",
   "metadata": {},
   "source": [
    "### Non-clusters"
   ]
  },
  {
   "cell_type": "code",
   "execution_count": null,
   "id": "e695d7d2",
   "metadata": {},
   "outputs": [],
   "source": [
    "voids = pd.read_csv('data/voids.csv',skiprows=0,index_col=0)\n",
    "ras_voids = voids['ras'].reset_index(drop=True)\n",
    "decs_voids = voids['decs'].reset_index(drop=True)\n",
    "\n",
    "ras_all = ras_voids\n",
    "decs_all = decs_voids\n",
    "\n",
    "beam = 5\n",
    "map_pix = enmap.read_map(\"data/act_dr5.01_s08s18_AA_f090_daynight_map.fits\")\n",
    "outputs = \"output/510u3/av90.csv\"\n",
    "outputs2 = \"output/510u3/av90_r.csv\"\n",
    "\n",
    "signal, signal_ring, ras_used, decs_used = extract_intensity(map_pix, ras_all, decs_all, beam)\n",
    "output_signal(signal, signal_ring, outputs, outputs2)"
   ]
  },
  {
   "cell_type": "code",
   "execution_count": null,
   "id": "3f007a01",
   "metadata": {},
   "outputs": [],
   "source": [
    "voids = pd.read_csv('data/voids.csv',skiprows=0,index_col=0)\n",
    "ras_voids = voids['ras'].reset_index(drop=True)\n",
    "decs_voids = voids['decs'].reset_index(drop=True)\n",
    "\n",
    "ras_all = ras_voids\n",
    "decs_all = decs_voids\n",
    "\n",
    "beam = 5\n",
    "map_pix = enmap.read_map(\"data/act_dr5.01_s08s18_AA_f150_daynight_map.fits\")\n",
    "outputs = \"output/510u3/av150.csv\"\n",
    "outputs2 = \"output/510u3/av150_r.csv\"\n",
    "\n",
    "signal, signal_ring, ras_used, decs_used = extract_intensity(map_pix, ras_all, decs_all, beam)\n",
    "output_signal(signal, signal_ring, outputs, outputs2)"
   ]
  },
  {
   "cell_type": "code",
   "execution_count": null,
   "id": "dd02bd09",
   "metadata": {},
   "outputs": [],
   "source": [
    "voids = pd.read_csv('data/voids.csv',skiprows=0,index_col=0)\n",
    "ras_voids = voids['ras'].reset_index(drop=True)\n",
    "decs_voids = voids['decs'].reset_index(drop=True)\n",
    "\n",
    "ras_all = ras_voids\n",
    "decs_all = decs_voids\n",
    "\n",
    "beam = 5\n",
    "map_pix = enmap.read_map(\"data/act_dr5.01_s08s18_AA_f220_daynight_map.fits\")\n",
    "outputs = \"output/510u3/av220.csv\"\n",
    "outputs2 = \"output/510u3/av220_r.csv\"\n",
    "\n",
    "signal, signal_ring, ras_used, decs_used = extract_intensity(map_pix, ras_all, decs_all, beam)\n",
    "output_signal(signal, signal_ring, outputs, outputs2)"
   ]
  },
  {
   "cell_type": "markdown",
   "id": "650c9e9c",
   "metadata": {},
   "source": [
    "---"
   ]
  },
  {
   "cell_type": "markdown",
   "id": "09b78f44",
   "metadata": {},
   "source": [
    "### Fullsky"
   ]
  },
  {
   "cell_type": "code",
   "execution_count": null,
   "id": "f5d90604",
   "metadata": {},
   "outputs": [],
   "source": [
    "import astropy.coordinates as coord\n",
    "from astropy.coordinates import SkyCoord\n",
    "from astropy import units as u\n",
    "from tqdm import tqdm\n",
    "\n",
    "# galactic coordinates\n",
    "glon = []\n",
    "glat = []\n",
    "for lon in tqdm(np.linspace(180,360,1079)):\n",
    "    for lat in np.linspace(15,90,449):\n",
    "        if (lat >= -15) & (lat <= 15):\n",
    "            continue\n",
    "        glon.append(lon)\n",
    "        glat.append(lat)\n",
    "glon2 = [i*u.degree for i in glon]\n",
    "glat2 = [i*u.degree for i in glat]\n",
    "\n",
    "# convert to equitorial coordinates\n",
    "c = SkyCoord(glon2, glat2, frame='galactic')\n",
    "ras = c.icrs.ra.deg\n",
    "decs = c.icrs.dec.deg"
   ]
  },
  {
   "cell_type": "code",
   "execution_count": 5,
   "id": "e3e5caf2",
   "metadata": {},
   "outputs": [],
   "source": [
    "import astropy.coordinates as coord\n",
    "from astropy.coordinates import SkyCoord\n",
    "from astropy import units as u\n",
    "\n",
    "jiggles = pd.read_csv('output/Locations/C3_wA/Allsky/jiggles_80.csv', skiprows = 0)\n",
    "# jiggles[jiggles.glon>360] = 360\n",
    "# jiggles[jiggles.glat>90] = 90\n",
    "\n",
    "glon = jiggles.glon.values\n",
    "glat = jiggles.glat.values\n",
    "\n",
    "glon2 = [i*u.degree for i in glon]\n",
    "glat2 = [i*u.degree for i in glat]\n",
    "\n",
    "c = SkyCoord(glon2, glat2, frame='galactic')\n",
    "ras = c.icrs.ra.deg\n",
    "decs = c.icrs.dec.deg"
   ]
  },
  {
   "cell_type": "code",
   "execution_count": null,
   "id": "b235750c",
   "metadata": {},
   "outputs": [
    {
     "name": "stderr",
     "output_type": "stream",
     "text": [
      " 19%|█████████████                                                         | 161502/869311 [3:20:57<17:18:07, 11.36it/s]"
     ]
    }
   ],
   "source": [
    "# ras_fsky = pd.read_csv('data/full_sky_ras.csv').reset_index(drop=True)\n",
    "# decs_fsky = pd.read_csv('data/full_sky_decs.csv').reset_index(drop=True)\n",
    "\n",
    "ras_all = np.array(ras)#np.array(ras)#ras_fsky['ras'].values\n",
    "decs_all = np.array(decs)#decs_fsky['decs'].values\n",
    "\n",
    "beam = 5\n",
    "map_pix = enmap.read_map(\"data/act_dr5.01_s08s18_AA_f090_daynight_map.fits\")\n",
    "outputs = \"output/Locations/C3_wA/Allsky/JigglesData/af90.csv\"\n",
    "outputs2 = \"output/Locations/C3_wA/Allsky/JigglesData/af90_r.csv\"\n",
    "\n",
    "signal, signal_ring, ras_used, decs_used = extract_intensity(map_pix, ras_all, decs_all, beam)\n",
    "output_signal(signal, signal_ring, outputs, outputs2)"
   ]
  },
  {
   "cell_type": "code",
   "execution_count": null,
   "id": "f4d3836c",
   "metadata": {},
   "outputs": [],
   "source": [
    "# ras_fsky = pd.read_csv('data/full_sky_ras.csv').reset_index(drop=True)\n",
    "# decs_fsky = pd.read_csv('data/full_sky_decs.csv').reset_index(drop=True)\n",
    "\n",
    "ras_all = np.array(ras)#np.array(ras)#ras_fsky['ras'].values\n",
    "decs_all = np.array(decs)#decs_fsky['decs'].values\n",
    "\n",
    "beam = 5\n",
    "map_pix = enmap.read_map(\"data/act_dr5.01_s08s18_AA_f150_daynight_map.fits\")\n",
    "outputs = \"output/Locations/C3_wA/Allsky/JigglesData/af150.csv\"\n",
    "outputs2 = \"output/Locations/C3_wA/Allsky/JigglesData/af150_r.csv\"\n",
    "\n",
    "signal, signal_ring, ras_used, decs_used = extract_intensity(map_pix, ras_all, decs_all, beam)\n",
    "output_signal(signal, signal_ring, outputs, outputs2)"
   ]
  },
  {
   "cell_type": "code",
   "execution_count": null,
   "id": "354de666",
   "metadata": {},
   "outputs": [],
   "source": [
    "# ras_fsky = pd.read_csv('data/full_sky_ras.csv').reset_index(drop=True)\n",
    "# decs_fsky = pd.read_csv('data/full_sky_decs.csv').reset_index(drop=True)\n",
    "\n",
    "ras_all = np.array(ras)#np.array(ras)#ras_fsky['ras'].values\n",
    "decs_all = np.array(decs)#decs_fsky['decs'].values\n",
    "\n",
    "beam = 5\n",
    "map_pix = enmap.read_map(\"data/act_dr5.01_s08s18_AA_f220_daynight_map.fits\")\n",
    "outputs = \"output/Locations/C3_wA/Allsky/JigglesData/af220.csv\"\n",
    "outputs2 = \"output/Locations/C3_wA/Allsky/JigglesData/af220_r.csv\"\n",
    "\n",
    "signal, signal_ring, ras_used, decs_used = extract_intensity(map_pix, ras_all, decs_all, beam)\n",
    "output_signal(signal, signal_ring, outputs, outputs2)"
   ]
  },
  {
   "cell_type": "markdown",
   "id": "f1431f66",
   "metadata": {},
   "source": [
    "---"
   ]
  },
  {
   "cell_type": "markdown",
   "id": "37e60643",
   "metadata": {},
   "source": [
    "## Rosat"
   ]
  },
  {
   "cell_type": "markdown",
   "id": "ae6ca883",
   "metadata": {},
   "source": [
    "### Real"
   ]
  },
  {
   "cell_type": "code",
   "execution_count": null,
   "id": "d2c347ba",
   "metadata": {},
   "outputs": [],
   "source": [
    "def import_map(beam):\n",
    "    ros = hp.read_map(\"data/rass_healpix_countsec.fits\")\n",
    "    mask = hp.read_map(\"data/mask_comprass.fits\")\n",
    "\n",
    "    ros[ros<-1e23]=0\n",
    "\n",
    "    masked_ros = []\n",
    "    for i in tqdm(range(len(mask))):\n",
    "        masked_ros.append(0)\n",
    "        if mask[i]:\n",
    "            masked_ros[i]=ros[i]\n",
    "\n",
    "    masked_ros = np.array(masked_ros)\n",
    "\n",
    "    shape,wcs = enmap.fullsky_geometry(res=beam * utils.arcmin,proj='car')\n",
    "    map_pix = reproject.enmap_from_healpix(masked_ros,shape=shape,wcs=wcs)\n",
    "\n",
    "    return map_pix"
   ]
  },
  {
   "cell_type": "code",
   "execution_count": null,
   "id": "4b14582b",
   "metadata": {},
   "outputs": [],
   "source": [
    "real = pd.read_csv('data/union2.csv',skiprows=0,index_col=0)[::3]\n",
    "ras_real = real['amf_ra'].reset_index(drop=True)##[real.z>0.75][::2].reset_index(drop=True)\n",
    "decs_real = real['amf_dec'].reset_index(drop=True)##[real.z>0.75][::2].reset_index(drop=True)\n",
    "\n",
    "ras_all = ras_real\n",
    "decs_all = decs_real\n",
    "\n",
    "beam = 5\n",
    "map_pix = import_map(int(beam))\n",
    "outputs = \"output/510u3/rr.csv\"\n",
    "outputs2 = \"output/510u3/rr_r.csv\"\n",
    "\n",
    "signal, signal_ring, ras_used, decs_used = extract_intensity(map_pix, ras_all, decs_all, beam)\n",
    "output_signal(signal, signal_ring, outputs, outputs2)"
   ]
  },
  {
   "cell_type": "code",
   "execution_count": null,
   "id": "67e3757c",
   "metadata": {
    "scrolled": false
   },
   "outputs": [],
   "source": [
    "voids = pd.read_csv('data/voids.csv',skiprows=0,index_col=0)\n",
    "ras_voids = voids['ras'].reset_index(drop=True)\n",
    "decs_voids = voids['decs'].reset_index(drop=True)\n",
    "\n",
    "ras_all = ras_voids\n",
    "decs_all = decs_voids\n",
    "\n",
    "beam = 5\n",
    "map_pix = import_map(int(beam))\n",
    "outputs = \"output/510u3/rv.csv\"\n",
    "outputs2 = \"output/510u3/rv_r.csv\"\n",
    "\n",
    "signal, signal_ring, ras_used, decs_used = extract_intensity(map_pix, ras_all, decs_all, beam)\n",
    "output_signal(signal, signal_ring, outputs, outputs2)"
   ]
  },
  {
   "cell_type": "code",
   "execution_count": null,
   "id": "162f030f",
   "metadata": {},
   "outputs": [],
   "source": [
    "import astropy.coordinates as coord\n",
    "from astropy.coordinates import SkyCoord\n",
    "from astropy import units as u\n",
    "from tqdm import tqdm\n",
    "\n",
    "# galactic coordinates\n",
    "glon = []\n",
    "glat = []\n",
    "for lon in tqdm(np.linspace(180,360,1079)):\n",
    "    for lat in np.linspace(15,90,449):\n",
    "        if (lat >= -15) & (lat <= 15):\n",
    "            continue\n",
    "        glon.append(lon)\n",
    "        glat.append(lat)\n",
    "glon2 = [i*u.degree for i in glon]\n",
    "glat2 = [i*u.degree for i in glat]\n",
    "\n",
    "# convert to equitorial coordinates\n",
    "c = SkyCoord(glon2, glat2, frame='galactic')\n",
    "ras = c.icrs.ra.deg\n",
    "decs = c.icrs.dec.deg"
   ]
  },
  {
   "cell_type": "code",
   "execution_count": null,
   "id": "523078e7",
   "metadata": {
    "scrolled": true
   },
   "outputs": [],
   "source": [
    "ras_fsky = pd.read_csv('data/full_sky_ras.csv').reset_index(drop=True)\n",
    "decs_fsky = pd.read_csv('data/full_sky_decs.csv').reset_index(drop=True)\n",
    "\n",
    "ras_all = np.array(ras)#np.array(ras)#ras_fsky['ras'].values\n",
    "decs_all = np.array(decs)#decs_fsky['decs'].values\n",
    "\n",
    "beam = 5\n",
    "map_pix = import_map(int(beam))\n",
    "outputs = \"output/510u3/rf.csv\"\n",
    "outputs2 = \"output/510u3/rf_r.csv\"\n",
    "\n",
    "signal, signal_ring, ras_used, decs_used = extract_intensity(map_pix, ras_all, decs_all, beam)\n",
    "output_signal(signal, signal_ring, outputs, outputs2)"
   ]
  },
  {
   "cell_type": "code",
   "execution_count": null,
   "id": "85c4ee74",
   "metadata": {},
   "outputs": [],
   "source": []
  }
 ],
 "metadata": {
  "kernelspec": {
   "display_name": "Python 3 (ipykernel)",
   "language": "python",
   "name": "python3"
  },
  "language_info": {
   "codemirror_mode": {
    "name": "ipython",
    "version": 3
   },
   "file_extension": ".py",
   "mimetype": "text/x-python",
   "name": "python",
   "nbconvert_exporter": "python",
   "pygments_lexer": "ipython3",
   "version": "3.10.9"
  }
 },
 "nbformat": 4,
 "nbformat_minor": 5
}
