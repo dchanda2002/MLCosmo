{
 "cells": [
  {
   "cell_type": "code",
   "execution_count": 1,
   "id": "46dce81b",
   "metadata": {},
   "outputs": [],
   "source": [
    "from FastMapSVM.fastmapsvm import FastMapSVM\n",
    "import sys\n",
    "#sys.path.append(\"..\") #Please adjust the code based on the path of fastmapsvm.py.\n",
    "import numpy as np\n",
    "import editdistance\n",
    "import pandas as pd\n",
    "from scipy.spatial import distance\n",
    "from tqdm import tqdm\n",
    "from astropy.coordinates import SkyCoord\n",
    "import matplotlib.pyplot as plt\n",
    "import numpy as np\n",
    "from astropy.coordinates import SkyCoord\n",
    "from astropy.io import fits\n",
    "import healpy as hp\n",
    "import matplotlib.pyplot as plt\n",
    "import time\n",
    "import sys\n",
    "from pixell import enmap, enplot, reproject, utils, curvedsky, wcsutils\n",
    "from matplotlib import cm\n",
    "from scipy.optimize import curve_fit\n",
    "from scipy.linalg import sqrtm\n",
    "from tqdm import tqdm\n",
    "from mpl_toolkits.axes_grid1.anchored_artists import AnchoredSizeBar\n",
    "import pandas as pd\n",
    "from matplotlib import font_manager\n",
    "import astropy.coordinates as coord\n",
    "from astropy.coordinates import SkyCoord\n",
    "from astropy import units as u\n",
    "\n",
    "import numpy as np\n",
    "# from helpers.SimulationAnalysis import readHlist\n",
    "from tqdm import tqdm\n",
    "import matplotlib.pyplot as plt\n",
    "import matplotlib as mpl\n",
    "import pandas as pd\n",
    "from matplotlib import font_manager\n",
    "import warnings\n",
    "warnings.filterwarnings('ignore')\n",
    "from scipy.ndimage import gaussian_filter\n",
    "# font_path = 'cmunrm.ttf'\n",
    "# font_manager.fontManager.addfont(font_path)\n",
    "# prop = font_manager.FontProperties(fname=font_path)\n",
    "# plt.rcParams['font.family'] = 'sans-serif'\n",
    "# plt.rcParams['font.sans-serif'] = prop.get_name()\n",
    "# plt.rcParams['axes.unicode_minus'] = False\n",
    "\n",
    "mpl.rcParams.update(\n",
    "    {\n",
    "        'text.usetex': True,\n",
    "        'font.family': 'stixgeneral',\n",
    "        'mathtext.fontset': 'stix',\n",
    "    }\n",
    ")"
   ]
  },
  {
   "cell_type": "markdown",
   "id": "7870eff0",
   "metadata": {},
   "source": [
    "## Cuts (Attempt) ##"
   ]
  },
  {
   "cell_type": "code",
   "execution_count": null,
   "id": "346e85e2",
   "metadata": {},
   "outputs": [],
   "source": [
    "real = pd.read_csv(\"data/union3.csv\", skiprows = 0)\n",
    "\n",
    "# run catalogue 3 --> \n",
    "# do one run that is [::4] ~50,000 objects\n",
    "# do one run with ALL objects ~200,000 objects\n",
    "\n",
    "# Zou HSC, z > 1\n",
    "real1 = real[(real.z > 1) & (real.cat == 3)]\n",
    "\n",
    "# WH22, z > 1\n",
    "real2 = real[(real.z > 1) & (real.cat == 4)]\n",
    "\n",
    "# Zou DESI, 0.6 < z < 1\n",
    "real3 = real[(real.z < 1) & (real.z > 0.6) & (real.cat == 2)]\n",
    "real3_c = real[(real.z < 1) & (real.z > 0.6) & (real.cat == 2)][::4]\n",
    "\n",
    "# Zou DES, 0.6 < z < 1\n",
    "real4 = real[(real.z < 1) & (real.z > 0.6) & (real.cat == 1)]\n",
    "\n",
    "# WH22, 0.6 < z < 1\n",
    "real5 = real[(real.z < 1) & (real.z > 0.6) & (real.cat == 4)]\n",
    "\n",
    "# make new one SDSS (updated) --> to be changed\n",
    "real6 = real[(real.z < 0.6) & (real.z > 0.05) & (real.cat.isin([0, 4]))]\n",
    "\n",
    "# Zou DESI, 0.05 < z < 0.6\n",
    "real7 = real[(real.z < 0.6) & (real.z > 0.05) & (real.cat == 2)]"
   ]
  },
  {
   "cell_type": "code",
   "execution_count": null,
   "id": "6b62f9e7",
   "metadata": {},
   "outputs": [],
   "source": [
    "real7"
   ]
  },
  {
   "cell_type": "code",
   "execution_count": null,
   "id": "73c74eaa",
   "metadata": {
    "scrolled": true
   },
   "outputs": [],
   "source": [
    "df = real7.reset_index(drop=True)\n",
    "\n",
    "\n",
    "c = SkyCoord(df['amf_ra'],df['amf_dec'],frame='icrs',unit='deg')\n",
    "df['glat'] = c.galactic.b.degree\n",
    "df['glon'] = c.galactic.l.degree\n",
    "df['i100'] = np.genfromtxt('output/510u3C7/pr100.csv',delimiter=', ')\n",
    "df['i143'] = np.genfromtxt('output/510u3C7/pr143.csv',delimiter=', ')\n",
    "df['i217'] = np.genfromtxt('output/510u3C7/pr217.csv',delimiter=', ')\n",
    "df['i353'] = np.genfromtxt('output/510u3C7/pr353.csv',delimiter=', ')\n",
    "df['i545'] = np.genfromtxt('output/510u3C7/pr545.csv',delimiter=', ')\n",
    "df['i857'] = np.genfromtxt('output/510u3C7/pr857.csv',delimiter=', ')\n",
    "df['i090'] = np.genfromtxt('output/510u3C7/ar90.csv',delimiter=', ')\n",
    "df['i150'] = np.genfromtxt('output/510u3C7/ar150.csv',delimiter=', ')\n",
    "df['i220'] = np.genfromtxt('output/510u3C7/ar220.csv',delimiter=', ')\n",
    "df['iros'] = np.genfromtxt('output/510u3C7/rr.csv',delimiter=', ')\n",
    "df['i12'] = np.genfromtxt('output/510u3C7/ir12.csv',delimiter=', ')\n",
    "df['i25'] = np.genfromtxt('output/510u3C7/ir25.csv',delimiter=', ')\n",
    "df['i60'] = np.genfromtxt('output/510u3C7/ir60.csv',delimiter=', ')\n",
    "df['i1002'] = np.genfromtxt('output/510u3C7/ir100.csv',delimiter=', ')\n",
    "df['i100_r'] = np.genfromtxt('output/510u3C7/pr100_r.csv',delimiter=', ')\n",
    "df['i143_r'] = np.genfromtxt('output/510u3C7/pr143_r.csv',delimiter=', ')\n",
    "df['i217_r'] = np.genfromtxt('output/510u3C7/pr217_r.csv',delimiter=', ')\n",
    "df['i353_r'] = np.genfromtxt('output/510u3C7/pr353_r.csv',delimiter=', ')\n",
    "df['i545_r'] = np.genfromtxt('output/510u3C7/pr545_r.csv',delimiter=', ')\n",
    "df['i857_r'] = np.genfromtxt('output/510u3C7/pr857_r.csv',delimiter=', ')\n",
    "df['i090_r'] = np.genfromtxt('output/510u3C7/ar90_r.csv',delimiter=', ')\n",
    "df['i150_r'] = np.genfromtxt('output/510u3C7/ar150_r.csv',delimiter=', ')\n",
    "df['i220_r'] = np.genfromtxt('output/510u3C7/ar220_r.csv',delimiter=', ')\n",
    "df['iros_r'] = np.genfromtxt('output/510u3C7/rr_r.csv',delimiter=', ')\n",
    "df['i12_r'] = np.genfromtxt('output/510u3C7/ir12_r.csv',delimiter=', ')\n",
    "df['i25_r'] = np.genfromtxt('output/510u3C7/ir25_r.csv',delimiter=', ')\n",
    "df['i60_r'] = np.genfromtxt('output/510u3C7/ir60_r.csv',delimiter=', ')\n",
    "df['i1002_r'] = np.genfromtxt('output/510u3C7/ir100_r.csv',delimiter=', ')\n",
    "\n",
    "# If ACT included\n",
    "df = df[df.i090!=-9999].reset_index(drop = True)\n",
    "#df = df.reset_index(drop = True)\n",
    "\n",
    "# If needed to shuffle\n",
    "from sklearn.utils import shuffle\n",
    "df = shuffle(df)\n",
    "\n",
    "df['cluster'] = 1\n",
    "df"
   ]
  },
  {
   "cell_type": "code",
   "execution_count": null,
   "id": "f44d42d5",
   "metadata": {},
   "outputs": [],
   "source": [
    "df = df[:120000]\n",
    "df"
   ]
  },
  {
   "cell_type": "code",
   "execution_count": null,
   "id": "b242b739",
   "metadata": {},
   "outputs": [],
   "source": [
    "df2 = pd.read_csv('data/voids.csv', skiprows = 0, index_col=0)\n",
    "df2['i100'] = np.genfromtxt('output/510u3V/pv100.csv',delimiter=', ')\n",
    "df2['i143'] = np.genfromtxt('output/510u3V/pv143.csv',delimiter=', ')\n",
    "df2['i217'] = np.genfromtxt('output/510u3V/pv217.csv',delimiter=', ')\n",
    "df2['i353'] = np.genfromtxt('output/510u3V/pv353.csv',delimiter=', ')\n",
    "df2['i545'] = np.genfromtxt('output/510u3V/pv545.csv',delimiter=', ')\n",
    "df2['i857'] = np.genfromtxt('output/510u3V/pv857.csv',delimiter=', ')\n",
    "df2['i090'] = np.genfromtxt('output/510u3V/av90.csv',delimiter=', ')\n",
    "df2['i150'] = np.genfromtxt('output/510u3V/av150.csv',delimiter=', ')\n",
    "df2['i220'] = np.genfromtxt('output/510u3V/av220.csv',delimiter=', ')\n",
    "df2['iros'] = np.genfromtxt('output/510u3V/rv.csv',delimiter=', ')\n",
    "df2['i12'] = np.genfromtxt('output/510u3V/iv12.csv',delimiter=', ')\n",
    "df2['i25'] = np.genfromtxt('output/510u3V/iv25.csv',delimiter=', ')\n",
    "df2['i60'] = np.genfromtxt('output/510u3V/iv60.csv',delimiter=', ')\n",
    "df2['i1002'] = np.genfromtxt('output/510u3V/iv100.csv',delimiter=', ')\n",
    "df2['i100_r'] = np.genfromtxt('output/510u3V/pv100_r.csv',delimiter=', ')\n",
    "df2['i143_r'] = np.genfromtxt('output/510u3V/pv143_r.csv',delimiter=', ')\n",
    "df2['i217_r'] = np.genfromtxt('output/510u3V/pv217_r.csv',delimiter=', ')\n",
    "df2['i353_r'] = np.genfromtxt('output/510u3V/pv353_r.csv',delimiter=', ')\n",
    "df2['i545_r'] = np.genfromtxt('output/510u3V/pv545_r.csv',delimiter=', ')\n",
    "df2['i857_r'] = np.genfromtxt('output/510u3V/pv857_r.csv',delimiter=', ')\n",
    "df2['i090_r'] = np.genfromtxt('output/510u3V/av90_r.csv',delimiter=', ')\n",
    "df2['i150_r'] = np.genfromtxt('output/510u3V/av150_r.csv',delimiter=', ')\n",
    "df2['i220_r'] = np.genfromtxt('output/510u3V/av220_r.csv',delimiter=', ')\n",
    "df2['iros_r'] = np.genfromtxt('output/510u3V/rv_r.csv',delimiter=', ')\n",
    "df2['i12_r'] = np.genfromtxt('output/510u3V/iv12_r.csv',delimiter=', ')\n",
    "df2['i25_r'] = np.genfromtxt('output/510u3V/iv25_r.csv',delimiter=', ')\n",
    "df2['i60_r'] = np.genfromtxt('output/510u3V/iv60_r.csv',delimiter=', ')\n",
    "df2['i1002_r'] = np.genfromtxt('output/510u3V/iv100_r.csv',delimiter=', ')\n",
    "\n",
    "# Alpha re-scaling to increase sample size, in principle should just create more samples\n",
    "df2u = df2.copy()\n",
    "df2u.loc[::2,'i100':]*=1.1\n",
    "df2u2 = df2.copy()\n",
    "df2u2.loc[1::2,'i100':]*=1.1\n",
    "\n",
    "df2d = df2.copy()\n",
    "df2d.loc[1::2,'i100':]*=0.9\n",
    "df2d2 = df2.copy()\n",
    "df2d2.loc[::2,'i100':]*=0.9\n",
    "\n",
    "df2 = pd.concat([df2,df2u,df2d,df2u2,df2d2]).reset_index(drop=True)\n",
    "from sklearn.utils import shuffle\n",
    "df2 = shuffle(df2)\n",
    "\n",
    "# If ACT included\n",
    "df2 = df2[df2.i090!=-9999].reset_index(drop=True)\n",
    "#df2 = df2.reset_index(drop = True)\n",
    "\n",
    "df2['cluster'] = 0\n",
    "\n",
    "# We want equal sample sizes\n",
    "df2 = df2[:len(df)]\n",
    "df2"
   ]
  },
  {
   "cell_type": "markdown",
   "id": "0ad29c90",
   "metadata": {},
   "source": [
    "## Old Fullsky - Random ##"
   ]
  },
  {
   "cell_type": "code",
   "execution_count": null,
   "id": "a241e7be",
   "metadata": {},
   "outputs": [],
   "source": [
    "import astropy.coordinates as coord\n",
    "from astropy.coordinates import SkyCoord\n",
    "from astropy import units as u\n",
    "\n",
    "# output_k/510u2/pf100.csv has Old Fullsky - Random\n",
    "\n",
    "# The more points here the better\n",
    "glon = []\n",
    "glat = []\n",
    "for lon in np.linspace(0,360,317):\n",
    "    for lat in np.linspace(-90,90,317):\n",
    "        glon.append(lon)\n",
    "        glat.append(lat)\n",
    "glon2 = [i*u.degree for i in glon]\n",
    "glat2 = [i*u.degree for i in glat]\n",
    "\n",
    "# convert to equitorial coordinates\n",
    "c = SkyCoord(glon2, glat2, frame='galactic')\n",
    "ras = c.icrs.ra.deg\n",
    "decs = c.icrs.dec.deg\n",
    "\n",
    "dfsky = pd.DataFrame()#pd.read_csv('data/full_sky_decs.csv')[['decs']]\n",
    "# dfsky['ras'] = pd.read_csv('data/full_sky_ras.csv')[['ras']]\n",
    "\n",
    "dfsky['glat'] = glat\n",
    "dfsky['glon'] = glon\n",
    "dfsky['i100'] = np.genfromtxt('output_k/510u2/pf100.csv',delimiter=', ')\n",
    "dfsky['i143'] = np.genfromtxt('output_k/510u2/pf143.csv',delimiter=', ')\n",
    "dfsky['i217'] = np.genfromtxt('output_k/510u2/pf217.csv',delimiter=', ')\n",
    "dfsky['i353'] = np.genfromtxt('output_k/510u2/pf353.csv',delimiter=', ')\n",
    "dfsky['i545'] = np.genfromtxt('output_k/510u2/pf545.csv',delimiter=', ')\n",
    "dfsky['i857'] = np.genfromtxt('output_k/510u2/pf857.csv',delimiter=', ')\n",
    "dfsky['i090'] = np.genfromtxt('output_k/510u2/af90.csv',delimiter=', ')\n",
    "dfsky['i150'] = np.genfromtxt('output_k/510u2/af150.csv',delimiter=', ')\n",
    "dfsky['i220'] = np.genfromtxt('output_k/510u2/af220.csv',delimiter=', ')\n",
    "dfsky['iros'] = np.genfromtxt('output_k/510u2/rf.csv',delimiter=', ')\n",
    "dfsky['i12'] = np.genfromtxt('output_k/510u2/if12.csv',delimiter=', ')\n",
    "dfsky['i25'] = np.genfromtxt('output_k/510u2/if25.csv',delimiter=', ')\n",
    "dfsky['i60'] = np.genfromtxt('output_k/510u2/if60.csv',delimiter=', ')\n",
    "dfsky['i1002'] = np.genfromtxt('output_k/510u2/if100.csv',delimiter=', ')\n",
    "dfsky['i100_r'] = np.genfromtxt('output_k/510u2/pf100_r.csv',delimiter=', ')\n",
    "dfsky['i143_r'] = np.genfromtxt('output_k/510u2/pf143_r.csv',delimiter=', ')\n",
    "dfsky['i217_r'] = np.genfromtxt('output_k/510u2/pf217_r.csv',delimiter=', ')\n",
    "dfsky['i353_r'] = np.genfromtxt('output_k/510u2/pf353_r.csv',delimiter=', ')\n",
    "dfsky['i545_r'] = np.genfromtxt('output_k/510u2/pf545.csv',delimiter=', ')\n",
    "dfsky['i857_r'] = np.genfromtxt('output_k/510u2/pf857.csv',delimiter=', ')\n",
    "dfsky['i090_r'] = np.genfromtxt('output_k/510u2/af90_r.csv',delimiter=', ')\n",
    "dfsky['i150_r'] = np.genfromtxt('output_k/510u2/af150_r.csv',delimiter=', ')\n",
    "dfsky['i220_r'] = np.genfromtxt('output_k/510u2/af220_r.csv',delimiter=', ')\n",
    "dfsky['iros_r'] = np.genfromtxt('output_k/510u2/rf_r.csv',delimiter=', ')\n",
    "dfsky['i12_r'] = np.genfromtxt('output_k/510u2/if12_r.csv',delimiter=', ')\n",
    "dfsky['i25_r'] = np.genfromtxt('output_k/510u2/if25_r.csv',delimiter=', ')\n",
    "dfsky['i60_r'] = np.genfromtxt('output_k/510u2/if60_r.csv',delimiter=', ')\n",
    "dfsky['i1002_r'] = np.genfromtxt('output_k/510u2/if100_r.csv',delimiter=', ')\n",
    "\n",
    "# If ACT included\n",
    "dfsky = dfsky[dfsky.i090!=-9999].reset_index(drop=True)\n",
    "#dfsky = dfsky.reset_index(drop=True)\n",
    "\n",
    "dfsky['cluster'] = 2\n",
    "dfsky"
   ]
  },
  {
   "cell_type": "code",
   "execution_count": null,
   "id": "339eca61",
   "metadata": {},
   "outputs": [],
   "source": [
    "# IF we want to remove galactic plane\n",
    "\n",
    "dfsky = dfsky[(dfsky['glat'] < -15) | (dfsky['glat'] > 15)].reset_index(drop = True)\n",
    "dfsky"
   ]
  },
  {
   "cell_type": "markdown",
   "id": "15b352b3",
   "metadata": {},
   "source": [
    "## NEW Fullsky - BackToBack ##"
   ]
  },
  {
   "cell_type": "code",
   "execution_count": null,
   "id": "a8ddf7e6",
   "metadata": {},
   "outputs": [],
   "source": [
    "import astropy.coordinates as coord\n",
    "from astropy.coordinates import SkyCoord\n",
    "from astropy import units as u\n",
    "\n",
    "# output/510u3/pf100.csv has Q1 Backtoback\n",
    "\n",
    "# The more points here the better\n",
    "glon = []\n",
    "glat = []\n",
    "for lon in np.linspace(180,360,540):\n",
    "    for lat in np.linspace(15,90,224):\n",
    "        glon.append(lon)\n",
    "        glat.append(lat)\n",
    "glon2 = [i*u.degree for i in glon]\n",
    "glat2 = [i*u.degree for i in glat]\n",
    "\n",
    "# convert to equitorial coordinates\n",
    "c = SkyCoord(glon2, glat2, frame='galactic')\n",
    "ras = c.icrs.ra.deg\n",
    "decs = c.icrs.dec.deg\n",
    "\n",
    "dfsky = pd.DataFrame()#pd.read_csv('data/full_sky_decs.csv')[['decs']]\n",
    "# dfsky['ras'] = pd.read_csv('data/full_sky_ras.csv')[['ras']]\n",
    "\n",
    "dfsky['glat'] = glat\n",
    "dfsky['glon'] = glon\n",
    "dfsky['i100'] = np.genfromtxt('output/510u3/pf100.csv',delimiter=', ')\n",
    "dfsky['i143'] = np.genfromtxt('output/510u3/pf143.csv',delimiter=', ')\n",
    "dfsky['i217'] = np.genfromtxt('output/510u3/pf217.csv',delimiter=', ')\n",
    "dfsky['i353'] = np.genfromtxt('output/510u3/pf353.csv',delimiter=', ')\n",
    "dfsky['i545'] = np.genfromtxt('output/510u3/pf545.csv',delimiter=', ')\n",
    "dfsky['i857'] = np.genfromtxt('output/510u3/pf857.csv',delimiter=', ')\n",
    "dfsky['i090'] = np.genfromtxt('output/510u3/af90.csv',delimiter=', ')\n",
    "dfsky['i150'] = np.genfromtxt('output/510u3/af150.csv',delimiter=', ')\n",
    "dfsky['i220'] = np.genfromtxt('output/510u3/af220.csv',delimiter=', ')\n",
    "dfsky['iros'] = np.genfromtxt('output/510u3/rf.csv',delimiter=', ')\n",
    "dfsky['i12'] = np.genfromtxt('output/510u3/if12.csv',delimiter=', ')\n",
    "dfsky['i25'] = np.genfromtxt('output/510u3/if25.csv',delimiter=', ')\n",
    "dfsky['i60'] = np.genfromtxt('output/510u3/if60.csv',delimiter=', ')\n",
    "dfsky['i1002'] = np.genfromtxt('output/510u3/if100.csv',delimiter=', ')\n",
    "dfsky['i100_r'] = np.genfromtxt('output/510u3/pf100_r.csv',delimiter=', ')\n",
    "dfsky['i143_r'] = np.genfromtxt('output/510u3/pf143_r.csv',delimiter=', ')\n",
    "dfsky['i217_r'] = np.genfromtxt('output/510u3/pf217_r.csv',delimiter=', ')\n",
    "dfsky['i353_r'] = np.genfromtxt('output/510u3/pf353_r.csv',delimiter=', ')\n",
    "dfsky['i545_r'] = np.genfromtxt('output/510u3/pf545.csv',delimiter=', ')\n",
    "dfsky['i857_r'] = np.genfromtxt('output/510u3/pf857.csv',delimiter=', ')\n",
    "dfsky['i090_r'] = np.genfromtxt('output/510u3/af90_r.csv',delimiter=', ')\n",
    "dfsky['i150_r'] = np.genfromtxt('output/510u3/af150_r.csv',delimiter=', ')\n",
    "dfsky['i220_r'] = np.genfromtxt('output/510u3/af220_r.csv',delimiter=', ')\n",
    "dfsky['iros_r'] = np.genfromtxt('output/510u3/rf_r.csv',delimiter=', ')\n",
    "dfsky['i12_r'] = np.genfromtxt('output/510u3/if12_r.csv',delimiter=', ')\n",
    "dfsky['i25_r'] = np.genfromtxt('output/510u3/if25_r.csv',delimiter=', ')\n",
    "dfsky['i60_r'] = np.genfromtxt('output/510u3/if60_r.csv',delimiter=', ')\n",
    "dfsky['i1002_r'] = np.genfromtxt('output/510u3/if100_r.csv',delimiter=', ')\n",
    "\n",
    "# If ACT included\n",
    "dfsky = dfsky[dfsky.i090!=-9999].reset_index(drop=True)\n",
    "#dfsky = dfsky.reset_index(drop=True)\n",
    "dfsky['cluster'] = 2\n",
    "dfsky"
   ]
  },
  {
   "cell_type": "code",
   "execution_count": null,
   "id": "18b810b3",
   "metadata": {},
   "outputs": [],
   "source": [
    "# Train with one half of cluster and noncluster samples\n",
    "\n",
    "filtered_c = df.loc[::2,'i100':'i1002_r'].reset_index(drop=True)\n",
    "clusters = [list(filtered_c.loc[i].values) for i in range(len(filtered_c))]\n",
    "\n",
    "filtered_nc = df2.loc[::2,'i100':'i1002_r'].reset_index(drop=True)\n",
    "nonclusters = [list(filtered_nc.loc[i].values) for i in range(len(filtered_nc))]"
   ]
  },
  {
   "cell_type": "code",
   "execution_count": null,
   "id": "7c785b2b",
   "metadata": {},
   "outputs": [],
   "source": [
    "tot = clusters+nonclusters\n",
    "objects = (tot)\n",
    "labels = list(np.ones(len(clusters)))+list(np.zeros(len(nonclusters)))"
   ]
  },
  {
   "cell_type": "code",
   "execution_count": null,
   "id": "9b8a1d48",
   "metadata": {},
   "outputs": [],
   "source": [
    "# Verify with the other half\n",
    "\n",
    "filtered_cv = df.loc[1::2,'i100':'i1002_r'].reset_index(drop=True)\n",
    "clustersv = [list(filtered_cv.loc[i].values) for i in range(len(filtered_cv))]\n",
    "\n",
    "filtered_ncv = df2.loc[1::2,'i100':'i1002_r'].reset_index(drop=True)\n",
    "nonclustersv = [list(filtered_ncv.loc[i].values) for i in range(len(filtered_ncv))]"
   ]
  },
  {
   "cell_type": "code",
   "execution_count": null,
   "id": "dcd1252c",
   "metadata": {},
   "outputs": [],
   "source": [
    "# Load in the fullsky sample we want to test\n",
    "\n",
    "filtered_fsv = dfsky.loc[::,'i100':'i1002_r'].reset_index(drop=True)\n",
    "fsclustersv = [list(filtered_fsv.loc[i].values) for i in range(len(filtered_fsv))]"
   ]
  },
  {
   "cell_type": "code",
   "execution_count": null,
   "id": "e43f5533",
   "metadata": {},
   "outputs": [],
   "source": [
    "fastmap_svm = FastMapSVM(objects, labels, distance.canberra)\n",
    "fastmap_svm.fit(20,1000)"
   ]
  },
  {
   "cell_type": "code",
   "execution_count": null,
   "id": "8e9d41d1",
   "metadata": {
    "scrolled": false
   },
   "outputs": [],
   "source": [
    "# countc --> list of probabilities for each cluster in clustersv\n",
    "# Full sample [Planck, ACT, IRIS, ROSAT], No ACT [Planck, IRIS, ROSAT]\n",
    "\n",
    "countc=[]\n",
    "for i in tqdm(range(len(clustersv))):\n",
    "    res = fastmap_svm.predict(clustersv[i])\n",
    "    countc.append(res[1])\n",
    "    \n",
    "plt.hist(countc,bins=100,color='darkgreen')\n",
    "plt.xlabel('Probability of location containing a cluster\\n[Cluster validation]',size=15)\n",
    "plt.title('Full sample [Planck, ACT, IRIS, ROSAT]',loc='left',size=15)\n",
    "# plt.axvline(0.99,c='r')\n",
    "plt.tight_layout()\n",
    "# plt.savefig('c_full.png',dpi=1000)\n",
    "plt.show()"
   ]
  },
  {
   "cell_type": "code",
   "execution_count": null,
   "id": "14a690b7",
   "metadata": {},
   "outputs": [],
   "source": [
    "# Check how many clusters are identified with probability over 80%\n",
    "count = np.array(countc)\n",
    "num_c = len(count[count>0.95])\n",
    "100*num_c/len(countc)"
   ]
  },
  {
   "cell_type": "code",
   "execution_count": null,
   "id": "0be419a6",
   "metadata": {},
   "outputs": [],
   "source": [
    "# Save Cluster Validation Set\n",
    "\n",
    "cluster_valid_df = df[1::2].copy()\n",
    "cluster_valid_df['clusterp'] = countc\n",
    "cluster_valid_df.to_csv(\"output/Locations/C7_wA/cluster_validation.csv\", index = False)"
   ]
  },
  {
   "cell_type": "code",
   "execution_count": null,
   "id": "a4474139",
   "metadata": {
    "scrolled": false
   },
   "outputs": [],
   "source": [
    "# countc --> list of probabilities for each cluster in nonclustersv\n",
    "# Full sample [Planck, ACT, IRIS, ROSAT], No ACT [Planck, IRIS, ROSAT]\n",
    "\n",
    "countnc=[]\n",
    "for i in tqdm(range(len(nonclustersv))):\n",
    "    res = fastmap_svm.predict(nonclustersv[i])\n",
    "    countnc.append(res[1])\n",
    "    \n",
    "plt.hist(countnc,bins=100,color='maroon')\n",
    "plt.xlabel('Probability of location containing a cluster\\n[Non-cluster validation]',size=15)\n",
    "plt.title('Full sample [Planck, ACT, IRIS, ROSAT]',loc='left',size=15)\n",
    "plt.tight_layout()\n",
    "# plt.savefig('nc_full.png',dpi=1000)\n",
    "plt.show()"
   ]
  },
  {
   "cell_type": "code",
   "execution_count": null,
   "id": "fd3d945e",
   "metadata": {
    "scrolled": true
   },
   "outputs": [],
   "source": [
    "# Check how many nonclusters are identified with probability over 80%\n",
    "\n",
    "count = np.array(countnc)\n",
    "num_nc = len(count[count>0.95])\n",
    "100*num_nc/len(countnc)"
   ]
  },
  {
   "cell_type": "code",
   "execution_count": null,
   "id": "6f7f78b9",
   "metadata": {},
   "outputs": [],
   "source": [
    "# Save Noncluster Validation Set\n",
    "\n",
    "noncluster_valid_df = df2[1::2].copy()\n",
    "noncluster_valid_df['clusterp'] = countnc\n",
    "noncluster_valid_df.to_csv(\"output/Locations/C7_wA/noncluster_validation.csv\", index = False)"
   ]
  },
  {
   "cell_type": "code",
   "execution_count": null,
   "id": "d2b77071",
   "metadata": {
    "scrolled": true
   },
   "outputs": [],
   "source": [
    "# Purity \n",
    "\n",
    "num_c/(num_c+num_nc)"
   ]
  },
  {
   "cell_type": "code",
   "execution_count": null,
   "id": "92862641",
   "metadata": {
    "scrolled": false
   },
   "outputs": [],
   "source": [
    "# Random locations, Q1 Locations, Random Scan, Q1 Scan\n",
    "# All datasets, No ACT\n",
    "\n",
    "countfs=[]\n",
    "for i in tqdm(range(len(fsclustersv))):\n",
    "    res = fastmap_svm.predict(fsclustersv[i])\n",
    "    countfs.append(res[1])\n",
    "    \n",
    "fig, ax = plt.subplots(figsize=(5,5))\n",
    "plt.hist(100*np.array(countfs),bins=100,color='slategrey',label='Q1 locations')\n",
    "plt.xlabel('Probability of location containing\\n a cluster [$\\%$]',size=20)\n",
    "plt.title('All datasets, Q1 Scan',loc='left',size=20)\n",
    "# plt.axvline(95,c='maroon',label='Detection threshold')\n",
    "# plt.legend(fontsize=15)\n",
    "ax.tick_params(labelsize=20)\n",
    "ax.legend(loc=1,fontsize=15,framealpha=0)\n",
    "# plt.savefig('random.png', dpi=1000, bbox_inches='tight')"
   ]
  },
  {
   "cell_type": "code",
   "execution_count": null,
   "id": "13a8c469",
   "metadata": {},
   "outputs": [],
   "source": [
    "# Save Fullsky Results\n",
    "\n",
    "fullsky_df = dfsky.copy()\n",
    "fullsky_df['clusterp'] = countfs\n",
    "\n",
    "#fullsky_df.to_csv(\"output/Locations/C7_wA/random_scan_fs.csv\", index = False)\n",
    "fullsky_df.to_csv(\"output/Locations/C7_wA/Q1_scan_fs.csv\", index = False)"
   ]
  },
  {
   "cell_type": "code",
   "execution_count": null,
   "id": "217ef519",
   "metadata": {},
   "outputs": [],
   "source": [
    "updated_valids_c = pd.read_csv(\"output/Locations/C7_wA/Q1_scan_fs.csv\")\n",
    "updated_valids_c"
   ]
  },
  {
   "cell_type": "code",
   "execution_count": null,
   "id": "889fff07",
   "metadata": {},
   "outputs": [],
   "source": [
    "# updated_valids_c = updated_valids_c.drop('Unnamed: 0', axis=1)\n",
    "# updated_valids_c.to_csv(\"output/Locations/C1_nA/test.csv\", index = False)"
   ]
  },
  {
   "cell_type": "markdown",
   "id": "8efb56b1",
   "metadata": {},
   "source": [
    "### Comparisons ###"
   ]
  },
  {
   "cell_type": "code",
   "execution_count": null,
   "id": "e2225999",
   "metadata": {},
   "outputs": [],
   "source": [
    "compare1 = pd.read_csv(\"output/Locations/C3_nA/Q1_scan_fs.csv\")\n",
    "compare2 = pd.read_csv(\"output/Locations/C5_nA/Q1_scan_fs.csv\")"
   ]
  },
  {
   "cell_type": "code",
   "execution_count": null,
   "id": "57fb56df",
   "metadata": {},
   "outputs": [],
   "source": [
    "compare2"
   ]
  },
  {
   "cell_type": "code",
   "execution_count": null,
   "id": "b4edfbdd",
   "metadata": {},
   "outputs": [],
   "source": [
    "# Cross-matching\n",
    "# $0.6<z<1$, $z>1$, $0.05<z<0.6$\n",
    "\n",
    "# Assuming locations (glat, glon) have not been switched up (same order as original dataframe)\n",
    "\n",
    "plt.scatter(compare1[\"clusterp\"], compare2[\"clusterp\"], s = 1, alpha = 0.5)\n",
    "plt.xlabel(\"Zou DESI $0.6<z<1$ Cluster Probability\")\n",
    "plt.ylabel(\"WH22 $0.6<z<1$ Cluster Probability\")\n",
    "plt.show()"
   ]
  },
  {
   "cell_type": "code",
   "execution_count": null,
   "id": "5409633b",
   "metadata": {
    "scrolled": false
   },
   "outputs": [],
   "source": [
    "# glats = TS2_dfsky_c['glat'].unique()\n",
    "# glons = TS2_dfsky_c['glon'].unique()\n",
    "\n",
    "# TS1_vals = []\n",
    "# TS2_vals = []\n",
    "\n",
    "# for i in tqdm(glats):\n",
    "#     for j in glons:\n",
    "#         x = TS1_dfsky_c[(TS1_dfsky_c[\"glat\"] == i) & (TS1_dfsky_c[\"glon\"] == j)][\"clusterp\"].values[0]\n",
    "#         y = TS2_dfsky_c[(TS2_dfsky_c[\"glat\"] == i) & (TS2_dfsky_c[\"glon\"] == j)][\"clusterp\"].values[0]\n",
    "#         TS1_vals.append(x)\n",
    "#         TS2_vals.append(y)\n",
    "\n",
    "# plt.scatter(TS1_vals, TS2_vals, s = 1, alpha = 0.5)\n",
    "# plt.xlabel(\"HSC $z>1$ Cluster Probability\")\n",
    "# plt.ylabel(\"WH22 $z>1$ Cluster Probability\")\n",
    "# plt.show()"
   ]
  },
  {
   "cell_type": "code",
   "execution_count": null,
   "id": "dfb4b71e",
   "metadata": {},
   "outputs": [],
   "source": [
    "# TS_total = [(TS1_vals[i], TS2_vals[i]) for i in range(len(TS1_vals))]\n",
    "\n",
    "# print(len((TS1_np > 0.95))"
   ]
  },
  {
   "cell_type": "markdown",
   "id": "c2522daa",
   "metadata": {},
   "source": [
    "### Get a Random Location ###"
   ]
  },
  {
   "cell_type": "code",
   "execution_count": 39,
   "id": "11546e9e",
   "metadata": {},
   "outputs": [
    {
     "data": {
      "text/html": [
       "<div>\n",
       "<style scoped>\n",
       "    .dataframe tbody tr th:only-of-type {\n",
       "        vertical-align: middle;\n",
       "    }\n",
       "\n",
       "    .dataframe tbody tr th {\n",
       "        vertical-align: top;\n",
       "    }\n",
       "\n",
       "    .dataframe thead th {\n",
       "        text-align: right;\n",
       "    }\n",
       "</style>\n",
       "<table border=\"1\" class=\"dataframe\">\n",
       "  <thead>\n",
       "    <tr style=\"text-align: right;\">\n",
       "      <th></th>\n",
       "      <th>amf_ra</th>\n",
       "      <th>amf_dec</th>\n",
       "      <th>z</th>\n",
       "      <th>rh</th>\n",
       "      <th>cat</th>\n",
       "      <th>glat</th>\n",
       "      <th>glon</th>\n",
       "      <th>i100</th>\n",
       "      <th>i143</th>\n",
       "      <th>i217</th>\n",
       "      <th>...</th>\n",
       "      <th>i090_r</th>\n",
       "      <th>i150_r</th>\n",
       "      <th>i220_r</th>\n",
       "      <th>iros_r</th>\n",
       "      <th>i12_r</th>\n",
       "      <th>i25_r</th>\n",
       "      <th>i60_r</th>\n",
       "      <th>i1002_r</th>\n",
       "      <th>cluster</th>\n",
       "      <th>clusterp</th>\n",
       "    </tr>\n",
       "  </thead>\n",
       "  <tbody>\n",
       "    <tr>\n",
       "      <th>24371</th>\n",
       "      <td>146.075072</td>\n",
       "      <td>0.960983</td>\n",
       "      <td>0.693968</td>\n",
       "      <td>321.834514</td>\n",
       "      <td>2</td>\n",
       "      <td>38.095723</td>\n",
       "      <td>235.124765</td>\n",
       "      <td>-0.000107</td>\n",
       "      <td>-0.000074</td>\n",
       "      <td>0.000088</td>\n",
       "      <td>...</td>\n",
       "      <td>-38.573447</td>\n",
       "      <td>-66.464776</td>\n",
       "      <td>-804.009027</td>\n",
       "      <td>0.000232</td>\n",
       "      <td>1.212628</td>\n",
       "      <td>1.917588</td>\n",
       "      <td>1.711489</td>\n",
       "      <td>6.587677</td>\n",
       "      <td>1</td>\n",
       "      <td>0.019725</td>\n",
       "    </tr>\n",
       "  </tbody>\n",
       "</table>\n",
       "<p>1 rows × 37 columns</p>\n",
       "</div>"
      ],
      "text/plain": [
       "           amf_ra   amf_dec         z          rh  cat       glat        glon  \\\n",
       "24371  146.075072  0.960983  0.693968  321.834514    2  38.095723  235.124765   \n",
       "\n",
       "           i100      i143      i217  ...     i090_r     i150_r      i220_r  \\\n",
       "24371 -0.000107 -0.000074  0.000088  ... -38.573447 -66.464776 -804.009027   \n",
       "\n",
       "         iros_r     i12_r     i25_r     i60_r   i1002_r  cluster  clusterp  \n",
       "24371  0.000232  1.212628  1.917588  1.711489  6.587677        1  0.019725  \n",
       "\n",
       "[1 rows x 37 columns]"
      ]
     },
     "execution_count": 39,
     "metadata": {},
     "output_type": "execute_result"
    }
   ],
   "source": [
    "temp = pd.read_csv(\"output/Locations/C3_wA/cluster_validation.csv\")\n",
    "\n",
    "temp2 = temp[(temp[\"clusterp\"] < 0.3) & (temp[\"rh\"] > 321) & (temp[\"rh\"] < 322)]\n",
    "temp2\n",
    "\n",
    "# import healpy as hp\n",
    "# import pixell\n",
    "# pl143 = hp.read_map('data/mask_comprass.fits')\n",
    "# hp.mollview(pl143,norm='hist',cmap='Greys',title='Masked S/N map',cbar=False)\n",
    "# #hp.visufunc.projscatter(glon,glat,lonlat=True)#,c=countfs,s=10,vmin=0, vmax=1)\n",
    "# # hp.visufunc.projscatter(temp['glon'],temp['glat'],lonlat=True,c=\"blue\",s=3,vmin=0, vmax=1)\n",
    "# hp.visufunc.projscatter(temp2['glon'],temp2['glat'],lonlat=True,c=\"red\",s=3,vmin=0, vmax=1)"
   ]
  },
  {
   "cell_type": "code",
   "execution_count": null,
   "id": "79f0d966",
   "metadata": {},
   "outputs": [],
   "source": [
    "all_clusters = pd.read_csv(\"output/Locations/C3_nA/random_scan_fs.csv\")\n",
    "all_clusters = all_clusters[all_clusters[\"clusterp\"] > 0.95]\n",
    "\n",
    "import random\n",
    "item = random.randint(0, len(all_clusters) - 1)\n",
    "print((\"glat\", \"glon\"))\n",
    "print((all_clusters.iloc[item, 0], all_clusters.iloc[item, 1]))"
   ]
  },
  {
   "cell_type": "markdown",
   "id": "aaca2452",
   "metadata": {},
   "source": [
    "## Map Visualization ##"
   ]
  },
  {
   "cell_type": "code",
   "execution_count": null,
   "id": "c5bf55ea",
   "metadata": {
    "scrolled": false
   },
   "outputs": [],
   "source": [
    "# Algorithm Results\n",
    "\n",
    "cluster_map = pd.read_csv(\"output/Locations/C1_wA/random_scan_fs.csv\")\n",
    "# cluster_map = cluster_map[cluster_map[\"clusterp\"] > 0.85]\n",
    "\n",
    "import healpy as hp\n",
    "pl143 = hp.read_map('data/COM_CompMap_Compton-SZMap-nilc-ymaps_2048_R2.00.fits')\n",
    "hp.mollview(pl143,norm='hist',cmap='Greys',title='Masked S/N map',cbar=False)\n",
    "#hp.visufunc.projscatter(glon,glat,lonlat=True)#,c=countfs,s=10,vmin=0, vmax=1)\n",
    "# hp.visufunc.projscatter(cluster_map['glon'],cluster_map['glat'],lonlat=True,c=cluster_map['clusterp'],s=1,vmin=0, vmax=1)"
   ]
  },
  {
   "cell_type": "code",
   "execution_count": 23,
   "id": "94fd1ca0",
   "metadata": {},
   "outputs": [
    {
     "data": {
      "text/plain": [
       "<matplotlib.collections.PathCollection at 0x7f72afbb5d20>"
      ]
     },
     "execution_count": 23,
     "metadata": {},
     "output_type": "execute_result"
    },
    {
     "data": {
      "image/png": "[encoded data removed]",
      "text/plain": [
       "<Figure size 850x540 with 1 Axes>"
      ]
     },
     "metadata": {},
     "output_type": "display_data"
    }
   ],
   "source": [
    "cluster_map = pd.read_csv(\"output/Locations/C1_nA/Q1_scan_fs.csv\")\n",
    "\n",
    "import healpy as hp\n",
    "pl143 = hp.read_map('data/mask_comprass.fits')\n",
    "hp.mollview(pl143,norm='hist',cmap='Greys',title='Masked S/N map',cbar=False)\n",
    "hp.visufunc.projscatter(cluster_map['glon'],cluster_map['glat'],lonlat=True,c=cluster_map['clusterp'],alpha = 0.2, s=1,vmin=0, vmax=1)"
   ]
  },
  {
   "cell_type": "code",
   "execution_count": 5,
   "id": "8450ea11",
   "metadata": {},
   "outputs": [
    {
     "ename": "AttributeError",
     "evalue": "module 'pixell.reproject' has no attribute 'reproject_to_healpix'",
     "output_type": "error",
     "traceback": [
      "\u001b[0;31m---------------------------------------------------------------------------\u001b[0m",
      "\u001b[0;31mAttributeError\u001b[0m                            Traceback (most recent call last)",
      "Cell \u001b[0;32mIn[5], line 4\u001b[0m\n\u001b[1;32m      2\u001b[0m pl143 \u001b[38;5;241m=\u001b[39m enmap\u001b[38;5;241m.\u001b[39mread_map(\u001b[38;5;124m'\u001b[39m\u001b[38;5;124mdata/act_dr5.01_s08s18_AA_f090_daynight_map.fits\u001b[39m\u001b[38;5;124m'\u001b[39m)\n\u001b[1;32m      3\u001b[0m shape,wcs \u001b[38;5;241m=\u001b[39m enmap\u001b[38;5;241m.\u001b[39mfullsky_geometry(res\u001b[38;5;241m=\u001b[39m\u001b[38;5;241m5.0\u001b[39m \u001b[38;5;241m*\u001b[39m utils\u001b[38;5;241m.\u001b[39marcmin,proj\u001b[38;5;241m=\u001b[39m\u001b[38;5;124m'\u001b[39m\u001b[38;5;124mcar\u001b[39m\u001b[38;5;124m'\u001b[39m)\n\u001b[0;32m----> 4\u001b[0m map_pix \u001b[38;5;241m=\u001b[39m \u001b[43mreproject\u001b[49m\u001b[38;5;241;43m.\u001b[39;49m\u001b[43mreproject_to_healpix\u001b[49m(pl143,shape\u001b[38;5;241m=\u001b[39mshape,wcs\u001b[38;5;241m=\u001b[39mwcs)\n\u001b[1;32m      5\u001b[0m hp\u001b[38;5;241m.\u001b[39mmollview(map_pix,norm\u001b[38;5;241m=\u001b[39m\u001b[38;5;124m'\u001b[39m\u001b[38;5;124mhist\u001b[39m\u001b[38;5;124m'\u001b[39m,cmap\u001b[38;5;241m=\u001b[39m\u001b[38;5;124m'\u001b[39m\u001b[38;5;124mGreys\u001b[39m\u001b[38;5;124m'\u001b[39m,title\u001b[38;5;241m=\u001b[39m\u001b[38;5;124m'\u001b[39m\u001b[38;5;124mMasked S/N map\u001b[39m\u001b[38;5;124m'\u001b[39m,cbar\u001b[38;5;241m=\u001b[39m\u001b[38;5;28;01mFalse\u001b[39;00m)\n",
      "\u001b[0;31mAttributeError\u001b[0m: module 'pixell.reproject' has no attribute 'reproject_to_healpix'"
     ]
    }
   ],
   "source": [
    "import healpy as hp\n",
    "pl143 = enmap.read_map('data/act_dr5.01_s08s18_AA_f090_daynight_map.fits')\n",
    "shape,wcs = enmap.fullsky_geometry(res=5.0 * utils.arcmin,proj='car')\n",
    "map_pix = reproject.reproject_to_healpix(pl143,shape=shape,wcs=wcs)\n",
    "hp.mollview(map_pix,norm='hist',cmap='Greys',title='Masked S/N map',cbar=False)"
   ]
  },
  {
   "cell_type": "code",
   "execution_count": null,
   "id": "3def406a",
   "metadata": {
    "scrolled": false
   },
   "outputs": [],
   "source": [
    "# Mapping catalogues\n",
    "\n",
    "union = pd.read_csv(\"data/union3.csv\")\n",
    "\n",
    "union_cut = union[union.cat == 4]\n",
    "\n",
    "c = SkyCoord(union_cut['amf_ra'],union_cut['amf_dec'],frame='icrs',unit='deg')\n",
    "union_cut['glat'] = c.galactic.b.degree\n",
    "union_cut['glon'] = c.galactic.l.degree\n",
    "\n",
    "# union_cut2 = union[union.cat == 3]\n",
    "# c = SkyCoord(union_cut2['amf_ra'],union_cut2['amf_dec'],frame='icrs',unit='deg')\n",
    "# union_cut2['glat'] = c.galactic.b.degree\n",
    "# union_cut2['glon'] = c.galactic.l.degree\n",
    "\n",
    "import healpy as hp\n",
    "pl143 = hp.read_map('data/COM_CompMap_Compton-SZMap-nilc-ymaps_2048_R2.00.fits')\n",
    "hp.mollview(pl143,norm='hist',cmap='Greys',title='Masked S/N map',cbar=False)\n",
    "#hp.visufunc.projscatter(glon,glat,lonlat=True)#,c=countfs,s=10,vmin=0, vmax=1)\n",
    "hp.visufunc.projscatter(union_cut['glon'],union_cut['glat'],lonlat=True,c=\"b\",alpha = 0.5,s=1,vmin=0, vmax=1)\n",
    "\n",
    "# hp.visufunc.projscatter(union_cut2['glon'],union_cut2['glat'],lonlat=True,c=\"g\",alpha = 0.5,s=1,vmin=0, vmax=1)"
   ]
  },
  {
   "cell_type": "code",
   "execution_count": null,
   "id": "c57afecd",
   "metadata": {},
   "outputs": [],
   "source": [
    "# dfsky_c contains all the detections\n",
    "# dfsky is the dataframe of whole sky being tested \n",
    "\n",
    "# dfsky_c = dfsky.copy()\n",
    "# dfsky_c['clusterp'] = countfs\n",
    "# dfsky_c = dfsky_c[dfsky_c.clusterp>0.85]\n",
    "\n",
    "# import healpy as hp\n",
    "# pl143 = hp.read_map('data/COM_CompMap_Compton-SZMap-nilc-ymaps_2048_R2.00.fits')\n",
    "# hp.mollview(pl143,norm='hist',cmap='Greys',title='Masked S/N map',cbar=False)\n",
    "# # hp.visufunc.projscatter(glon,glat,lonlat=True)#,c=countfs,s=10,vmin=0, vmax=1)\n",
    "# hp.visufunc.projscatter(dfsky_c['glon'],dfsky_c['glat'],lonlat=True,c=dfsky_c['clusterp'],s=1,vmin=0, vmax=1)\n",
    "# plt.savefig('full_match_hz_rh50.png')"
   ]
  },
  {
   "cell_type": "code",
   "execution_count": null,
   "id": "30e4567b",
   "metadata": {
    "scrolled": true
   },
   "outputs": [],
   "source": [
    "dfsky_c"
   ]
  },
  {
   "cell_type": "code",
   "execution_count": null,
   "id": "65bc5568",
   "metadata": {
    "scrolled": true
   },
   "outputs": [],
   "source": [
    "import healpy as hp\n",
    "pl143 = hp.read_map('data/COM_CompMap_Compton-SZMap-nilc-ymaps_2048_R2.00.fits')\n",
    "hp.mollview(pl143,norm='hist',cmap='Greys',title='Masked S/N map',cbar=False)\n",
    "# hp.visufunc.projscatter(glon,glat,lonlat=True)#,c=countfs,s=10,vmin=0, vmax=1)\n",
    "hp.visufunc.projscatter(dfsky_c['glon'],dfsky_c['glat'],lonlat=True,c=dfsky_c['clusterp'],s=1,vmin=0, vmax=1)\n",
    "# plt.savefig('media/full_match_hz_rh50.png')"
   ]
  },
  {
   "cell_type": "markdown",
   "id": "4cdc40c6",
   "metadata": {},
   "source": [
    "## OLD - Set up training/validation sets"
   ]
  },
  {
   "cell_type": "markdown",
   "id": "630bdfac",
   "metadata": {},
   "source": [
    "#### Cluster sample"
   ]
  },
  {
   "cell_type": "code",
   "execution_count": null,
   "id": "f78cd06d",
   "metadata": {},
   "outputs": [],
   "source": [
    "# Note the slice by 3, eventually we want to use the full sample\n",
    "df = pd.read_csv('data/union2.csv', skiprows = 0, index_col=0).reset_index(drop=True)[::3]\n",
    "c = SkyCoord(df['amf_ra'],df['amf_dec'],frame='icrs',unit='deg')\n",
    "df['glat'] = c.galactic.b.degree\n",
    "df['glon'] = c.galactic.l.degree\n",
    "df['i100'] = np.loadtxt('output/510u3/pr100.csv',delimiter=', ')\n",
    "df['i143'] = np.loadtxt('output/510u3/pr143.csv',delimiter=', ')\n",
    "df['i217'] = np.loadtxt('output/510u3/pr217.csv',delimiter=', ')\n",
    "df['i353'] = np.loadtxt('output/510u3/pr353.csv',delimiter=', ')\n",
    "df['i545'] = np.loadtxt('output/510u3/pr545.csv',delimiter=', ')\n",
    "df['i857'] = np.loadtxt('output/510u3/pr857.csv',delimiter=', ')\n",
    "df['i090'] = np.loadtxt('output/510u3/ar90.csv',delimiter=', ')\n",
    "df['i150'] = np.loadtxt('output/510u3/ar150.csv',delimiter=', ')\n",
    "df['i220'] = np.loadtxt('output/510u3/ar220.csv',delimiter=', ')\n",
    "df['iros'] = np.loadtxt('output/510u3/rr.csv',delimiter=', ')\n",
    "df['i12'] = np.loadtxt('output/510u3/ir12.csv',delimiter=', ')\n",
    "df['i25'] = np.loadtxt('output/510u3/ir25.csv',delimiter=', ')\n",
    "df['i60'] = np.loadtxt('output/510u3/ir60.csv',delimiter=', ')\n",
    "df['i1002'] = np.loadtxt('output/510u3/ir100.csv',delimiter=', ')\n",
    "df['i100_r'] = np.loadtxt('output/510u3/pr100_r.csv',delimiter=', ')\n",
    "df['i143_r'] = np.loadtxt('output/510u3/pr143_r.csv',delimiter=', ')\n",
    "df['i217_r'] = np.loadtxt('output/510u3/pr217_r.csv',delimiter=', ')\n",
    "df['i353_r'] = np.loadtxt('output/510u3/pr353_r.csv',delimiter=', ')\n",
    "df['i545_r'] = np.loadtxt('output/510u3/pr545_r.csv',delimiter=', ')\n",
    "df['i857_r'] = np.loadtxt('output/510u3/pr857_r.csv',delimiter=', ')\n",
    "df['i090_r'] = np.loadtxt('output/510u3/ar90_r.csv',delimiter=', ')\n",
    "df['i150_r'] = np.loadtxt('output/510u3/ar150_r.csv',delimiter=', ')\n",
    "df['i220_r'] = np.loadtxt('output/510u3/ar220_r.csv',delimiter=', ')\n",
    "df['iros_r'] = np.loadtxt('output/510u3/rr_r.csv',delimiter=', ')\n",
    "df['i12_r'] = np.loadtxt('output/510u3/ir12_r.csv',delimiter=', ')\n",
    "df['i25_r'] = np.loadtxt('output/510u3/ir25_r.csv',delimiter=', ')\n",
    "df['i60_r'] = np.loadtxt('output/510u3/ir60_r.csv',delimiter=', ')\n",
    "df['i1002_r'] = np.loadtxt('output/510u3/ir100_r.csv',delimiter=', ')\n",
    "\n",
    "# If ACT included\n",
    "df = df[df.i090!=-9999]\n",
    "df['cluster'] = 1"
   ]
  },
  {
   "cell_type": "code",
   "execution_count": null,
   "id": "b97f9df7",
   "metadata": {},
   "outputs": [],
   "source": [
    "df = df[:20000]"
   ]
  },
  {
   "cell_type": "markdown",
   "id": "803ebfc6",
   "metadata": {},
   "source": [
    "#### Non-cluster sample"
   ]
  },
  {
   "cell_type": "code",
   "execution_count": null,
   "id": "404ca1c2",
   "metadata": {},
   "outputs": [],
   "source": [
    "df2 = pd.read_csv('data/voids.csv', skiprows = 0, index_col=0)\n",
    "df2['i100'] = np.loadtxt('output/510/pv100.csv',delimiter=', ')\n",
    "df2['i143'] = np.loadtxt('output/510/pv143.csv',delimiter=', ')\n",
    "df2['i217'] = np.loadtxt('output/510/pv217.csv',delimiter=', ')\n",
    "df2['i353'] = np.loadtxt('output/510/pv353.csv',delimiter=', ')\n",
    "df2['i545'] = np.loadtxt('output/510/pv545.csv',delimiter=', ')\n",
    "df2['i857'] = np.loadtxt('output/510/pv857.csv',delimiter=', ')\n",
    "df2['i090'] = np.loadtxt('output/510/av90.csv',delimiter=', ')\n",
    "df2['i150'] = np.loadtxt('output/510/av150.csv',delimiter=', ')\n",
    "df2['i220'] = np.loadtxt('output/510/av220.csv',delimiter=', ')\n",
    "df2['iros'] = np.loadtxt('output/510/rv.csv',delimiter=', ')\n",
    "df2['i12'] = np.loadtxt('output/510u/iv12.csv',delimiter=', ')\n",
    "df2['i25'] = np.loadtxt('output/510u/iv25.csv',delimiter=', ')\n",
    "df2['i60'] = np.loadtxt('output/510u/iv60.csv',delimiter=', ')\n",
    "df2['i1002'] = np.loadtxt('output/510u/iv100.csv',delimiter=', ')\n",
    "df2['i100_r'] = np.loadtxt('output/510/pv100_r.csv',delimiter=', ')\n",
    "df2['i143_r'] = np.loadtxt('output/510/pv143_r.csv',delimiter=', ')\n",
    "df2['i217_r'] = np.loadtxt('output/510/pv217_r.csv',delimiter=', ')\n",
    "df2['i353_r'] = np.loadtxt('output/510/pv353_r.csv',delimiter=', ')\n",
    "df2['i545_r'] = np.loadtxt('output/510/pv545_r.csv',delimiter=', ')\n",
    "df2['i857_r'] = np.loadtxt('output/510/pv857_r.csv',delimiter=', ')\n",
    "df2['i090_r'] = np.loadtxt('output/510/av90_r.csv',delimiter=', ')\n",
    "df2['i150_r'] = np.loadtxt('output/510/av150_r.csv',delimiter=', ')\n",
    "df2['i220_r'] = np.loadtxt('output/510/av220_r.csv',delimiter=', ')\n",
    "df2['iros_r'] = np.loadtxt('output/510/rv_r.csv',delimiter=', ')\n",
    "df2['i12_r'] = np.loadtxt('output/510u/iv12_r.csv',delimiter=', ')\n",
    "df2['i25_r'] = np.loadtxt('output/510u/iv25_r.csv',delimiter=', ')\n",
    "df2['i60_r'] = np.loadtxt('output/510u/iv60_r.csv',delimiter=', ')\n",
    "df2['i1002_r'] = np.loadtxt('output/510u/iv100_r.csv',delimiter=', ')\n",
    "\n",
    "# Alpha re-scaling to increase sample size, in principle should just create more samples\n",
    "df2u = df2.copy()\n",
    "df2u.loc[::2,'i100':]*=1.1\n",
    "df2u2 = df2.copy()\n",
    "df2u2.loc[1::2,'i100':]*=1.1\n",
    "\n",
    "df2d = df2.copy()\n",
    "df2d.loc[1::2,'i100':]*=0.9\n",
    "df2d2 = df2.copy()\n",
    "df2d2.loc[::2,'i100':]*=0.9\n",
    "\n",
    "df2 = pd.concat([df2,df2u,df2d,df2u2,df2d2]).reset_index(drop=True)\n",
    "from sklearn.utils import shuffle\n",
    "df2 = shuffle(df2)\n",
    "\n",
    "# If ACT included\n",
    "df2 = df2[df2.i090!=-9999].reset_index(drop=True)\n",
    "\n",
    "df2['cluster'] = 0\n",
    "\n",
    "# We want equal sample sizes\n",
    "df2 = df2[:len(df)]"
   ]
  },
  {
   "cell_type": "code",
   "execution_count": null,
   "id": "e761705e",
   "metadata": {},
   "outputs": [],
   "source": [
    "df2"
   ]
  },
  {
   "cell_type": "markdown",
   "id": "8c1a68ce",
   "metadata": {},
   "source": [
    "#### Full-sky sample"
   ]
  },
  {
   "cell_type": "code",
   "execution_count": null,
   "id": "776fcce4",
   "metadata": {},
   "outputs": [],
   "source": [
    "import astropy.coordinates as coord\n",
    "from astropy.coordinates import SkyCoord\n",
    "from astropy import units as u\n",
    "\n",
    "# The more points here the better\n",
    "glon = []\n",
    "glat = []\n",
    "for lon in tqdm(np.linspace(180,360,540)):\n",
    "    for lat in np.linspace(15,90,224):\n",
    "        glon.append(lon)\n",
    "        glat.append(lat)\n",
    "glon2 = [i*u.degree for i in glon]\n",
    "glat2 = [i*u.degree for i in glat]\n",
    "\n",
    "# convert to equitorial coordinates\n",
    "c = SkyCoord(glon2, glat2, frame='galactic')\n",
    "ras = c.icrs.ra.deg\n",
    "decs = c.icrs.dec.deg\n",
    "\n",
    "dfsky = pd.DataFrame()#pd.read_csv('data/full_sky_decs.csv')[['decs']]\n",
    "# dfsky['ras'] = pd.read_csv('data/full_sky_ras.csv')[['ras']]\n",
    "\n",
    "dfsky['glat'] = glat\n",
    "dfsky['glon'] = glon\n",
    "dfsky['i100'] = np.loadtxt('output/510u3/pf100.csv',delimiter=', ')\n",
    "dfsky['i143'] = np.loadtxt('output/510u3/pf143.csv',delimiter=', ')\n",
    "dfsky['i217'] = np.loadtxt('output/510u3/pf217.csv',delimiter=', ')\n",
    "dfsky['i353'] = np.loadtxt('output/510u3/pf353.csv',delimiter=', ')\n",
    "dfsky['i545'] = np.loadtxt('output/510u3/pf545.csv',delimiter=', ')\n",
    "dfsky['i857'] = np.loadtxt('output/510u3/pf857.csv',delimiter=', ')\n",
    "dfsky['i090'] = np.loadtxt('output/510u3/af90.csv',delimiter=', ')\n",
    "dfsky['i150'] = np.loadtxt('output/510u3/af150.csv',delimiter=', ')\n",
    "dfsky['i220'] = np.loadtxt('output/510u3/af220.csv',delimiter=', ')\n",
    "dfsky['iros'] = np.loadtxt('output/510u3/rf.csv',delimiter=', ')\n",
    "dfsky['i12'] = np.loadtxt('output/510u3/if12.csv',delimiter=', ')\n",
    "dfsky['i25'] = np.loadtxt('output/510u3/if25.csv',delimiter=', ')\n",
    "dfsky['i60'] = np.loadtxt('output/510u3/if60.csv',delimiter=', ')\n",
    "dfsky['i1002'] = np.loadtxt('output/510u3/if100.csv',delimiter=', ')\n",
    "dfsky['i100_r'] = np.loadtxt('output/510u3/pf100_r.csv',delimiter=', ')\n",
    "dfsky['i143_r'] = np.loadtxt('output/510u3/pf143_r.csv',delimiter=', ')\n",
    "dfsky['i217_r'] = np.loadtxt('output/510u3/pf217_r.csv',delimiter=', ')\n",
    "dfsky['i353_r'] = np.loadtxt('output/510u3/pf353_r.csv',delimiter=', ')\n",
    "dfsky['i545_r'] = np.loadtxt('output/510u3/pf545.csv',delimiter=', ')\n",
    "dfsky['i857_r'] = np.loadtxt('output/510u3/pf857.csv',delimiter=', ')\n",
    "dfsky['i090_r'] = np.loadtxt('output/510u3/af90_r.csv',delimiter=', ')\n",
    "dfsky['i150_r'] = np.loadtxt('output/510u3/af150_r.csv',delimiter=', ')\n",
    "dfsky['i220_r'] = np.loadtxt('output/510u3/af220_r.csv',delimiter=', ')\n",
    "dfsky['iros_r'] = np.loadtxt('output/510u3/rf_r.csv',delimiter=', ')\n",
    "dfsky['i12_r'] = np.loadtxt('output/510u3/if12_r.csv',delimiter=', ')\n",
    "dfsky['i25_r'] = np.loadtxt('output/510u3/if25_r.csv',delimiter=', ')\n",
    "dfsky['i60_r'] = np.loadtxt('output/510u3/if60_r.csv',delimiter=', ')\n",
    "dfsky['i1002_r'] = np.loadtxt('output/510u3/if100_r.csv',delimiter=', ')\n",
    "\n",
    "# If ACT included\n",
    "dfsky = dfsky[dfsky.i090!=-9999].reset_index(drop=True)\n",
    "\n",
    "dfsky['cluster'] = 2"
   ]
  },
  {
   "cell_type": "markdown",
   "id": "f36881f4",
   "metadata": {},
   "source": [
    "#### Training sample"
   ]
  },
  {
   "cell_type": "code",
   "execution_count": null,
   "id": "ee01e272",
   "metadata": {},
   "outputs": [],
   "source": [
    "# Half to train on [::2]\n",
    "\n",
    "filtered_c = df.loc[::2,'i100':'i1002_r'].reset_index(drop=True)\n",
    "clusters = [list(filtered_c.loc[i].values) for i in range(len(filtered_c))]\n",
    "\n",
    "filtered_nc = df2.loc[::2,'i100':'i1002_r'].reset_index(drop=True)\n",
    "nonclusters = [list(filtered_nc.loc[i].values) for i in range(len(filtered_nc))]\n",
    "\n",
    "filtered_fs = dfsky.loc[::2,'i100':'i1002_r'].reset_index(drop=True)\n",
    "fsclusters = [list(filtered_fs.loc[i].values) for i in range(len(filtered_fs))]"
   ]
  },
  {
   "cell_type": "code",
   "execution_count": null,
   "id": "653de2c9",
   "metadata": {},
   "outputs": [],
   "source": [
    "# Objects is all signals for clusters, followed by all signals for nonclusters\n",
    "# Labels, 1s then 0s\n",
    "\n",
    "tot = clusters+nonclusters\n",
    "objects = (tot)\n",
    "labels = list(np.ones(len(clusters)))+list(np.zeros(len(nonclusters)))"
   ]
  },
  {
   "cell_type": "markdown",
   "id": "6e9f7925",
   "metadata": {},
   "source": [
    "#### Validation sample"
   ]
  },
  {
   "cell_type": "code",
   "execution_count": null,
   "id": "1ca1a8d0",
   "metadata": {},
   "outputs": [],
   "source": [
    "# Other half, offset by 1 \n",
    "\n",
    "filtered_cv = df.loc[1::2,'i100':'i1002_r'].reset_index(drop=True)\n",
    "clustersv = [list(filtered_cv.loc[i].values) for i in range(len(filtered_cv))]\n",
    "\n",
    "filtered_ncv = df2.loc[1::2,'i100':'i1002_r'].reset_index(drop=True)\n",
    "nonclustersv = [list(filtered_ncv.loc[i].values) for i in range(len(filtered_ncv))]\n",
    "\n",
    "filtered_fsv = dfsky.loc[1::2,'i100':'i1002_r'].reset_index(drop=True)\n",
    "fsclustersv = [list(filtered_fsv.loc[i].values) for i in range(len(filtered_fsv))]"
   ]
  },
  {
   "cell_type": "markdown",
   "id": "0368805a",
   "metadata": {},
   "source": [
    "#### Full, combined, cluster+non-cluster sample"
   ]
  },
  {
   "cell_type": "code",
   "execution_count": null,
   "id": "c5e1c722",
   "metadata": {},
   "outputs": [],
   "source": [
    "df3 = df.append(df2, ignore_index=True).reset_index(drop=True)"
   ]
  },
  {
   "cell_type": "markdown",
   "id": "6713ecac",
   "metadata": {},
   "source": [
    "#### Visualization of hyperspace"
   ]
  },
  {
   "cell_type": "code",
   "execution_count": null,
   "id": "a0749485",
   "metadata": {},
   "outputs": [],
   "source": [
    "import numpy as np\n",
    "import pandas as pd\n",
    "import plotly.express as px\n",
    "import matplotlib.pyplot as plt\n",
    "from sklearn.preprocessing import MinMaxScaler\n",
    "from sklearn.decomposition import PCA\n",
    "\n",
    "Input = df3.loc[:,'i100':'i1002_r']\n",
    "norm_X = MinMaxScaler().fit_transform(Input)\n",
    "pca = PCA(n_components=3)\n",
    "X_pca = pca.fit_transform(norm_X)\n",
    "evr = np.cumsum(pca.explained_variance_ratio_)\n",
    "print(evr)\n",
    "X_pca=pd.DataFrame(X_pca)\n",
    "X_pca.columns=[\"pc1\",\"pc2\",\"pc3\"]\n",
    "X_pca[\"cluster\"]=df3[\"cluster\"]\n",
    "\n",
    "# fig = px.scatter_3d(X_pca, x='pc1', y='pc2', z='pc3',color='cluster',title=\"Iris 3D\")\n",
    "fig = px.scatter_3d(X_pca, x='pc1', y='pc2', z='pc3',color='cluster',title=\"Clusters, Nonclusters, Fullsky\")\n",
    "fig.update_traces(marker_coloraxis=None)\n",
    "fig.show()"
   ]
  },
  {
   "cell_type": "markdown",
   "id": "c2c5e58c",
   "metadata": {},
   "source": [
    "### Set up FastMap"
   ]
  },
  {
   "cell_type": "markdown",
   "id": "cd0960ca",
   "metadata": {},
   "source": [
    "#### Feed in training set to algo"
   ]
  },
  {
   "cell_type": "code",
   "execution_count": null,
   "id": "63bb4928",
   "metadata": {},
   "outputs": [],
   "source": [
    "fastmap_svm = FastMapSVM(objects, labels, distance.canberra)\n",
    "fastmap_svm.fit(20,1000)"
   ]
  },
  {
   "cell_type": "markdown",
   "id": "18e79476",
   "metadata": {},
   "source": [
    "#### For each cluster in the validation set, check how the algo classifies it"
   ]
  },
  {
   "cell_type": "code",
   "execution_count": null,
   "id": "134bfe54",
   "metadata": {},
   "outputs": [],
   "source": [
    "# clustersv --> validation sample\n",
    "\n",
    "countc=[]\n",
    "for i in tqdm(range(len(clustersv))):\n",
    "    res = fastmap_svm.predict(clustersv[i])\n",
    "    countc.append(res[1])\n",
    "\n",
    "plt.hist(countc,bins=100,color='darkgreen')\n",
    "plt.xlabel('Probability of location containing a cluster\\n[Cluster validation]',size=15)\n",
    "plt.title('Full sample [Planck, ACT, IRIS, ROSAT]',loc='left',size=15)\n",
    "# plt.axvline(0.99,c='r')\n",
    "plt.tight_layout()\n",
    "# plt.savefig('c_full.png',dpi=1000)"
   ]
  },
  {
   "cell_type": "code",
   "execution_count": null,
   "id": "4edad3c2",
   "metadata": {},
   "outputs": [],
   "source": [
    "# Check how many clusters are identified with probability over 80%\n",
    "count = np.array(countc)\n",
    "num_c = len(count[count>0.8])"
   ]
  },
  {
   "cell_type": "markdown",
   "id": "026e9a10",
   "metadata": {},
   "source": [
    "#### Same shit for non-clusters"
   ]
  },
  {
   "cell_type": "code",
   "execution_count": null,
   "id": "5a797e9f",
   "metadata": {},
   "outputs": [],
   "source": [
    "# validation sample, non clusters\n",
    "\n",
    "countnc=[]\n",
    "for i in tqdm(range(len(nonclustersv))):\n",
    "    res = fastmap_svm.predict(nonclustersv[i])\n",
    "    countnc.append(res[1])\n",
    "    \n",
    "plt.hist(countnc,bins=100,color='maroon')\n",
    "plt.xlabel('Probability of location containing a cluster\\n[Non-cluster validation]',size=15)\n",
    "plt.title('Full sample [Planck, ACT, IRIS, ROSAT]',loc='left',size=15)\n",
    "plt.tight_layout()\n",
    "# plt.savefig('nc_full.png',dpi=1000)"
   ]
  },
  {
   "cell_type": "code",
   "execution_count": null,
   "id": "8e9e36c7",
   "metadata": {},
   "outputs": [],
   "source": [
    "count = np.array(countnc)\n",
    "num_nc = len(count[count>0.8])\n",
    "num_nc"
   ]
  },
  {
   "cell_type": "markdown",
   "id": "74bd18f9",
   "metadata": {},
   "source": [
    "#### Purity from cluster/non-cluster counts"
   ]
  },
  {
   "cell_type": "code",
   "execution_count": null,
   "id": "65a91400",
   "metadata": {},
   "outputs": [],
   "source": [
    "num_c/(num_c+num_nc)"
   ]
  },
  {
   "cell_type": "markdown",
   "id": "8a7bce58",
   "metadata": {},
   "source": [
    "#### Now for full-sky"
   ]
  },
  {
   "cell_type": "code",
   "execution_count": null,
   "id": "7f89b7e0",
   "metadata": {},
   "outputs": [],
   "source": [
    "countfs=[]\n",
    "for i in tqdm(range(len(fsclustersv))):\n",
    "    res = fastmap_svm.predict(fsclustersv[i])\n",
    "    countfs.append(res[1])\n",
    "    \n",
    "plt.hist(countfs,bins=100,color='slategrey')\n",
    "plt.xlabel('Probability of location containing a cluster\\n[Full-sky scan]',size=15)\n",
    "plt.title('Full sample [Planck, ACT, IRIS, ROSAT]',loc='left',size=15)\n",
    "plt.axvline(0.85,c='k',label='Detection threshold')\n",
    "plt.legend()\n",
    "plt.savefig('fs_full.png')"
   ]
  },
  {
   "cell_type": "code",
   "execution_count": null,
   "id": "cab96cf9",
   "metadata": {},
   "outputs": [],
   "source": [
    "dfval = dfsky.loc[1::2].copy()\n",
    "dfval['clusterp'] = countfs"
   ]
  },
  {
   "cell_type": "code",
   "execution_count": null,
   "id": "57c24c48",
   "metadata": {},
   "outputs": [],
   "source": [
    "dfval2 = dfval[dfval.clusterp>0.95]"
   ]
  },
  {
   "cell_type": "code",
   "execution_count": null,
   "id": "9d698273",
   "metadata": {},
   "outputs": [],
   "source": [
    "dfval2.clusterp.mean()"
   ]
  },
  {
   "cell_type": "markdown",
   "id": "ca7c6490",
   "metadata": {},
   "source": [
    "#### Plot fsky detections"
   ]
  },
  {
   "cell_type": "code",
   "execution_count": null,
   "id": "4243b59b",
   "metadata": {},
   "outputs": [],
   "source": [
    "import healpy as hp\n",
    "pl143 = hp.read_map('data/COM_CompMap_Compton-SZMap-nilc-ymaps_2048_R2.00.fits')\n",
    "hp.mollview(pl143,norm='hist',cmap='Greys',title='Masked S/N map',cbar=False)\n",
    "# hp.visufunc.projscatter(glon,glat,lonlat=True)#,c=countfs,s=10,vmin=0, vmax=1)\n",
    "hp.visufunc.projscatter(dfval2['glon'],dfval2['glat'],lonlat=True,c=dfval2['clusterp'],s=10,vmin=0, vmax=1)\n",
    "#plt.savefig('full_match_hz.png')"
   ]
  },
  {
   "cell_type": "markdown",
   "id": "7c41e23e",
   "metadata": {},
   "source": [
    "#### Set up master catalog for matching"
   ]
  },
  {
   "cell_type": "code",
   "execution_count": null,
   "id": "02211d4f",
   "metadata": {},
   "outputs": [],
   "source": [
    "comprass = pd.read_csv('data/comprass.tsv',sep='\\t',names=['ra','dec','glon','glat','snr','z','m500'])\n",
    "c = SkyCoord(comprass['ra'],comprass['dec'],frame='icrs',unit='deg')\n",
    "comprass['glat'] = c.galactic.b.degree\n",
    "comprass['glon'] = c.galactic.l.degree\n",
    "comprass['beam'] = 1.8\n",
    "comprass['cat'] = 0\n",
    "\n",
    "phz = pd.read_csv('data/phz.tsv',sep='\\t',names=['ra','dec','glon','glat','snr857','snr545','353','zph25k'])\n",
    "c = SkyCoord(phz['ra'],phz['dec'],frame='icrs',unit='deg')\n",
    "phz['glat'] = c.galactic.b.degree\n",
    "phz['glon'] = c.galactic.l.degree\n",
    "phz['beam'] = 5\n",
    "phz['cat'] = 1\n",
    "\n",
    "from astropy.table import Table\n",
    "\n",
    "act = pd.read_csv('data/act.tsv',sep='\\t',names=['ra','dec','glon','glat'])[:0]\n",
    "table = Table.read('data/DR5_cluster-catalog_v1.0b3.fits')\n",
    "act['ra'] = np.array(table['RADeg'])\n",
    "act['dec'] = np.array(table['decDeg'])\n",
    "c = SkyCoord(act['ra'],act['dec'],frame='icrs',unit='deg')\n",
    "act['glat'] = c.galactic.b.degree\n",
    "act['glon'] = c.galactic.l.degree\n",
    "act['beam'] = 1.8\n",
    "act['cat'] = 2\n",
    "\n",
    "pszspt = pd.read_csv('data/pszspt.tsv',sep='\\t',names=['ra','dec','glon','glat','snr','z','m500'])\n",
    "c = SkyCoord(pszspt['ra'],pszspt['dec'],frame='icrs',unit='deg')\n",
    "pszspt['glat'] = c.galactic.b.degree\n",
    "pszspt['glon'] = c.galactic.l.degree\n",
    "pszspt['beam'] = 5\n",
    "pszspt['cat'] = 3\n",
    "\n",
    "redmapper = pd.read_csv('data/redmapper.tsv',sep='\\t',names=['ra','dec','glon','glat','z','lambda','S'])\n",
    "c = SkyCoord(redmapper['ra'],redmapper['dec'],frame='icrs',unit='deg')\n",
    "redmapper['glat'] = c.galactic.b.degree\n",
    "redmapper['glon'] = c.galactic.l.degree\n",
    "redmapper['beam'] = 5\n",
    "redmapper['cat'] = 4\n",
    "\n",
    "whl = pd.read_csv('data/whl.tsv',sep='\\t',names=['ra','dec','glon','glat','z'])\n",
    "c = SkyCoord(whl['ra'],whl['dec'],frame='icrs',unit='deg')\n",
    "whl['glat'] = c.galactic.b.degree\n",
    "whl['glon'] = c.galactic.l.degree\n",
    "whl['beam'] = 5\n",
    "whl['cat'] = 5\n",
    "\n",
    "erosita = pd.read_csv('data/erosita.tsv',sep='\\t',names=['ra','dec','glon','glat'])\n",
    "c = SkyCoord(erosita['ra'],erosita['dec'],frame='icrs',unit='deg')\n",
    "erosita['glat'] = c.galactic.b.degree\n",
    "erosita['glon'] = c.galactic.l.degree\n",
    "erosita['beam'] = 5\n",
    "erosita['cat'] = 6\n",
    "\n",
    "mard = pd.read_csv('data/mard.tsv',sep='\\t',names=['ra','dec','z1','z2','z3','rh1','rh2','rh3'])\n",
    "c = SkyCoord(mard['ra'],mard['dec'],frame='icrs',unit='deg')\n",
    "mard['glat'] = c.galactic.b.degree\n",
    "mard['glon'] = c.galactic.l.degree\n",
    "mard['beam'] = 5\n",
    "mard['cat'] = 7\n",
    "\n",
    "mcxc = pd.read_csv('data/mcxc.tsv',sep='\\t',names=['ra','dec','z','l500','m500','r500'])\n",
    "c = SkyCoord(mcxc['ra'],mcxc['dec'],frame='icrs',unit='deg')\n",
    "mcxc['glat'] = c.galactic.b.degree\n",
    "mcxc['glon'] = c.galactic.l.degree\n",
    "mcxc['beam'] = 5\n",
    "mcxc['cat'] = 8\n",
    "\n",
    "catalogs = pd.concat([comprass,mard,mcxc,erosita,whl,redmapper,pszspt,phz]).reset_index(drop=True)"
   ]
  },
  {
   "cell_type": "markdown",
   "id": "63a4c3c0",
   "metadata": {},
   "source": [
    "#### Do the matching: In Progress!!"
   ]
  },
  {
   "cell_type": "code",
   "execution_count": null,
   "id": "cc6d4fae",
   "metadata": {},
   "outputs": [],
   "source": [
    "from pixell import enmap, enplot, reproject, utils, curvedsky, wcsutils\n",
    "\n",
    "c = SkyCoord(dfval2['glon'],dfval2['glat'],frame='galactic',unit='deg')\n",
    "dfval2['ra'] = c.icrs.ra.degree\n",
    "dfval2['dec'] = c.icrs.dec.degree\n",
    "\n",
    "dfval3 = dfval2[['glat','glon','ra','dec','clusterp']].reset_index(drop=True)\n",
    "\n",
    "# Create a list to store indices \n",
    "indices1 = []\n",
    "indices2 = []\n",
    "rows = []\n",
    "matches1 = dfval3[:0].copy()\n",
    "matches2 = catalogs[:0].copy()\n",
    "\n",
    "count = 0\n",
    "# Iterate through each row in df\n",
    "for index in tqdm(range(len(dfval3))):\n",
    "    row = dfval3.iloc[index]\n",
    "    # Iterate through each row in df2\n",
    "    matched = []\n",
    "    for index2, row2 in catalogs.iterrows():\n",
    "        if row2['cat'] in matched:\n",
    "            continue\n",
    "\n",
    "        p1 = np.deg2rad([row['dec'], row['ra']])\n",
    "        p2 = np.deg2rad([row2['dec'], row2['ra']])\n",
    "        sep = \n",
    "        # Check if the glat and glon values are within 0.5\n",
    "        if (< (row2['beam'])):\n",
    "            print(row['dec'],row2['dec'],row['ra'],row2['ra'],p1[0]-p2[0],p1[1]-p2[1])\n",
    "#             print(\"Match in \", row2['cat'])\n",
    "            # Append indices to list\n",
    "            count+=1\n",
    "            indices2.append(index2)\n",
    "            matches1.loc[len(matches1)] = row\n",
    "            matches2.loc[len(matches2)] = row2\n",
    "            matched.append(row2['cat'])\n",
    "        else:\n",
    "            indices1.append(index)"
   ]
  },
  {
   "cell_type": "code",
   "execution_count": null,
   "id": "28d62fe0",
   "metadata": {},
   "outputs": [],
   "source": [
    "c1 = SkyCoord(80.5, 30, unit='deg', frame='icrs')\n",
    "c2 = SkyCoord(81, 30, unit='deg', frame='icrs')\n",
    "c1.separation(c2).rad"
   ]
  },
  {
   "cell_type": "code",
   "execution_count": null,
   "id": "c248700d",
   "metadata": {},
   "outputs": [],
   "source": [
    "sep = np.arccos(np.sin(np.deg2rad(row['dec']))*np.sin(np.deg2rad(row2['dec'])) + np.cos(np.deg2rad(row['dec']))*np.cos(np.deg2rad(row2['dec']))*np.cos(np.deg2rad(row['ra']) - np.deg2rad(row2['ra'])))\n",
    "sep"
   ]
  },
  {
   "cell_type": "code",
   "execution_count": null,
   "id": "83a5ef0a",
   "metadata": {},
   "outputs": [],
   "source": [
    "import healpy as hp\n",
    "pl143 = hp.read_map('data/COM_CompMap_Compton-SZMap-nilc-ymaps_2048_R2.00.fits')\n",
    "hp.mollview(pl143,norm='hist',cmap='Greys',title='Masked S/N map')\n",
    "# hp.visufunc.projscatter(glon,glat,lonlat=True)#,c=countfs,s=10,vmin=0, vmax=1)\n",
    "hp.visufunc.projscatter(catalogs['glon'],catalogs['glat'],lonlat=True,s=10,vmin=0, vmax=1)"
   ]
  }
 ],
 "metadata": {
  "kernelspec": {
   "display_name": "Python 3 (ipykernel)",
   "language": "python",
   "name": "python3"
  },
  "language_info": {
   "codemirror_mode": {
    "name": "ipython",
    "version": 3
   },
   "file_extension": ".py",
   "mimetype": "text/x-python",
   "name": "python",
   "nbconvert_exporter": "python",
   "pygments_lexer": "ipython3",
   "version": "3.10.9"
  }
 },
 "nbformat": 4,
 "nbformat_minor": 5
}
