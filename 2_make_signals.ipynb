{
 "cells": [
  {
   "cell_type": "code",
   "execution_count": 1,
   "id": "6485064d",
   "metadata": {},
   "outputs": [],
   "source": [
    "import pandas as pd\n",
    "import math\n",
    "import numpy as np\n",
    "from astropy.coordinates import SkyCoord\n",
    "from astropy.io import fits\n",
    "import healpy as hp\n",
    "import matplotlib.pyplot as plt\n",
    "import time\n",
    "import sys\n",
    "from pixell import enmap, enplot, reproject, utils, curvedsky, wcsutils\n",
    "from matplotlib import cm\n",
    "from scipy.optimize import curve_fit\n",
    "from scipy.linalg import sqrtm\n",
    "from tqdm import tqdm\n",
    "import random\n",
    "import time\n",
    "import multiprocessing as mp\n",
    "import numpy as np\n",
    "import random\n",
    "import time\n",
    "import multiprocessing as mp\n",
    "import numpy as np"
   ]
  },
  {
   "cell_type": "markdown",
   "id": "a2d6dff5",
   "metadata": {},
   "source": [
    "# Rad: 5, 10"
   ]
  },
  {
   "cell_type": "code",
   "execution_count": 3,
   "id": "6d5e792e",
   "metadata": {},
   "outputs": [],
   "source": [
    "def import_map(filepath, beam):\n",
    "    pl = hp.read_map(filepath)\n",
    "    pl[(pl==-32768) | np.isnan(pl)] = 0\n",
    "    try:\n",
    "        shape,wcs = enmap.fullsky_geometry(res=int(beam)*utils.arcmin,proj='car')\n",
    "        map_pix = reproject.enmap_from_healpix(pl,shape=shape,wcs=wcs)\n",
    "    except:\n",
    "        shape,wcs = enmap.fullsky_geometry(res=int(beam+1)*utils.arcmin,proj='car')\n",
    "        map_pix = reproject.enmap_from_healpix(pl,shape=shape,wcs=wcs)\n",
    "    return map_pix\n",
    "\n",
    "\n",
    "def extract_intensity(map_pix, ras, decs, beam):\n",
    "    N = len(ras)\n",
    "    stack_CMB_kSZ           = 0\n",
    "    stack_CMB_kSZ_deproject = 0\n",
    "    c = 0\n",
    "\n",
    "    signal = []\n",
    "    signal_ring = []\n",
    "    ras_used = []\n",
    "    decs_used = []\n",
    "    for i in tqdm(range(N)):\n",
    "        stamp = reproject.thumbnails(map_pix,coords = np.deg2rad([decs[i], ras[i]]),r=beam*utils.arcmin)\n",
    "        stamp2 = reproject.thumbnails(map_pix,coords = np.deg2rad([decs[i], ras[i]]),r=beam*2*utils.arcmin)\n",
    "\n",
    "        if stamp is None:\n",
    "            signal.append(-9999)\n",
    "            signal_ring.append(-9999)\n",
    "        elif stamp[0][0][0]==0.0:\n",
    "            signal.append(-9999)\n",
    "            signal_ring.append(-9999)\n",
    "        else:\n",
    "            signal_sum = sum(sum(stamp[0]))\n",
    "            signal2_sum = sum(sum(stamp2[0]))\n",
    "            num_pix_signal = len(stamp[0][0])*len(stamp[0][0])\n",
    "            num_pix_signal2 = len(stamp2[0][0])*len(stamp2[0][0])            \n",
    "            signal.append(signal_sum/num_pix_signal)\n",
    "            signal_ring.append((signal2_sum-signal_sum)/(num_pix_signal2-num_pix_signal))\n",
    "        ras_used.append(ras[i])\n",
    "        decs_used.append(decs[i])\n",
    "\n",
    "    return signal, signal_ring, ras_used, decs_used\n",
    "\n",
    "\n",
    "def output_signal(signal,signal_ring,output_fp,output_fp_signal):\n",
    "    np.savetxt(output_fp,\n",
    "               signal,\n",
    "               delimiter=\", \",\n",
    "               fmt='% s')\n",
    "    np.savetxt(output_fp_signal,\n",
    "               signal_ring,\n",
    "               delimiter=\", \",\n",
    "               fmt='% s')"
   ]
  },
  {
   "cell_type": "code",
   "execution_count": 5,
   "id": "8d5707aa",
   "metadata": {},
   "outputs": [
    {
     "name": "stdout",
     "output_type": "stream",
     "text": [
      "Preparing SHT\n",
      "T -> alm\n",
      "float64 complex128\n",
      "Computing pixel positions\n",
      "Computing rotated positions\n",
      "Projecting\n"
     ]
    },
    {
     "name": "stderr",
     "output_type": "stream",
     "text": [
      "100%|██████████████████████████████████████████████████████████████████████████████████████████████████████████████████████| 207915/207915 [53:37<00:00, 64.62it/s]\n"
     ]
    }
   ],
   "source": [
    "real = pd.read_csv('data/union2.csv',skiprows=0,index_col=0)[::3]\n",
    "ras_real = real['amf_ra'].reset_index(drop=True)##[real.z>0.75][::2].reset_index(drop=True)\n",
    "decs_real = real['amf_dec'].reset_index(drop=True)##[real.z>0.75][::2].reset_index(drop=True)\n",
    "\n",
    "ras_all = ras_real\n",
    "decs_all = decs_real\n",
    "\n",
    "maps = \"data/IRIS_nohole_1_2048_v2.fits\"\n",
    "beam=10\n",
    "map_pix = import_map(maps, int(beam))\n",
    "\n",
    "outputs = \"output/510u3/ir12.csv\"\n",
    "outputs2 = \"output/510u3/ir12_r.csv\"\n",
    "\n",
    "signal, signal_ring, ras_used, decs_used = extract_intensity(map_pix, ras_all, decs_all, beam)\n",
    "output_signal(signal, signal_ring, outputs, outputs2)"
   ]
  },
  {
   "cell_type": "code",
   "execution_count": 6,
   "id": "6111375f",
   "metadata": {},
   "outputs": [
    {
     "name": "stdout",
     "output_type": "stream",
     "text": [
      "Preparing SHT\n",
      "T -> alm\n",
      "float64 complex128\n",
      "Computing pixel positions\n",
      "Computing rotated positions\n",
      "Projecting\n"
     ]
    },
    {
     "name": "stderr",
     "output_type": "stream",
     "text": [
      "100%|██████████████████████████████████████████████████████████████████████████████████████████████████████████████████████| 207915/207915 [53:19<00:00, 64.98it/s]\n"
     ]
    }
   ],
   "source": [
    "real = pd.read_csv('data/union2.csv',skiprows=0,index_col=0)[::3]\n",
    "ras_real = real['amf_ra'].reset_index(drop=True)##[real.z>0.75][::2].reset_index(drop=True)\n",
    "decs_real = real['amf_dec'].reset_index(drop=True)##[real.z>0.75][::2].reset_index(drop=True)\n",
    "\n",
    "ras_all = ras_real\n",
    "decs_all = decs_real\n",
    "\n",
    "maps = \"data/IRIS_nohole_2_2048_v2.fits\"\n",
    "beam=10\n",
    "map_pix = import_map(maps, int(beam))\n",
    "\n",
    "outputs = \"output/510u3/ir25.csv\"\n",
    "outputs2 = \"output/510u3/ir25_r.csv\"\n",
    "\n",
    "signal, signal_ring, ras_used, decs_used = extract_intensity(map_pix, ras_all, decs_all, beam)\n",
    "output_signal(signal, signal_ring, outputs, outputs2)"
   ]
  },
  {
   "cell_type": "code",
   "execution_count": 7,
   "id": "6598379b",
   "metadata": {},
   "outputs": [
    {
     "name": "stdout",
     "output_type": "stream",
     "text": [
      "Preparing SHT\n",
      "T -> alm\n",
      "float64 complex128\n",
      "Computing pixel positions\n",
      "Computing rotated positions\n",
      "Projecting\n"
     ]
    },
    {
     "name": "stderr",
     "output_type": "stream",
     "text": [
      "100%|██████████████████████████████████████████████████████████████████████████████████████████████████████████████████████| 207915/207915 [54:52<00:00, 63.15it/s]\n"
     ]
    }
   ],
   "source": [
    "real = pd.read_csv('data/union2.csv',skiprows=0,index_col=0)[::3]\n",
    "ras_real = real['amf_ra'].reset_index(drop=True)##[real.z>0.75][::2].reset_index(drop=True)\n",
    "decs_real = real['amf_dec'].reset_index(drop=True)##[real.z>0.75][::2].reset_index(drop=True)\n",
    "\n",
    "ras_all = ras_real\n",
    "decs_all = decs_real\n",
    "\n",
    "maps = \"data/IRIS_nohole_3_2048_v2.fits\"\n",
    "beam=10\n",
    "map_pix = import_map(maps, int(beam))\n",
    "\n",
    "outputs = \"output/510u3/ir60.csv\"\n",
    "outputs2 = \"output/510u3/ir60_r.csv\"\n",
    "\n",
    "signal, signal_ring, ras_used, decs_used = extract_intensity(map_pix, ras_all, decs_all, beam)\n",
    "output_signal(signal, signal_ring, outputs, outputs2)"
   ]
  },
  {
   "cell_type": "code",
   "execution_count": 4,
   "id": "c5d2940d",
   "metadata": {},
   "outputs": [
    {
     "name": "stdout",
     "output_type": "stream",
     "text": [
      "Preparing SHT\n",
      "T -> alm\n",
      "float64 complex128\n",
      "Computing pixel positions\n",
      "Computing rotated positions\n",
      "Projecting\n"
     ]
    },
    {
     "name": "stderr",
     "output_type": "stream",
     "text": [
      "100%|██████████████████████████████████████████████████████████████████████████████████████████████████████████████████████| 207915/207915 [53:40<00:00, 64.55it/s]\n"
     ]
    }
   ],
   "source": [
    "real = pd.read_csv('data/union2.csv',skiprows=0,index_col=0)[::3]\n",
    "ras_real = real['amf_ra'].reset_index(drop=True)##[real.z>0.75][::2].reset_index(drop=True)\n",
    "decs_real = real['amf_dec'].reset_index(drop=True)##[real.z>0.75][::2].reset_index(drop=True)\n",
    "\n",
    "ras_all = ras_real\n",
    "decs_all = decs_real\n",
    "\n",
    "maps = \"data/IRIS_nohole_4_2048_v2.fits\"\n",
    "beam=10\n",
    "map_pix = import_map(maps, int(beam))\n",
    "\n",
    "outputs = \"output/510u3/ir100.csv\"\n",
    "outputs2 = \"output/510u3/ir100_r.csv\"\n",
    "\n",
    "signal, signal_ring, ras_used, decs_used = extract_intensity(map_pix, ras_all, decs_all, beam)\n",
    "output_signal(signal, signal_ring, outputs, outputs2)"
   ]
  },
  {
   "cell_type": "markdown",
   "id": "eb8993d3",
   "metadata": {},
   "source": [
    "---"
   ]
  },
  {
   "cell_type": "code",
   "execution_count": 5,
   "id": "18fc9a8d",
   "metadata": {},
   "outputs": [
    {
     "name": "stdout",
     "output_type": "stream",
     "text": [
      "Preparing SHT\n",
      "T -> alm\n",
      "float64 complex128\n",
      "Computing pixel positions\n",
      "Computing rotated positions\n",
      "Projecting\n"
     ]
    },
    {
     "name": "stderr",
     "output_type": "stream",
     "text": [
      "100%|████████████████████████████████████████████████████████████████████████████████████████████████████████████████████████| 47231/47231 [12:24<00:00, 63.48it/s]\n"
     ]
    }
   ],
   "source": [
    "voids = pd.read_csv('data/voids.csv',skiprows=0,index_col=0)\n",
    "ras_voids = voids['ras'].reset_index(drop=True)\n",
    "decs_voids = voids['decs'].reset_index(drop=True)\n",
    "\n",
    "ras_all = ras_voids\n",
    "decs_all = decs_voids\n",
    "\n",
    "maps = \"data/IRIS_nohole_1_2048_v2.fits\"\n",
    "beam=10\n",
    "map_pix = import_map(maps, int(beam))\n",
    "\n",
    "outputs = \"output/510u3/iv12.csv\"\n",
    "outputs2 = \"output/510u3/iv12_r.csv\"\n",
    "\n",
    "signal, signal_ring, ras_used, decs_used = extract_intensity(map_pix, ras_all, decs_all, beam)\n",
    "output_signal(signal, signal_ring, outputs, outputs2)"
   ]
  },
  {
   "cell_type": "code",
   "execution_count": 6,
   "id": "8c4017c7",
   "metadata": {},
   "outputs": [
    {
     "name": "stdout",
     "output_type": "stream",
     "text": [
      "Preparing SHT\n",
      "T -> alm\n",
      "float64 complex128\n",
      "Computing pixel positions\n",
      "Computing rotated positions\n",
      "Projecting\n"
     ]
    },
    {
     "name": "stderr",
     "output_type": "stream",
     "text": [
      "100%|████████████████████████████████████████████████████████████████████████████████████████████████████████████████████████| 47231/47231 [12:42<00:00, 61.95it/s]\n"
     ]
    }
   ],
   "source": [
    "voids = pd.read_csv('data/voids.csv',skiprows=0,index_col=0)\n",
    "ras_voids = voids['ras'].reset_index(drop=True)\n",
    "decs_voids = voids['decs'].reset_index(drop=True)\n",
    "\n",
    "ras_all = ras_voids\n",
    "decs_all = decs_voids\n",
    "\n",
    "maps = \"data/IRIS_nohole_2_2048_v2.fits\"\n",
    "beam=10\n",
    "map_pix = import_map(maps, int(beam))\n",
    "\n",
    "outputs = \"output/510u3/iv25.csv\"\n",
    "outputs2 = \"output/510u3/iv25_r.csv\"\n",
    "\n",
    "signal, signal_ring, ras_used, decs_used = extract_intensity(map_pix, ras_all, decs_all, beam)\n",
    "output_signal(signal, signal_ring, outputs, outputs2)"
   ]
  },
  {
   "cell_type": "code",
   "execution_count": 7,
   "id": "39955440",
   "metadata": {},
   "outputs": [
    {
     "name": "stdout",
     "output_type": "stream",
     "text": [
      "Preparing SHT\n",
      "T -> alm\n",
      "float64 complex128\n",
      "Computing pixel positions\n",
      "Computing rotated positions\n",
      "Projecting\n"
     ]
    },
    {
     "name": "stderr",
     "output_type": "stream",
     "text": [
      "100%|████████████████████████████████████████████████████████████████████████████████████████████████████████████████████████| 47231/47231 [14:03<00:00, 56.01it/s]\n"
     ]
    }
   ],
   "source": [
    "voids = pd.read_csv('data/voids.csv',skiprows=0,index_col=0)\n",
    "ras_voids = voids['ras'].reset_index(drop=True)\n",
    "decs_voids = voids['decs'].reset_index(drop=True)\n",
    "\n",
    "ras_all = ras_voids\n",
    "decs_all = decs_voids\n",
    "\n",
    "maps = \"data/IRIS_nohole_3_2048_v2.fits\"\n",
    "beam=10\n",
    "map_pix = import_map(maps, int(beam))\n",
    "\n",
    "outputs = \"output/510u3/iv60.csv\"\n",
    "outputs2 = \"output/510u3/iv60_r.csv\"\n",
    "\n",
    "signal, signal_ring, ras_used, decs_used = extract_intensity(map_pix, ras_all, decs_all, beam)\n",
    "output_signal(signal, signal_ring, outputs, outputs2)"
   ]
  },
  {
   "cell_type": "code",
   "execution_count": 8,
   "id": "d28fdc6b",
   "metadata": {},
   "outputs": [
    {
     "name": "stdout",
     "output_type": "stream",
     "text": [
      "Preparing SHT\n",
      "T -> alm\n",
      "float64 complex128\n",
      "Computing pixel positions\n",
      "Computing rotated positions\n",
      "Projecting\n"
     ]
    },
    {
     "name": "stderr",
     "output_type": "stream",
     "text": [
      "100%|████████████████████████████████████████████████████████████████████████████████████████████████████████████████████████| 47231/47231 [25:31<00:00, 30.83it/s]\n"
     ]
    }
   ],
   "source": [
    "voids = pd.read_csv('data/voids.csv',skiprows=0,index_col=0) \n",
    "ras_voids = voids['ras'].reset_index(drop=True)\n",
    "decs_voids = voids['decs'].reset_index(drop=True)\n",
    "\n",
    "ras_all = ras_voids\n",
    "decs_all = decs_voids\n",
    "\n",
    "maps = \"data/IRIS_nohole_4_2048_v2.fits\"\n",
    "beam=10\n",
    "map_pix = import_map(maps, int(beam))\n",
    "\n",
    "outputs = \"output/510u3/iv100.csv\"\n",
    "outputs2 = \"output/510u3/iv100_r.csv\"\n",
    "\n",
    "signal, signal_ring, ras_used, decs_used = extract_intensity(map_pix, ras_all, decs_all, beam)\n",
    "output_signal(signal, signal_ring, outputs, outputs2)"
   ]
  },
  {
   "cell_type": "code",
   "execution_count": null,
   "id": "a6fec2d5",
   "metadata": {},
   "outputs": [],
   "source": [
    "import astropy.coordinates as coord\n",
    "from astropy.coordinates import SkyCoord\n",
    "from astropy import units as u\n",
    "from tqdm import tqdm\n",
    "\n",
    "# galactic coordinates\n",
    "glon = []\n",
    "glat = []\n",
    "for lon in tqdm(np.linspace(180,360,540)):\n",
    "    for lat in np.linspace(15,90,225):\n",
    "        if (lat >= -15) & (lat <= 15):\n",
    "            continue\n",
    "        glon.append(lon)\n",
    "        glat.append(lat)\n",
    "glon2 = [i*u.degree for i in glon]\n",
    "glat2 = [i*u.degree for i in glat]\n",
    "\n",
    "# convert to equitorial coordinates\n",
    "c = SkyCoord(glon2, glat2, frame='galactic')\n",
    "ras = c.icrs.ra.deg\n",
    "decs = c.icrs.dec.deg"
   ]
  },
  {
   "cell_type": "code",
   "execution_count": null,
   "id": "b7872f3d",
   "metadata": {},
   "outputs": [],
   "source": [
    "ras_fsky = pd.read_csv('data/full_sky_ras.csv').reset_index(drop=True)\n",
    "decs_fsky = pd.read_csv('data/full_sky_decs.csv').reset_index(drop=True)\n",
    "\n",
    "ras_all = np.array(ras)#np.array(ras)#ras_fsky['ras'].values\n",
    "decs_all = np.array(decs)#decs_fsky['decs'].values\n",
    "\n",
    "maps = \"data/IRIS_nohole_1_2048_v2.fits\"\n",
    "beam=10\n",
    "map_pix = import_map(maps, int(beam))\n",
    "\n",
    "outputs = \"output/510u3/if12.csv\"\n",
    "outputs2 = \"output/510u3/if12_r.csv\"\n",
    "\n",
    "signal, signal_ring, ras_used, decs_used = extract_intensity(map_pix, ras_all, decs_all, beam)\n",
    "output_signal(signal, signal_ring, outputs, outputs2)"
   ]
  },
  {
   "cell_type": "code",
   "execution_count": null,
   "id": "a6e3b01c",
   "metadata": {},
   "outputs": [],
   "source": [
    "ras_fsky = pd.read_csv('data/full_sky_ras.csv').reset_index(drop=True)\n",
    "decs_fsky = pd.read_csv('data/full_sky_decs.csv').reset_index(drop=True)\n",
    "\n",
    "ras_all = np.array(ras)#np.array(ras)#ras_fsky['ras'].values\n",
    "decs_all = np.array(decs)#decs_fsky['decs'].values\n",
    "\n",
    "maps = \"data/IRIS_nohole_2_2048_v2.fits\"\n",
    "beam=10\n",
    "map_pix = import_map(maps, int(beam))\n",
    "\n",
    "outputs = \"output/510u3/if25.csv\"\n",
    "outputs2 = \"output/510u3/if25_r.csv\"\n",
    "\n",
    "signal, signal_ring, ras_used, decs_used = extract_intensity(map_pix, ras_all, decs_all, beam)\n",
    "output_signal(signal, signal_ring, outputs, outputs2)"
   ]
  },
  {
   "cell_type": "code",
   "execution_count": null,
   "id": "d885e186",
   "metadata": {},
   "outputs": [],
   "source": [
    "ras_fsky = pd.read_csv('data/full_sky_ras.csv').reset_index(drop=True)\n",
    "decs_fsky = pd.read_csv('data/full_sky_decs.csv').reset_index(drop=True)\n",
    "\n",
    "ras_all = np.array(ras)#np.array(ras)#ras_fsky['ras'].values\n",
    "decs_all = np.array(decs)#decs_fsky['decs'].values\n",
    "\n",
    "maps = \"data/IRIS_nohole_3_2048_v2.fits\"\n",
    "beam=10\n",
    "map_pix = import_map(maps, int(beam))\n",
    "\n",
    "outputs = \"output/510u3/if60.csv\"\n",
    "outputs2 = \"output/510u3/if60_r.csv\"\n",
    "\n",
    "signal, signal_ring, ras_used, decs_used = extract_intensity(map_pix, ras_all, decs_all, beam)\n",
    "output_signal(signal, signal_ring, outputs, outputs2)"
   ]
  },
  {
   "cell_type": "code",
   "execution_count": null,
   "id": "ac628604",
   "metadata": {},
   "outputs": [],
   "source": [
    "ras_fsky = pd.read_csv('data/full_sky_ras.csv').reset_index(drop=True)\n",
    "decs_fsky = pd.read_csv('data/full_sky_decs.csv').reset_index(drop=True)\n",
    "\n",
    "ras_all = np.array(ras)#np.array(ras)#ras_fsky['ras'].values\n",
    "decs_all = np.array(decs)#decs_fsky['decs'].values\n",
    "\n",
    "maps = \"data/IRIS_nohole_4_2048_v2.fits\"\n",
    "beam=10\n",
    "map_pix = import_map(maps, int(beam))\n",
    "\n",
    "outputs = \"output/510u3/if100.csv\"\n",
    "outputs2 = \"output/510u3/if100_r.csv\"\n",
    "\n",
    "signal, signal_ring, ras_used, decs_used = extract_intensity(map_pix, ras_all, decs_all, beam)\n",
    "output_signal(signal, signal_ring, outputs, outputs2)"
   ]
  },
  {
   "cell_type": "markdown",
   "id": "0db31942",
   "metadata": {},
   "source": [
    "## Planck"
   ]
  },
  {
   "cell_type": "markdown",
   "id": "e2186534",
   "metadata": {},
   "source": [
    "### Real"
   ]
  },
  {
   "cell_type": "code",
   "execution_count": 5,
   "id": "dc2c4a5c",
   "metadata": {},
   "outputs": [],
   "source": [
    "def import_map(filepath, beam):\n",
    "    pl = hp.read_map(filepath)\n",
    "    pl[pl<-1e23]=0\n",
    "    try:\n",
    "        shape,wcs = enmap.fullsky_geometry(res=int(beam)*utils.arcmin,proj='car')\n",
    "        map_pix = reproject.enmap_from_healpix(pl,shape=shape,wcs=wcs)\n",
    "    except:\n",
    "        shape,wcs = enmap.fullsky_geometry(res=int(beam+1)*utils.arcmin,proj='car')\n",
    "        map_pix = reproject.enmap_from_healpix(pl,shape=shape,wcs=wcs)\n",
    "    return map_pix\n",
    "\n",
    "\n",
    "def extract_intensity(map_pix, ras, decs, beam):\n",
    "    N = len(ras)\n",
    "    stack_CMB_kSZ           = 0\n",
    "    stack_CMB_kSZ_deproject = 0\n",
    "    c = 0\n",
    "\n",
    "    signal = []\n",
    "    signal_ring = []\n",
    "    ras_used = []\n",
    "    decs_used = []\n",
    "    for i in tqdm(range(N)):\n",
    "        stamp = reproject.thumbnails(map_pix,coords = np.deg2rad([decs[i], ras[i]]),r=beam*utils.arcmin)\n",
    "        stamp2 = reproject.thumbnails(map_pix,coords = np.deg2rad([decs[i], ras[i]]),r=beam*2*utils.arcmin)\n",
    "\n",
    "        if stamp is None:\n",
    "            signal.append(-9999)\n",
    "        elif stamp[0][0][0]==0.0:\n",
    "            signal.append(-9999)\n",
    "        else:\n",
    "            signal_sum = sum(sum(stamp[0]))\n",
    "            signal2_sum = sum(sum(stamp2[0]))\n",
    "            num_pix_signal = len(stamp[0][0])*len(stamp[0][0])\n",
    "            num_pix_signal2 = len(stamp2[0][0])*len(stamp2[0][0])            \n",
    "            signal.append(signal_sum/num_pix_signal)\n",
    "            signal_ring.append((signal2_sum-signal_sum)/(num_pix_signal2-num_pix_signal))\n",
    "        ras_used.append(ras[i])\n",
    "        decs_used.append(decs[i])\n",
    "\n",
    "    return signal, signal_ring, ras_used, decs_used\n",
    "\n",
    "\n",
    "def output_signal(signal,signal_ring,output_fp,output_fp_signal):\n",
    "    np.savetxt(output_fp,\n",
    "               signal,\n",
    "               delimiter=\", \",\n",
    "               fmt='% s')\n",
    "    np.savetxt(output_fp_signal,\n",
    "               signal_ring,\n",
    "               delimiter=\", \",\n",
    "               fmt='% s')"
   ]
  },
  {
   "cell_type": "code",
   "execution_count": 10,
   "id": "be827061",
   "metadata": {},
   "outputs": [
    {
     "name": "stdout",
     "output_type": "stream",
     "text": [
      "Preparing SHT\n",
      "T -> alm\n",
      "float64 complex128\n",
      "Computing pixel positions\n",
      "Computing rotated positions\n",
      "Projecting\n"
     ]
    },
    {
     "name": "stderr",
     "output_type": "stream",
     "text": [
      "100%|██████████████████████████████████████████████████████████████████████████████████████████████████████████████████████| 207915/207915 [58:01<00:00, 59.71it/s]\n"
     ]
    }
   ],
   "source": [
    "real = pd.read_csv('data/union2.csv',skiprows=0,index_col=0)[::3]\n",
    "ras_real = real['amf_ra'].reset_index(drop=True)##[real.z>0.75][::2].reset_index(drop=True)\n",
    "decs_real = real['amf_dec'].reset_index(drop=True)##[real.z>0.75][::2].reset_index(drop=True)\n",
    "\n",
    "ras_all = ras_real\n",
    "decs_all = decs_real\n",
    "\n",
    "maps = \"data/HFI_SkyMap_100-field-IQU_2048_R3.00_full.fits\"\n",
    "beam = 10\n",
    "map_pix = import_map(maps, int(beam))\n",
    "\n",
    "outputs = \"output/510u3/pr100.csv\"\n",
    "outputs2 = \"output/510u3/pr100_r.csv\"\n",
    "\n",
    "signal, signal_ring, ras_used, decs_used = extract_intensity(map_pix, ras_all, decs_all, beam)\n",
    "output_signal(signal, signal_ring, outputs, outputs2)"
   ]
  },
  {
   "cell_type": "code",
   "execution_count": 6,
   "id": "470d5268",
   "metadata": {},
   "outputs": [
    {
     "name": "stdout",
     "output_type": "stream",
     "text": [
      "Preparing SHT\n",
      "T -> alm\n",
      "float64 complex128\n",
      "Computing pixel positions\n",
      "Computing rotated positions\n",
      "Projecting\n"
     ]
    },
    {
     "name": "stderr",
     "output_type": "stream",
     "text": [
      "100%|██████████████████████████████████████████████████████████████████████████████████████████████████████████████████████| 207915/207915 [54:21<00:00, 63.75it/s]\n"
     ]
    }
   ],
   "source": [
    "real = pd.read_csv('data/union2.csv',skiprows=0,index_col=0)[::3]\n",
    "ras_real = real['amf_ra'].reset_index(drop=True)##[real.z>0.75][::2].reset_index(drop=True)\n",
    "decs_real = real['amf_dec'].reset_index(drop=True)##[real.z>0.75][::2].reset_index(drop=True)\n",
    "\n",
    "ras_all = ras_real\n",
    "decs_all = decs_real\n",
    "\n",
    "maps = \"data/HFI_SkyMap_143-field-IQU_2048_R3.00_full.fits\"\n",
    "beam = 10\n",
    "map_pix = import_map(maps, int(beam))\n",
    "\n",
    "outputs = \"output/510u3/pr143.csv\"\n",
    "outputs2 = \"output/510u3/pr143_r.csv\"\n",
    "\n",
    "signal, signal_ring, ras_used, decs_used = extract_intensity(map_pix, ras_all, decs_all, beam)\n",
    "output_signal(signal, signal_ring, outputs, outputs2)"
   ]
  },
  {
   "cell_type": "code",
   "execution_count": 7,
   "id": "75eb3af7",
   "metadata": {},
   "outputs": [
    {
     "name": "stdout",
     "output_type": "stream",
     "text": [
      "Preparing SHT\n",
      "T -> alm\n",
      "float64 complex128\n",
      "Computing pixel positions\n",
      "Computing rotated positions\n",
      "Projecting\n"
     ]
    },
    {
     "name": "stderr",
     "output_type": "stream",
     "text": [
      "  4%|████▌                                                                                                                   | 7859/207915 [02:07<53:58, 61.77it/s]\n"
     ]
    },
    {
     "ename": "KeyboardInterrupt",
     "evalue": "",
     "output_type": "error",
     "traceback": [
      "\u001b[0;31m---------------------------------------------------------------------------\u001b[0m",
      "\u001b[0;31mKeyboardInterrupt\u001b[0m                         Traceback (most recent call last)",
      "Cell \u001b[0;32mIn[7], line 15\u001b[0m\n\u001b[1;32m     12\u001b[0m outputs \u001b[38;5;241m=\u001b[39m \u001b[38;5;124m\"\u001b[39m\u001b[38;5;124moutput/510u3/pr217.csv\u001b[39m\u001b[38;5;124m\"\u001b[39m\n\u001b[1;32m     13\u001b[0m outputs2 \u001b[38;5;241m=\u001b[39m \u001b[38;5;124m\"\u001b[39m\u001b[38;5;124moutput/510u3/pr217_r.csv\u001b[39m\u001b[38;5;124m\"\u001b[39m\n\u001b[0;32m---> 15\u001b[0m signal, signal_ring, ras_used, decs_used \u001b[38;5;241m=\u001b[39m \u001b[43mextract_intensity\u001b[49m\u001b[43m(\u001b[49m\u001b[43mmap_pix\u001b[49m\u001b[43m,\u001b[49m\u001b[43m \u001b[49m\u001b[43mras_all\u001b[49m\u001b[43m,\u001b[49m\u001b[43m \u001b[49m\u001b[43mdecs_all\u001b[49m\u001b[43m,\u001b[49m\u001b[43m \u001b[49m\u001b[43mbeam\u001b[49m\u001b[43m)\u001b[49m\n\u001b[1;32m     16\u001b[0m output_signal(signal, signal_ring, outputs, outputs2)\n",
      "Cell \u001b[0;32mIn[5], line 24\u001b[0m, in \u001b[0;36mextract_intensity\u001b[0;34m(map_pix, ras, decs, beam)\u001b[0m\n\u001b[1;32m     22\u001b[0m decs_used \u001b[38;5;241m=\u001b[39m []\n\u001b[1;32m     23\u001b[0m \u001b[38;5;28;01mfor\u001b[39;00m i \u001b[38;5;129;01min\u001b[39;00m tqdm(\u001b[38;5;28mrange\u001b[39m(N)):\n\u001b[0;32m---> 24\u001b[0m     stamp \u001b[38;5;241m=\u001b[39m \u001b[43mreproject\u001b[49m\u001b[38;5;241;43m.\u001b[39;49m\u001b[43mthumbnails\u001b[49m\u001b[43m(\u001b[49m\u001b[43mmap_pix\u001b[49m\u001b[43m,\u001b[49m\u001b[43mcoords\u001b[49m\u001b[43m \u001b[49m\u001b[38;5;241;43m=\u001b[39;49m\u001b[43m \u001b[49m\u001b[43mnp\u001b[49m\u001b[38;5;241;43m.\u001b[39;49m\u001b[43mdeg2rad\u001b[49m\u001b[43m(\u001b[49m\u001b[43m[\u001b[49m\u001b[43mdecs\u001b[49m\u001b[43m[\u001b[49m\u001b[43mi\u001b[49m\u001b[43m]\u001b[49m\u001b[43m,\u001b[49m\u001b[43m \u001b[49m\u001b[43mras\u001b[49m\u001b[43m[\u001b[49m\u001b[43mi\u001b[49m\u001b[43m]\u001b[49m\u001b[43m]\u001b[49m\u001b[43m)\u001b[49m\u001b[43m,\u001b[49m\u001b[43mr\u001b[49m\u001b[38;5;241;43m=\u001b[39;49m\u001b[43mbeam\u001b[49m\u001b[38;5;241;43m*\u001b[39;49m\u001b[43mutils\u001b[49m\u001b[38;5;241;43m.\u001b[39;49m\u001b[43marcmin\u001b[49m\u001b[43m)\u001b[49m\n\u001b[1;32m     25\u001b[0m     stamp2 \u001b[38;5;241m=\u001b[39m reproject\u001b[38;5;241m.\u001b[39mthumbnails(map_pix,coords \u001b[38;5;241m=\u001b[39m np\u001b[38;5;241m.\u001b[39mdeg2rad([decs[i], ras[i]]),r\u001b[38;5;241m=\u001b[39mbeam\u001b[38;5;241m*\u001b[39m\u001b[38;5;241m2\u001b[39m\u001b[38;5;241m*\u001b[39mutils\u001b[38;5;241m.\u001b[39marcmin)\n\u001b[1;32m     27\u001b[0m     \u001b[38;5;28;01mif\u001b[39;00m stamp \u001b[38;5;129;01mis\u001b[39;00m \u001b[38;5;28;01mNone\u001b[39;00m:\n",
      "File \u001b[0;32m~/anaconda3/lib/python3.10/site-packages/pixell/reproject.py:91\u001b[0m, in \u001b[0;36mthumbnails\u001b[0;34m(imap, coords, r, res, proj, apod, order, oversample, pol, oshape, owcs, extensive, verbose, filter, pixwin)\u001b[0m\n\u001b[1;32m     89\u001b[0m \u001b[38;5;28;01mif\u001b[39;00m oversample \u001b[38;5;241m>\u001b[39m \u001b[38;5;241m1\u001b[39m:\n\u001b[1;32m     90\u001b[0m \tfshape \u001b[38;5;241m=\u001b[39m utils\u001b[38;5;241m.\u001b[39mnint(np\u001b[38;5;241m.\u001b[39marray(oshape[\u001b[38;5;241m-\u001b[39m\u001b[38;5;241m2\u001b[39m:])\u001b[38;5;241m*\u001b[39moversample)\n\u001b[0;32m---> 91\u001b[0m \tithumb \u001b[38;5;241m=\u001b[39m \u001b[43mithumb\u001b[49m\u001b[38;5;241;43m.\u001b[39;49m\u001b[43mresample\u001b[49m\u001b[43m(\u001b[49m\u001b[43mfshape\u001b[49m\u001b[43m,\u001b[49m\u001b[43m \u001b[49m\u001b[43mmethod\u001b[49m\u001b[38;5;241;43m=\u001b[39;49m\u001b[38;5;124;43m\"\u001b[39;49m\u001b[38;5;124;43mfft\u001b[39;49m\u001b[38;5;124;43m\"\u001b[39;49m\u001b[43m)\u001b[49m\n\u001b[1;32m     92\u001b[0m \u001b[38;5;66;03m# I apologize for the syntax. There should be a better way of doing this\u001b[39;00m\n\u001b[1;32m     93\u001b[0m ipos \u001b[38;5;241m=\u001b[39m coordinates\u001b[38;5;241m.\u001b[39mtransform(\u001b[38;5;124m\"\u001b[39m\u001b[38;5;124mcel\u001b[39m\u001b[38;5;124m\"\u001b[39m, [\u001b[38;5;124m\"\u001b[39m\u001b[38;5;124mcel\u001b[39m\u001b[38;5;124m\"\u001b[39m,[[\u001b[38;5;241m0\u001b[39m,\u001b[38;5;241m0\u001b[39m,coords[si,\u001b[38;5;241m1\u001b[39m],coords[si,\u001b[38;5;241m0\u001b[39m]],\u001b[38;5;28;01mFalse\u001b[39;00m]], opos[::\u001b[38;5;241m-\u001b[39m\u001b[38;5;241m1\u001b[39m], pol\u001b[38;5;241m=\u001b[39mpol)\n",
      "File \u001b[0;32m~/anaconda3/lib/python3.10/site-packages/pixell/enmap.py:90\u001b[0m, in \u001b[0;36mndmap.resample\u001b[0;34m(self, oshape, off, method, mode, corner, order)\u001b[0m\n\u001b[0;32m---> 90\u001b[0m \u001b[38;5;28;01mdef\u001b[39;00m \u001b[38;5;21mresample\u001b[39m(\u001b[38;5;28mself\u001b[39m, oshape, off\u001b[38;5;241m=\u001b[39m(\u001b[38;5;241m0\u001b[39m,\u001b[38;5;241m0\u001b[39m), method\u001b[38;5;241m=\u001b[39m\u001b[38;5;124m\"\u001b[39m\u001b[38;5;124mfft\u001b[39m\u001b[38;5;124m\"\u001b[39m, mode\u001b[38;5;241m=\u001b[39m\u001b[38;5;124m\"\u001b[39m\u001b[38;5;124mwrap\u001b[39m\u001b[38;5;124m\"\u001b[39m, corner\u001b[38;5;241m=\u001b[39m\u001b[38;5;28;01mFalse\u001b[39;00m, order\u001b[38;5;241m=\u001b[39m\u001b[38;5;241m3\u001b[39m): \u001b[38;5;28;01mreturn\u001b[39;00m \u001b[43mresample\u001b[49m\u001b[43m(\u001b[49m\u001b[38;5;28;43mself\u001b[39;49m\u001b[43m,\u001b[49m\u001b[43m \u001b[49m\u001b[43moshape\u001b[49m\u001b[43m,\u001b[49m\u001b[43m \u001b[49m\u001b[43moff\u001b[49m\u001b[38;5;241;43m=\u001b[39;49m\u001b[43moff\u001b[49m\u001b[43m,\u001b[49m\u001b[43m \u001b[49m\u001b[43mmethod\u001b[49m\u001b[38;5;241;43m=\u001b[39;49m\u001b[43mmethod\u001b[49m\u001b[43m,\u001b[49m\u001b[43m \u001b[49m\u001b[43mmode\u001b[49m\u001b[38;5;241;43m=\u001b[39;49m\u001b[43mmode\u001b[49m\u001b[43m,\u001b[49m\u001b[43m \u001b[49m\u001b[43mcorner\u001b[49m\u001b[38;5;241;43m=\u001b[39;49m\u001b[43mcorner\u001b[49m\u001b[43m,\u001b[49m\u001b[43m \u001b[49m\u001b[43morder\u001b[49m\u001b[38;5;241;43m=\u001b[39;49m\u001b[43morder\u001b[49m\u001b[43m)\u001b[49m\n",
      "File \u001b[0;32m~/anaconda3/lib/python3.10/site-packages/pixell/enmap.py:2697\u001b[0m, in \u001b[0;36mresample\u001b[0;34m(map, oshape, off, method, mode, corner, order)\u001b[0m\n\u001b[1;32m   2695\u001b[0m oshape \u001b[38;5;241m=\u001b[39m \u001b[38;5;28mmap\u001b[39m\u001b[38;5;241m.\u001b[39mshape[:\u001b[38;5;241m-\u001b[39m\u001b[38;5;241m2\u001b[39m] \u001b[38;5;241m+\u001b[39m \u001b[38;5;28mtuple\u001b[39m(oshape)[\u001b[38;5;241m-\u001b[39m\u001b[38;5;241m2\u001b[39m:]\n\u001b[1;32m   2696\u001b[0m \u001b[38;5;28;01mif\u001b[39;00m method \u001b[38;5;241m==\u001b[39m \u001b[38;5;124m\"\u001b[39m\u001b[38;5;124mfft\u001b[39m\u001b[38;5;124m\"\u001b[39m:\n\u001b[0;32m-> 2697\u001b[0m \tomap  \u001b[38;5;241m=\u001b[39m ifft(\u001b[43mresample_fft\u001b[49m\u001b[43m(\u001b[49m\u001b[43mfft\u001b[49m\u001b[43m(\u001b[49m\u001b[38;5;28;43mmap\u001b[39;49m\u001b[43m,\u001b[49m\u001b[43m \u001b[49m\u001b[43mnormalize\u001b[49m\u001b[38;5;241;43m=\u001b[39;49m\u001b[38;5;28;43;01mFalse\u001b[39;49;00m\u001b[43m)\u001b[49m\u001b[43m,\u001b[49m\u001b[43m \u001b[49m\u001b[43moshape\u001b[49m\u001b[43m,\u001b[49m\u001b[43m \u001b[49m\u001b[43moff\u001b[49m\u001b[38;5;241;43m=\u001b[39;49m\u001b[43moff\u001b[49m\u001b[43m,\u001b[49m\u001b[43m \u001b[49m\u001b[43mcorner\u001b[49m\u001b[38;5;241;43m=\u001b[39;49m\u001b[43mcorner\u001b[49m\u001b[43m,\u001b[49m\u001b[43m \u001b[49m\u001b[43mnorm\u001b[49m\u001b[38;5;241;43m=\u001b[39;49m\u001b[38;5;241;43m1\u001b[39;49m\u001b[38;5;241;43m/\u001b[39;49m\u001b[38;5;28;43mmap\u001b[39;49m\u001b[38;5;241;43m.\u001b[39;49m\u001b[43mnpix\u001b[49m\u001b[43m)\u001b[49m, normalize\u001b[38;5;241m=\u001b[39m\u001b[38;5;28;01mFalse\u001b[39;00m)\u001b[38;5;241m.\u001b[39mreal\n\u001b[1;32m   2698\u001b[0m \u001b[38;5;28;01melif\u001b[39;00m method \u001b[38;5;241m==\u001b[39m \u001b[38;5;124m\"\u001b[39m\u001b[38;5;124mspline\u001b[39m\u001b[38;5;124m\"\u001b[39m:\n\u001b[1;32m   2699\u001b[0m \towcs \u001b[38;5;241m=\u001b[39m wcsutils\u001b[38;5;241m.\u001b[39mscale(\u001b[38;5;28mmap\u001b[39m\u001b[38;5;241m.\u001b[39mwcs, np\u001b[38;5;241m.\u001b[39marray(oshape[\u001b[38;5;241m-\u001b[39m\u001b[38;5;241m2\u001b[39m:],\u001b[38;5;28mfloat\u001b[39m)\u001b[38;5;241m/\u001b[39m\u001b[38;5;28mmap\u001b[39m\u001b[38;5;241m.\u001b[39mshape[\u001b[38;5;241m-\u001b[39m\u001b[38;5;241m2\u001b[39m:], rowmajor\u001b[38;5;241m=\u001b[39m\u001b[38;5;28;01mTrue\u001b[39;00m, corner\u001b[38;5;241m=\u001b[39mcorner)\n",
      "File \u001b[0;32m~/anaconda3/lib/python3.10/site-packages/pixell/enmap.py:2750\u001b[0m, in \u001b[0;36mresample_fft\u001b[0;34m(fimap, oshape, fomap, off, corner, norm, op, dummy)\u001b[0m\n\u001b[1;32m   2748\u001b[0m \t\u001b[38;5;28;01mif\u001b[39;00m norm \u001b[38;5;241m!=\u001b[39m \u001b[38;5;241m1\u001b[39m: source \u001b[38;5;241m=\u001b[39m source\u001b[38;5;241m*\u001b[39mnorm\n\u001b[1;32m   2749\u001b[0m \tdest[:] \u001b[38;5;241m=\u001b[39m op(dest, source)\n\u001b[0;32m-> 2750\u001b[0m transfer(fomap[\u001b[38;5;241m.\u001b[39m\u001b[38;5;241m.\u001b[39m\u001b[38;5;241m.\u001b[39m,:hny,       :hnx       ],\u001b[43mfimap\u001b[49m\u001b[43m[\u001b[49m\u001b[38;5;241;43m.\u001b[39;49m\u001b[38;5;241;43m.\u001b[39;49m\u001b[38;5;241;43m.\u001b[39;49m\u001b[43m,\u001b[49m\u001b[43m:\u001b[49m\u001b[43mhny\u001b[49m\u001b[43m,\u001b[49m\u001b[43m       \u001b[49m\u001b[43m:\u001b[49m\u001b[43mhnx\u001b[49m\u001b[43m       \u001b[49m\u001b[43m]\u001b[49m, norm, op)\n\u001b[1;32m   2751\u001b[0m transfer(fomap[\u001b[38;5;241m.\u001b[39m\u001b[38;5;241m.\u001b[39m\u001b[38;5;241m.\u001b[39m,:hny,       \u001b[38;5;241m-\u001b[39m(cnx\u001b[38;5;241m-\u001b[39mhnx):],fimap[\u001b[38;5;241m.\u001b[39m\u001b[38;5;241m.\u001b[39m\u001b[38;5;241m.\u001b[39m,:hny,       \u001b[38;5;241m-\u001b[39m(cnx\u001b[38;5;241m-\u001b[39mhnx):], norm, op)\n\u001b[1;32m   2752\u001b[0m transfer(fomap[\u001b[38;5;241m.\u001b[39m\u001b[38;5;241m.\u001b[39m\u001b[38;5;241m.\u001b[39m,\u001b[38;5;241m-\u001b[39m(cny\u001b[38;5;241m-\u001b[39mhny):,:hnx       ],fimap[\u001b[38;5;241m.\u001b[39m\u001b[38;5;241m.\u001b[39m\u001b[38;5;241m.\u001b[39m,\u001b[38;5;241m-\u001b[39m(cny\u001b[38;5;241m-\u001b[39mhny):,:hnx       ], norm, op)\n",
      "File \u001b[0;32m~/anaconda3/lib/python3.10/site-packages/pixell/enmap.py:116\u001b[0m, in \u001b[0;36mndmap.__getitem__\u001b[0;34m(self, sel)\u001b[0m\n\u001b[1;32m    114\u001b[0m \u001b[38;5;28;01mdef\u001b[39;00m \u001b[38;5;21m__getitem__\u001b[39m(\u001b[38;5;28mself\u001b[39m, sel):\n\u001b[1;32m    115\u001b[0m \t\u001b[38;5;66;03m# Split sel into normal and wcs parts.\u001b[39;00m\n\u001b[0;32m--> 116\u001b[0m \tsel1, sel2 \u001b[38;5;241m=\u001b[39m \u001b[43mutils\u001b[49m\u001b[38;5;241;43m.\u001b[39;49m\u001b[43msplit_slice\u001b[49m\u001b[43m(\u001b[49m\u001b[43msel\u001b[49m\u001b[43m,\u001b[49m\u001b[43m \u001b[49m\u001b[43m[\u001b[49m\u001b[38;5;28;43mself\u001b[39;49m\u001b[38;5;241;43m.\u001b[39;49m\u001b[43mndim\u001b[49m\u001b[38;5;241;43m-\u001b[39;49m\u001b[38;5;241;43m2\u001b[39;49m\u001b[43m,\u001b[49m\u001b[38;5;241;43m2\u001b[39;49m\u001b[43m]\u001b[49m\u001b[43m)\u001b[49m\n\u001b[1;32m    117\u001b[0m \t\u001b[38;5;66;03m# If any wcs-associated indices are None, then we don't know how to update the\u001b[39;00m\n\u001b[1;32m    118\u001b[0m \t\u001b[38;5;66;03m# wcs, and assume the user knows what it's doing\u001b[39;00m\n\u001b[1;32m    119\u001b[0m \t\u001b[38;5;28;01mif\u001b[39;00m \u001b[38;5;28many\u001b[39m([s \u001b[38;5;129;01mis\u001b[39;00m \u001b[38;5;28;01mNone\u001b[39;00m \u001b[38;5;28;01mfor\u001b[39;00m s \u001b[38;5;129;01min\u001b[39;00m sel2]):\n",
      "File \u001b[0;32m~/anaconda3/lib/python3.10/site-packages/pixell/utils.py:2571\u001b[0m, in \u001b[0;36msplit_slice\u001b[0;34m(sel, ndims)\u001b[0m\n\u001b[1;32m   2567\u001b[0m \u001b[38;5;28;01mif\u001b[39;00m \u001b[38;5;129;01mnot\u001b[39;00m \u001b[38;5;28misinstance\u001b[39m(sel,\u001b[38;5;28mtuple\u001b[39m): sel \u001b[38;5;241m=\u001b[39m (sel,)\n\u001b[1;32m   2568\u001b[0m \u001b[38;5;66;03m# We know the total number of dimensions involved, so we can expand ellipis\u001b[39;00m\n\u001b[1;32m   2569\u001b[0m \u001b[38;5;66;03m# What the heck? \"in\" operator is apparently broken for lists that\u001b[39;00m\n\u001b[1;32m   2570\u001b[0m \u001b[38;5;66;03m# contain numpy arrays.\u001b[39;00m\n\u001b[0;32m-> 2571\u001b[0m parts \u001b[38;5;241m=\u001b[39m \u001b[43mlistsplit\u001b[49m\u001b[43m(\u001b[49m\u001b[43msel\u001b[49m\u001b[43m,\u001b[49m\u001b[43m \u001b[49m\u001b[38;5;28;43mEllipsis\u001b[39;49m\u001b[43m)\u001b[49m\n\u001b[1;32m   2572\u001b[0m \u001b[38;5;28;01mif\u001b[39;00m \u001b[38;5;28mlen\u001b[39m(parts) \u001b[38;5;241m>\u001b[39m \u001b[38;5;241m1\u001b[39m:\n\u001b[1;32m   2573\u001b[0m \t\u001b[38;5;66;03m# Only the rightmost ellipsis has any effect\u001b[39;00m\n\u001b[1;32m   2574\u001b[0m \tleft, right \u001b[38;5;241m=\u001b[39m \u001b[38;5;28msum\u001b[39m(parts[:\u001b[38;5;241m-\u001b[39m\u001b[38;5;241m1\u001b[39m],()), parts[\u001b[38;5;241m-\u001b[39m\u001b[38;5;241m1\u001b[39m]\n",
      "File \u001b[0;32m~/anaconda3/lib/python3.10/site-packages/pixell/utils.py:90\u001b[0m, in \u001b[0;36mlistsplit\u001b[0;34m(seq, elem)\u001b[0m\n\u001b[1;32m     88\u001b[0m \u001b[38;5;66;03m# Sadly, numpy arrays misbehave, and must be treated specially\u001b[39;00m\n\u001b[1;32m     89\u001b[0m \u001b[38;5;28;01mdef\u001b[39;00m \u001b[38;5;21miseq\u001b[39m(e1, e2): \u001b[38;5;28;01mreturn\u001b[39;00m np\u001b[38;5;241m.\u001b[39mall(e1\u001b[38;5;241m==\u001b[39me2)\n\u001b[0;32m---> 90\u001b[0m inds \u001b[38;5;241m=\u001b[39m [i \u001b[38;5;28;01mfor\u001b[39;00m i,v \u001b[38;5;129;01min\u001b[39;00m \u001b[38;5;28menumerate\u001b[39m(seq) \u001b[38;5;28;01mif\u001b[39;00m iseq(v,elem)]\n\u001b[1;32m     91\u001b[0m ranges \u001b[38;5;241m=\u001b[39m \u001b[38;5;28mzip\u001b[39m([\u001b[38;5;241m0\u001b[39m]\u001b[38;5;241m+\u001b[39m[i\u001b[38;5;241m+\u001b[39m\u001b[38;5;241m1\u001b[39m \u001b[38;5;28;01mfor\u001b[39;00m i \u001b[38;5;129;01min\u001b[39;00m inds],inds\u001b[38;5;241m+\u001b[39m[\u001b[38;5;28mlen\u001b[39m(seq)])\n\u001b[1;32m     92\u001b[0m \u001b[38;5;28;01mreturn\u001b[39;00m [seq[a:b] \u001b[38;5;28;01mfor\u001b[39;00m a,b \u001b[38;5;129;01min\u001b[39;00m ranges]\n",
      "File \u001b[0;32m~/anaconda3/lib/python3.10/site-packages/pixell/utils.py:90\u001b[0m, in \u001b[0;36m<listcomp>\u001b[0;34m(.0)\u001b[0m\n\u001b[1;32m     88\u001b[0m \u001b[38;5;66;03m# Sadly, numpy arrays misbehave, and must be treated specially\u001b[39;00m\n\u001b[1;32m     89\u001b[0m \u001b[38;5;28;01mdef\u001b[39;00m \u001b[38;5;21miseq\u001b[39m(e1, e2): \u001b[38;5;28;01mreturn\u001b[39;00m np\u001b[38;5;241m.\u001b[39mall(e1\u001b[38;5;241m==\u001b[39me2)\n\u001b[0;32m---> 90\u001b[0m inds \u001b[38;5;241m=\u001b[39m [i \u001b[38;5;28;01mfor\u001b[39;00m i,v \u001b[38;5;129;01min\u001b[39;00m \u001b[38;5;28menumerate\u001b[39m(seq) \u001b[38;5;28;01mif\u001b[39;00m \u001b[43miseq\u001b[49m\u001b[43m(\u001b[49m\u001b[43mv\u001b[49m\u001b[43m,\u001b[49m\u001b[43melem\u001b[49m\u001b[43m)\u001b[49m]\n\u001b[1;32m     91\u001b[0m ranges \u001b[38;5;241m=\u001b[39m \u001b[38;5;28mzip\u001b[39m([\u001b[38;5;241m0\u001b[39m]\u001b[38;5;241m+\u001b[39m[i\u001b[38;5;241m+\u001b[39m\u001b[38;5;241m1\u001b[39m \u001b[38;5;28;01mfor\u001b[39;00m i \u001b[38;5;129;01min\u001b[39;00m inds],inds\u001b[38;5;241m+\u001b[39m[\u001b[38;5;28mlen\u001b[39m(seq)])\n\u001b[1;32m     92\u001b[0m \u001b[38;5;28;01mreturn\u001b[39;00m [seq[a:b] \u001b[38;5;28;01mfor\u001b[39;00m a,b \u001b[38;5;129;01min\u001b[39;00m ranges]\n",
      "File \u001b[0;32m~/anaconda3/lib/python3.10/site-packages/pixell/utils.py:89\u001b[0m, in \u001b[0;36mlistsplit.<locals>.iseq\u001b[0;34m(e1, e2)\u001b[0m\n\u001b[0;32m---> 89\u001b[0m \u001b[38;5;28;01mdef\u001b[39;00m \u001b[38;5;21miseq\u001b[39m(e1, e2): \u001b[38;5;28;01mreturn\u001b[39;00m \u001b[43mnp\u001b[49m\u001b[38;5;241;43m.\u001b[39;49m\u001b[43mall\u001b[49m\u001b[43m(\u001b[49m\u001b[43me1\u001b[49m\u001b[38;5;241;43m==\u001b[39;49m\u001b[43me2\u001b[49m\u001b[43m)\u001b[49m\n",
      "File \u001b[0;32m<__array_function__ internals>:180\u001b[0m, in \u001b[0;36mall\u001b[0;34m(*args, **kwargs)\u001b[0m\n",
      "File \u001b[0;32m~/anaconda3/lib/python3.10/site-packages/numpy/core/fromnumeric.py:2489\u001b[0m, in \u001b[0;36mall\u001b[0;34m(a, axis, out, keepdims, where)\u001b[0m\n\u001b[1;32m   2406\u001b[0m \u001b[38;5;129m@array_function_dispatch\u001b[39m(_all_dispatcher)\n\u001b[1;32m   2407\u001b[0m \u001b[38;5;28;01mdef\u001b[39;00m \u001b[38;5;21mall\u001b[39m(a, axis\u001b[38;5;241m=\u001b[39m\u001b[38;5;28;01mNone\u001b[39;00m, out\u001b[38;5;241m=\u001b[39m\u001b[38;5;28;01mNone\u001b[39;00m, keepdims\u001b[38;5;241m=\u001b[39mnp\u001b[38;5;241m.\u001b[39m_NoValue, \u001b[38;5;241m*\u001b[39m, where\u001b[38;5;241m=\u001b[39mnp\u001b[38;5;241m.\u001b[39m_NoValue):\n\u001b[1;32m   2408\u001b[0m     \u001b[38;5;124;03m\"\"\"\u001b[39;00m\n\u001b[1;32m   2409\u001b[0m \u001b[38;5;124;03m    Test whether all array elements along a given axis evaluate to True.\u001b[39;00m\n\u001b[1;32m   2410\u001b[0m \n\u001b[0;32m   (...)\u001b[0m\n\u001b[1;32m   2487\u001b[0m \n\u001b[1;32m   2488\u001b[0m \u001b[38;5;124;03m    \"\"\"\u001b[39;00m\n\u001b[0;32m-> 2489\u001b[0m     \u001b[38;5;28;01mreturn\u001b[39;00m \u001b[43m_wrapreduction\u001b[49m\u001b[43m(\u001b[49m\u001b[43ma\u001b[49m\u001b[43m,\u001b[49m\u001b[43m \u001b[49m\u001b[43mnp\u001b[49m\u001b[38;5;241;43m.\u001b[39;49m\u001b[43mlogical_and\u001b[49m\u001b[43m,\u001b[49m\u001b[43m \u001b[49m\u001b[38;5;124;43m'\u001b[39;49m\u001b[38;5;124;43mall\u001b[39;49m\u001b[38;5;124;43m'\u001b[39;49m\u001b[43m,\u001b[49m\u001b[43m \u001b[49m\u001b[43maxis\u001b[49m\u001b[43m,\u001b[49m\u001b[43m \u001b[49m\u001b[38;5;28;43;01mNone\u001b[39;49;00m\u001b[43m,\u001b[49m\u001b[43m \u001b[49m\u001b[43mout\u001b[49m\u001b[43m,\u001b[49m\n\u001b[1;32m   2490\u001b[0m \u001b[43m                          \u001b[49m\u001b[43mkeepdims\u001b[49m\u001b[38;5;241;43m=\u001b[39;49m\u001b[43mkeepdims\u001b[49m\u001b[43m,\u001b[49m\u001b[43m \u001b[49m\u001b[43mwhere\u001b[49m\u001b[38;5;241;43m=\u001b[39;49m\u001b[43mwhere\u001b[49m\u001b[43m)\u001b[49m\n",
      "File \u001b[0;32m~/anaconda3/lib/python3.10/site-packages/numpy/core/fromnumeric.py:86\u001b[0m, in \u001b[0;36m_wrapreduction\u001b[0;34m(obj, ufunc, method, axis, dtype, out, **kwargs)\u001b[0m\n\u001b[1;32m     83\u001b[0m         \u001b[38;5;28;01melse\u001b[39;00m:\n\u001b[1;32m     84\u001b[0m             \u001b[38;5;28;01mreturn\u001b[39;00m reduction(axis\u001b[38;5;241m=\u001b[39maxis, out\u001b[38;5;241m=\u001b[39mout, \u001b[38;5;241m*\u001b[39m\u001b[38;5;241m*\u001b[39mpasskwargs)\n\u001b[0;32m---> 86\u001b[0m \u001b[38;5;28;01mreturn\u001b[39;00m \u001b[43mufunc\u001b[49m\u001b[38;5;241;43m.\u001b[39;49m\u001b[43mreduce\u001b[49m\u001b[43m(\u001b[49m\u001b[43mobj\u001b[49m\u001b[43m,\u001b[49m\u001b[43m \u001b[49m\u001b[43maxis\u001b[49m\u001b[43m,\u001b[49m\u001b[43m \u001b[49m\u001b[43mdtype\u001b[49m\u001b[43m,\u001b[49m\u001b[43m \u001b[49m\u001b[43mout\u001b[49m\u001b[43m,\u001b[49m\u001b[43m \u001b[49m\u001b[38;5;241;43m*\u001b[39;49m\u001b[38;5;241;43m*\u001b[39;49m\u001b[43mpasskwargs\u001b[49m\u001b[43m)\u001b[49m\n",
      "\u001b[0;31mKeyboardInterrupt\u001b[0m: "
     ]
    }
   ],
   "source": [
    "real = pd.read_csv('data/union2.csv',skiprows=0,index_col=0)[::3]\n",
    "ras_real = real['amf_ra'].reset_index(drop=True)##[real.z>0.75][::2].reset_index(drop=True)\n",
    "decs_real = real['amf_dec'].reset_index(drop=True)##[real.z>0.75][::2].reset_index(drop=True)\n",
    "\n",
    "ras_all = ras_real\n",
    "decs_all = decs_real\n",
    "\n",
    "maps = \"data/HFI_SkyMap_217-field-IQU_2048_R3.00_full.fits\"\n",
    "beam = 10\n",
    "map_pix = import_map(maps, int(beam))\n",
    "\n",
    "outputs = \"output/510u3/pr217.csv\"\n",
    "outputs2 = \"output/510u3/pr217_r.csv\"\n",
    "\n",
    "signal, signal_ring, ras_used, decs_used = extract_intensity(map_pix, ras_all, decs_all, beam)\n",
    "output_signal(signal, signal_ring, outputs, outputs2)"
   ]
  },
  {
   "cell_type": "code",
   "execution_count": null,
   "id": "4bedeb40",
   "metadata": {},
   "outputs": [],
   "source": [
    "real = pd.read_csv('data/union2.csv',skiprows=0,index_col=0)[::3]\n",
    "ras_real = real['amf_ra'].reset_index(drop=True)##[real.z>0.75][::2].reset_index(drop=True)\n",
    "decs_real = real['amf_dec'].reset_index(drop=True)##[real.z>0.75][::2].reset_index(drop=True)\n",
    "\n",
    "ras_all = ras_real\n",
    "decs_all = decs_real\n",
    "\n",
    "maps = \"data/HFI_SkyMap_353-psb-field-IQU_2048_R3.00_full.fits\"\n",
    "beam = 10\n",
    "map_pix = import_map(maps, int(beam))\n",
    "\n",
    "outputs = \"output/510u3/pr353.csv\"\n",
    "outputs2 = \"output/510u3/pr353_r.csv\"\n",
    "\n",
    "signal, signal_ring, ras_used, decs_used = extract_intensity(map_pix, ras_all, decs_all, beam)\n",
    "output_signal(signal, signal_ring, outputs, outputs2)"
   ]
  },
  {
   "cell_type": "code",
   "execution_count": null,
   "id": "231389e2",
   "metadata": {},
   "outputs": [],
   "source": [
    "def extract_intensity(map_pix, ras, decs, beam):\n",
    "    N = len(ras)\n",
    "    stack_CMB_kSZ           = 0\n",
    "    stack_CMB_kSZ_deproject = 0\n",
    "    c = 0\n",
    "\n",
    "    signal = []\n",
    "    signal_ring = []\n",
    "    ras_used = []\n",
    "    decs_used = []\n",
    "    for i in tqdm(range(N)):\n",
    "        dust = reproject.thumbnails(map_pix,coords = np.deg2rad([decs[i], ras[i]]),r=30*utils.arcmin)\n",
    "        stamp = reproject.thumbnails(map_pix,coords = np.deg2rad([decs[i], ras[i]]),r=beam*utils.arcmin)\n",
    "        stamp2 = reproject.thumbnails(map_pix,coords = np.deg2rad([decs[i], ras[i]]),r=2*beam*utils.arcmin)\n",
    "\n",
    "        if stamp is None:\n",
    "            signal.append(-9999)\n",
    "        elif stamp[0][0][0]==0.0:\n",
    "            signal.append(-9999)\n",
    "        elif dust is None:\n",
    "            signal.append(-9999)\n",
    "        elif dust[0][0][0]==0.0:\n",
    "            signal.append(-9999)\n",
    "        else:\n",
    "            dust_sum = sum(sum(dust[0]))\n",
    "            num_pix_dust = len(dust[0][0])*len(dust[0][0])\n",
    "            signal_sum = sum(sum(stamp[0]))\n",
    "            num_pix_signal = len(stamp[0][0])*len(stamp[0][0])\n",
    "            signal2_sum = sum(sum(stamp2[0]))\n",
    "            num_pix_signal2 = len(stamp2[0][0])*len(stamp2[0][0])            \n",
    "                        \n",
    "            signal.append((signal_sum/num_pix_signal)-(dust_sum/num_pix_dust))\n",
    "            signal_ring.append(((signal2_sum-signal_sum)/(num_pix_signal2-num_pix_signal))-(dust_sum/num_pix_dust))\n",
    "            \n",
    "        ras_used.append(ras[i])\n",
    "        decs_used.append(decs[i])\n",
    "\n",
    "    return signal, signal_ring, ras_used, decs_used"
   ]
  },
  {
   "cell_type": "code",
   "execution_count": null,
   "id": "1ecf0347",
   "metadata": {},
   "outputs": [],
   "source": [
    "real = pd.read_csv('data/union2.csv',skiprows=0,index_col=0)[::3]\n",
    "ras_real = real['amf_ra'].reset_index(drop=True)##[real.z>0.75][::2].reset_index(drop=True)\n",
    "decs_real = real['amf_dec'].reset_index(drop=True)##[real.z>0.75][::2].reset_index(drop=True)\n",
    "\n",
    "ras_all = ras_real\n",
    "decs_all = decs_real\n",
    "\n",
    "maps = \"data/HFI_SkyMap_545-field-Int_2048_R3.00_full.fits\"\n",
    "beam = 10\n",
    "map_pix = import_map(maps, int(beam))\n",
    "\n",
    "outputs = \"output/510u3/pr545.csv\"\n",
    "outputs2 = \"output/510u3/pr545_r.csv\"\n",
    "\n",
    "signal, signal_ring, ras_used, decs_used = extract_intensity(map_pix, ras_all, decs_all, beam)\n",
    "output_signal(signal, signal_ring, outputs, outputs2)"
   ]
  },
  {
   "cell_type": "code",
   "execution_count": null,
   "id": "5e02427c",
   "metadata": {},
   "outputs": [],
   "source": [
    "real = pd.read_csv('data/union2.csv',skiprows=0,index_col=0)[::3]\n",
    "ras_real = real['amf_ra'].reset_index(drop=True)##[real.z>0.75][::2].reset_index(drop=True)\n",
    "decs_real = real['amf_dec'].reset_index(drop=True)##[real.z>0.75][::2].reset_index(drop=True)\n",
    "\n",
    "ras_all = ras_real\n",
    "decs_all = decs_real\n",
    "\n",
    "maps = \"data/HFI_SkyMap_857-field-Int_2048_R3.00_full.fits\"\n",
    "beam = 10\n",
    "map_pix = import_map(maps, int(beam))\n",
    "\n",
    "outputs = \"output/510u3/pr857.csv\"\n",
    "outputs2 = \"output/510u3/pr857_r.csv\"\n",
    "\n",
    "signal, signal_ring, ras_used, decs_used = extract_intensity(map_pix, ras_all, decs_all, beam)\n",
    "output_signal(signal, signal_ring, outputs, outputs2)"
   ]
  },
  {
   "cell_type": "markdown",
   "id": "7b230279",
   "metadata": {},
   "source": [
    "### Non-clusters"
   ]
  },
  {
   "cell_type": "code",
   "execution_count": 4,
   "id": "0bf0ce28",
   "metadata": {},
   "outputs": [],
   "source": [
    "def import_map(filepath, beam):\n",
    "    pl = hp.read_map(filepath)\n",
    "    pl[pl<-1e23]=0\n",
    "    try:\n",
    "        shape,wcs = enmap.fullsky_geometry(res=int(beam)*utils.arcmin,proj='car')\n",
    "        map_pix = reproject.enmap_from_healpix(pl,shape=shape,wcs=wcs)\n",
    "    except:\n",
    "        shape,wcs = enmap.fullsky_geometry(res=int(beam+1)*utils.arcmin,proj='car')\n",
    "        map_pix = reproject.enmap_from_healpix(pl,shape=shape,wcs=wcs)\n",
    "    return map_pix\n",
    "\n",
    "\n",
    "def extract_intensity(map_pix, ras, decs, beam):\n",
    "    N = len(ras)\n",
    "    stack_CMB_kSZ           = 0\n",
    "    stack_CMB_kSZ_deproject = 0\n",
    "    c = 0\n",
    "\n",
    "    signal = []\n",
    "    signal_ring = []\n",
    "    ras_used = []\n",
    "    decs_used = []\n",
    "    for i in range(N):\n",
    "        stamp = reproject.thumbnails(map_pix,coords = np.deg2rad([decs[i], ras[i]]),r=beam*utils.arcmin)\n",
    "        stamp2 = reproject.thumbnails(map_pix,coords = np.deg2rad([decs[i], ras[i]]),r=beam*2*utils.arcmin)\n",
    "\n",
    "        if stamp is None:\n",
    "            signal.append(-9999)\n",
    "        elif stamp[0][0][0]==0.0:\n",
    "            signal.append(-9999)\n",
    "        else:\n",
    "            signal_sum = sum(sum(stamp[0]))\n",
    "            signal2_sum = sum(sum(stamp2[0]))\n",
    "            num_pix_signal = len(stamp[0][0])*len(stamp[0][0])\n",
    "            num_pix_signal2 = len(stamp2[0][0])*len(stamp2[0][0])            \n",
    "            signal.append(signal_sum/num_pix_signal)\n",
    "            signal_ring.append((signal2_sum-signal_sum)/(num_pix_signal2-num_pix_signal))\n",
    "        ras_used.append(ras[i])\n",
    "        decs_used.append(decs[i])\n",
    "\n",
    "    return signal, signal_ring, ras_used, decs_used\n",
    "\n",
    "\n",
    "def output_signal(signal,signal_ring,output_fp,output_fp_signal):\n",
    "    np.savetxt(output_fp,\n",
    "               signal,\n",
    "               delimiter=\", \",\n",
    "               fmt='% s')\n",
    "    np.savetxt(output_fp_signal,\n",
    "               signal_ring,\n",
    "               delimiter=\", \",\n",
    "               fmt='% s')"
   ]
  },
  {
   "cell_type": "code",
   "execution_count": null,
   "id": "83e08a71",
   "metadata": {},
   "outputs": [],
   "source": [
    "voids = pd.read_csv('data/voids.csv',skiprows=0,index_col=0)\n",
    "ras_voids = voids['ras'].reset_index(drop=True)\n",
    "decs_voids = voids['decs'].reset_index(drop=True)\n",
    "\n",
    "ras_all = ras_voids\n",
    "decs_all = decs_voids\n",
    "\n",
    "maps = \"data/HFI_SkyMap_100-field-IQU_2048_R3.00_full.fits\"\n",
    "beam = 10\n",
    "map_pix = import_map(maps, int(beam))\n",
    "\n",
    "outputs = \"output/510u3/pv100.csv\"\n",
    "outputs2 = \"output/510u3/pv100_r.csv\"\n",
    "\n",
    "signal, signal_ring, ras_used, decs_used = extract_intensity(map_pix, ras_all, decs_all, beam)\n",
    "output_signal(signal, signal_ring, outputs, outputs2)"
   ]
  },
  {
   "cell_type": "code",
   "execution_count": null,
   "id": "27b843a2",
   "metadata": {},
   "outputs": [],
   "source": [
    "voids = pd.read_csv('data/voids.csv',skiprows=0,index_col=0)\n",
    "ras_voids = voids['ras'].reset_index(drop=True)\n",
    "decs_voids = voids['decs'].reset_index(drop=True)\n",
    "\n",
    "ras_all = ras_voids\n",
    "decs_all = decs_voids\n",
    "\n",
    "maps = \"data/HFI_SkyMap_143-field-IQU_2048_R3.00_full.fits\"\n",
    "beam = 10\n",
    "map_pix = import_map(maps, int(beam))\n",
    "\n",
    "outputs = \"output/510u3/pv143.csv\"\n",
    "outputs2 = \"output/510u3/pv143_r.csv\"\n",
    "\n",
    "signal, signal_ring, ras_used, decs_used = extract_intensity(map_pix, ras_all, decs_all, beam)\n",
    "output_signal(signal, signal_ring, outputs, outputs2)"
   ]
  },
  {
   "cell_type": "code",
   "execution_count": null,
   "id": "ecf0031a",
   "metadata": {},
   "outputs": [],
   "source": [
    "voids = pd.read_csv('data/voids.csv',skiprows=0,index_col=0)\n",
    "ras_voids = voids['ras'].reset_index(drop=True)\n",
    "decs_voids = voids['decs'].reset_index(drop=True)\n",
    "\n",
    "ras_all = ras_voids\n",
    "decs_all = decs_voids\n",
    "\n",
    "maps = \"data/HFI_SkyMap_217-field-IQU_2048_R3.00_full.fits\"\n",
    "beam = 10\n",
    "map_pix = import_map(maps, int(beam))\n",
    "\n",
    "outputs = \"output/510u3/pv217.csv\"\n",
    "outputs2 = \"output/510u3/pv217_r.csv\"\n",
    "\n",
    "signal, signal_ring, ras_used, decs_used = extract_intensity(map_pix, ras_all, decs_all, beam)\n",
    "output_signal(signal, signal_ring, outputs, outputs2)"
   ]
  },
  {
   "cell_type": "code",
   "execution_count": null,
   "id": "128f8af0",
   "metadata": {},
   "outputs": [],
   "source": [
    "voids = pd.read_csv('data/voids.csv',skiprows=0,index_col=0)\n",
    "ras_voids = voids['ras'].reset_index(drop=True)\n",
    "decs_voids = voids['decs'].reset_index(drop=True)\n",
    "\n",
    "ras_all = ras_voids\n",
    "decs_all = decs_voids\n",
    "\n",
    "maps = \"data/HFI_SkyMap_353-psb-field-IQU_2048_R3.00_full.fits\"\n",
    "beam = 10\n",
    "map_pix = import_map(maps, int(beam))\n",
    "\n",
    "outputs = \"output/510u3/pv353.csv\"\n",
    "outputs2 = \"output/510u3/pv353_r.csv\"\n",
    "\n",
    "signal, signal_ring, ras_used, decs_used = extract_intensity(map_pix, ras_all, decs_all, beam)\n",
    "output_signal(signal, signal_ring, outputs, outputs2)"
   ]
  },
  {
   "cell_type": "code",
   "execution_count": null,
   "id": "2bfece4e",
   "metadata": {},
   "outputs": [],
   "source": [
    "def extract_intensity(map_pix, ras, decs, beam):\n",
    "    N = len(ras)\n",
    "    stack_CMB_kSZ           = 0\n",
    "    stack_CMB_kSZ_deproject = 0\n",
    "    c = 0\n",
    "\n",
    "    signal = []\n",
    "    signal_ring = []\n",
    "    ras_used = []\n",
    "    decs_used = []\n",
    "    for i in range(N):\n",
    "        dust = reproject.thumbnails(map_pix,coords = np.deg2rad([decs[i], ras[i]]),r=30*utils.arcmin)\n",
    "        stamp = reproject.thumbnails(map_pix,coords = np.deg2rad([decs[i], ras[i]]),r=beam*utils.arcmin)\n",
    "        stamp2 = reproject.thumbnails(map_pix,coords = np.deg2rad([decs[i], ras[i]]),r=2*beam*utils.arcmin)\n",
    "\n",
    "        if stamp is None:\n",
    "            signal.append(-9999)\n",
    "        elif stamp[0][0][0]==0.0:\n",
    "            signal.append(-9999)\n",
    "        elif dust is None:\n",
    "            signal.append(-9999)\n",
    "        elif dust[0][0][0]==0.0:\n",
    "            signal.append(-9999)\n",
    "        else:\n",
    "            dust_sum = sum(sum(dust[0]))\n",
    "            num_pix_dust = len(dust[0][0])*len(dust[0][0])\n",
    "            signal_sum = sum(sum(stamp[0]))\n",
    "            num_pix_signal = len(stamp[0][0])*len(stamp[0][0])\n",
    "            signal2_sum = sum(sum(stamp2[0]))\n",
    "            num_pix_signal2 = len(stamp2[0][0])*len(stamp2[0][0])            \n",
    "                        \n",
    "            signal.append((signal_sum/num_pix_signal)-(dust_sum/num_pix_dust))\n",
    "            signal_ring.append(((signal2_sum-signal_sum)/(num_pix_signal2-num_pix_signal))-(dust_sum/num_pix_dust))\n",
    "            \n",
    "        ras_used.append(ras[i])\n",
    "        decs_used.append(decs[i])\n",
    "\n",
    "    return signal, signal_ring, ras_used, decs_used"
   ]
  },
  {
   "cell_type": "code",
   "execution_count": null,
   "id": "1c536d4c",
   "metadata": {},
   "outputs": [],
   "source": [
    "voids = pd.read_csv('data/voids.csv',skiprows=0,index_col=0)\n",
    "ras_voids = voids['ras'].reset_index(drop=True)\n",
    "decs_voids = voids['decs'].reset_index(drop=True)\n",
    "\n",
    "ras_all = ras_voids\n",
    "decs_all = decs_voids\n",
    "\n",
    "maps = \"data/HFI_SkyMap_545-field-Int_2048_R3.00_full.fits\"\n",
    "beam = 10\n",
    "map_pix = import_map(maps, int(beam))\n",
    "\n",
    "outputs = \"output/510u3/pv545.csv\"\n",
    "outputs2 = \"output/510u3/pv545_r.csv\"\n",
    "\n",
    "signal, signal_ring, ras_used, decs_used = extract_intensity(map_pix, ras_all, decs_all, beam)\n",
    "output_signal(signal, signal_ring, outputs, outputs2)"
   ]
  },
  {
   "cell_type": "code",
   "execution_count": null,
   "id": "e0d17a30",
   "metadata": {},
   "outputs": [],
   "source": [
    "voids = pd.read_csv('data/voids.csv',skiprows=0,index_col=0)\n",
    "ras_voids = voids['ras'].reset_index(drop=True)\n",
    "decs_voids = voids['decs'].reset_index(drop=True)\n",
    "\n",
    "ras_all = ras_voids\n",
    "decs_all = decs_voids\n",
    "\n",
    "maps = \"data/HFI_SkyMap_857-field-Int_2048_R3.00_full.fits\"\n",
    "beam = 10\n",
    "map_pix = import_map(maps, int(beam))\n",
    "\n",
    "outputs = \"output/510u3/pv857.csv\"\n",
    "outputs2 = \"output/510u3/pv857_r.csv\"\n",
    "\n",
    "signal, signal_ring, ras_used, decs_used = extract_intensity(map_pix, ras_all, decs_all, beam)\n",
    "output_signal(signal, signal_ring, outputs, outputs2)"
   ]
  },
  {
   "cell_type": "markdown",
   "id": "55c48d8a",
   "metadata": {},
   "source": [
    "---"
   ]
  },
  {
   "cell_type": "markdown",
   "id": "9fed9586",
   "metadata": {},
   "source": [
    "### Fullsky"
   ]
  },
  {
   "cell_type": "code",
   "execution_count": null,
   "id": "578d787c",
   "metadata": {},
   "outputs": [],
   "source": [
    "import astropy.coordinates as coord\n",
    "from astropy.coordinates import SkyCoord\n",
    "from astropy import units as u\n",
    "\n",
    "# galactic coordinates\n",
    "glon = []\n",
    "glat = []\n",
    "for lon in np.linspace(0,360,317):\n",
    "    for lat in np.linspace(-90,90,317):\n",
    "        glon.append(lon)\n",
    "        glat.append(lat)\n",
    "glon2 = [i*u.degree for i in glon]\n",
    "glat2 = [i*u.degree for i in glat]\n",
    "\n",
    "# convert to equitorial coordinates\n",
    "c = SkyCoord(glon2, glat2, frame='galactic')\n",
    "ras = c.icrs.ra.deg\n",
    "decs = c.icrs.dec.deg"
   ]
  },
  {
   "cell_type": "code",
   "execution_count": null,
   "id": "bc401343",
   "metadata": {},
   "outputs": [],
   "source": [
    "def import_map(filepath, beam):\n",
    "    pl = hp.read_map(filepath)\n",
    "    pl[pl<-1e23]=0\n",
    "    try:\n",
    "        shape,wcs = enmap.fullsky_geometry(res=int(beam)*utils.arcmin,proj='car')\n",
    "        map_pix = reproject.enmap_from_healpix(pl,shape=shape,wcs=wcs)\n",
    "    except:\n",
    "        shape,wcs = enmap.fullsky_geometry(res=int(beam+1)*utils.arcmin,proj='car')\n",
    "        map_pix = reproject.enmap_from_healpix(pl,shape=shape,wcs=wcs)\n",
    "    return map_pix\n",
    "\n",
    "\n",
    "def extract_intensity(map_pix, ras, decs, beam):\n",
    "    N = len(ras)\n",
    "    stack_CMB_kSZ           = 0\n",
    "    stack_CMB_kSZ_deproject = 0\n",
    "    c = 0\n",
    "\n",
    "    signal = []\n",
    "    signal_ring = []\n",
    "    ras_used = []\n",
    "    decs_used = []\n",
    "    for i in tqdm(range(N)):\n",
    "        stamp = reproject.thumbnails(map_pix,coords = np.deg2rad([decs[i], ras[i]]),r=beam*utils.arcmin)\n",
    "        stamp2 = reproject.thumbnails(map_pix,coords = np.deg2rad([decs[i], ras[i]]),r=beam*2*utils.arcmin)\n",
    "\n",
    "        if stamp is None:\n",
    "            signal.append(-9999)\n",
    "        elif stamp[0][0][0]==0.0:\n",
    "            signal.append(-9999)\n",
    "        else:\n",
    "            signal_sum = sum(sum(stamp[0]))\n",
    "            signal2_sum = sum(sum(stamp2[0]))\n",
    "            num_pix_signal = len(stamp[0][0])*len(stamp[0][0])\n",
    "            num_pix_signal2 = len(stamp2[0][0])*len(stamp2[0][0])            \n",
    "            signal.append(signal_sum/num_pix_signal)\n",
    "            signal_ring.append((signal2_sum-signal_sum)/(num_pix_signal2-num_pix_signal))\n",
    "        ras_used.append(ras[i])\n",
    "        decs_used.append(decs[i])\n",
    "\n",
    "    return signal, signal_ring, ras_used, decs_used\n",
    "\n",
    "\n",
    "def output_signal(signal,signal_ring,output_fp,output_fp_signal):\n",
    "    np.savetxt(output_fp,\n",
    "               signal,\n",
    "               delimiter=\", \",\n",
    "               fmt='% s')\n",
    "    np.savetxt(output_fp_signal,\n",
    "               signal_ring,\n",
    "               delimiter=\", \",\n",
    "               fmt='% s')"
   ]
  },
  {
   "cell_type": "code",
   "execution_count": null,
   "id": "6ec662e6",
   "metadata": {},
   "outputs": [],
   "source": [
    "import astropy.coordinates as coord\n",
    "from astropy.coordinates import SkyCoord\n",
    "from astropy import units as u\n",
    "\n",
    "# galactic coordinates\n",
    "glon = []\n",
    "glat = []\n",
    "for lon in np.linspace(0,360,317):\n",
    "    for lat in np.linspace(-90,90,317):\n",
    "        glon.append(lon)\n",
    "        glat.append(lat)\n",
    "glon2 = [i*u.degree for i in glon]\n",
    "glat2 = [i*u.degree for i in glat]\n",
    "\n",
    "# convert to equitorial coordinates\n",
    "c = SkyCoord(glon2, glat2, frame='galactic')\n",
    "ras = c.icrs.ra.deg\n",
    "decs = c.icrs.dec.deg"
   ]
  },
  {
   "cell_type": "code",
   "execution_count": null,
   "id": "bc97ebe2",
   "metadata": {},
   "outputs": [],
   "source": [
    "ras_fsky = pd.read_csv('data/full_sky_ras.csv').reset_index(drop=True)\n",
    "decs_fsky = pd.read_csv('data/full_sky_decs.csv').reset_index(drop=True)\n",
    "\n",
    "ras_all = np.array(ras)#np.array(ras)#ras_fsky['ras'].values\n",
    "decs_all = np.array(decs)#decs_fsky['decs'].values\n",
    "\n",
    "maps = \"data/HFI_SkyMap_100-field-IQU_2048_R3.00_full.fits\"\n",
    "beam = 10\n",
    "map_pix = import_map(maps, int(beam))\n",
    "\n",
    "outputs = \"output/510u3/pf100.csv\"\n",
    "outputs2 = \"output/510u3/pf100_r.csv\"\n",
    "\n",
    "signal, signal_ring, ras_used, decs_used = extract_intensity(map_pix, ras_all, decs_all, beam)\n",
    "output_signal(signal, signal_ring, outputs, outputs2)"
   ]
  },
  {
   "cell_type": "code",
   "execution_count": null,
   "id": "ae6a7dd5",
   "metadata": {},
   "outputs": [],
   "source": [
    "ras_fsky = pd.read_csv('data/full_sky_ras.csv').reset_index(drop=True)\n",
    "decs_fsky = pd.read_csv('data/full_sky_decs.csv').reset_index(drop=True)\n",
    "\n",
    "ras_all = np.array(ras)#np.array(ras)#ras_fsky['ras'].values\n",
    "decs_all = np.array(decs)#decs_fsky['decs'].values\n",
    "\n",
    "maps = \"data/HFI_SkyMap_143-field-IQU_2048_R3.00_full.fits\"\n",
    "beam = 10\n",
    "map_pix = import_map(maps, int(beam))\n",
    "\n",
    "outputs = \"output/510u3/pf143.csv\"\n",
    "outputs2 = \"output/510u3/pf143_r.csv\"\n",
    "\n",
    "signal, signal_ring, ras_used, decs_used = extract_intensity(map_pix, ras_all, decs_all, beam)\n",
    "output_signal(signal, signal_ring, outputs, outputs2)"
   ]
  },
  {
   "cell_type": "code",
   "execution_count": null,
   "id": "1963ab44",
   "metadata": {},
   "outputs": [],
   "source": [
    "ras_fsky = pd.read_csv('data/full_sky_ras.csv').reset_index(drop=True)\n",
    "decs_fsky = pd.read_csv('data/full_sky_decs.csv').reset_index(drop=True)\n",
    "\n",
    "ras_all = np.array(ras)#np.array(ras)#ras_fsky['ras'].values\n",
    "decs_all = np.array(decs)#decs_fsky['decs'].values\n",
    "\n",
    "maps = \"data/HFI_SkyMap_217-field-IQU_2048_R3.00_full.fits\"\n",
    "beam = 10\n",
    "map_pix = import_map(maps, int(beam))\n",
    "\n",
    "outputs = \"output/510u3/pf217.csv\"\n",
    "outputs2 = \"output/510u3/pf217_r.csv\"\n",
    "\n",
    "signal, signal_ring, ras_used, decs_used = extract_intensity(map_pix, ras_all, decs_all, beam)\n",
    "output_signal(signal, signal_ring, outputs, outputs2)"
   ]
  },
  {
   "cell_type": "code",
   "execution_count": null,
   "id": "bdc8043d",
   "metadata": {},
   "outputs": [],
   "source": [
    "# ras_fsky = pd.read_csv('data/full_sky_ras.csv').reset_index(drop=True)\n",
    "decs_fsky = pd.read_csv('data/full_sky_decs.csv').reset_index(drop=True)\n",
    "\n",
    "ras_all = np.array(ras)#np.array(ras)#ras_fsky['ras'].values\n",
    "decs_all = np.array(decs)#decs_fsky['decs'].values\n",
    "\n",
    "maps = \"data/HFI_SkyMap_353-psb-field-IQU_2048_R3.00_full.fits\"\n",
    "beam = 10\n",
    "map_pix = import_map(maps, int(beam))\n",
    "\n",
    "outputs = \"output/510u3/pf353.csv\"\n",
    "outputs2 = \"output/510u3/pf353_r.csv\"\n",
    "\n",
    "signal, signal_ring, ras_used, decs_used = extract_intensity(map_pix, ras_all, decs_all, beam)\n",
    "output_signal(signal, signal_ring, outputs, outputs2)"
   ]
  },
  {
   "cell_type": "code",
   "execution_count": null,
   "id": "453eb1c7",
   "metadata": {},
   "outputs": [],
   "source": [
    "def extract_intensity(map_pix, ras, decs, beam):\n",
    "    N = len(ras)\n",
    "    stack_CMB_kSZ           = 0\n",
    "    stack_CMB_kSZ_deproject = 0\n",
    "    c = 0\n",
    "\n",
    "    signal = []\n",
    "    signal_ring = []\n",
    "    ras_used = []\n",
    "    decs_used = []\n",
    "    for i in tqdm(range(N)):\n",
    "        dust = reproject.thumbnails(map_pix,coords = np.deg2rad([decs[i], ras[i]]),r=30*utils.arcmin)\n",
    "        stamp = reproject.thumbnails(map_pix,coords = np.deg2rad([decs[i], ras[i]]),r=beam*utils.arcmin)\n",
    "        stamp2 = reproject.thumbnails(map_pix,coords = np.deg2rad([decs[i], ras[i]]),r=2*beam*utils.arcmin)\n",
    "\n",
    "        if stamp is None:\n",
    "            signal.append(-9999)\n",
    "        elif stamp[0][0][0]==0.0:\n",
    "            signal.append(-9999)\n",
    "        elif dust is None:\n",
    "            signal.append(-9999)\n",
    "        elif dust[0][0][0]==0.0:\n",
    "            signal.append(-9999)\n",
    "        else:\n",
    "            dust_sum = sum(sum(dust[0]))\n",
    "            num_pix_dust = len(dust[0][0])*len(dust[0][0])\n",
    "            signal_sum = sum(sum(stamp[0]))\n",
    "            num_pix_signal = len(stamp[0][0])*len(stamp[0][0])\n",
    "            signal2_sum = sum(sum(stamp2[0]))\n",
    "            num_pix_signal2 = len(stamp2[0][0])*len(stamp2[0][0])            \n",
    "                        \n",
    "            signal.append((signal_sum/num_pix_signal)-(dust_sum/num_pix_dust))\n",
    "            signal_ring.append(((signal2_sum-signal_sum)/(num_pix_signal2-num_pix_signal))-(dust_sum/num_pix_dust))\n",
    "            \n",
    "        ras_used.append(ras[i])\n",
    "        decs_used.append(decs[i])\n",
    "\n",
    "    return signal, signal_ring, ras_used, decs_used"
   ]
  },
  {
   "cell_type": "code",
   "execution_count": null,
   "id": "9337c9c7",
   "metadata": {},
   "outputs": [],
   "source": [
    "ras_fsky = pd.read_csv('data/full_sky_ras.csv').reset_index(drop=True)\n",
    "decs_fsky = pd.read_csv('data/full_sky_decs.csv').reset_index(drop=True)\n",
    "\n",
    "ras_all = np.array(ras)#np.array(ras)#ras_fsky['ras'].values\n",
    "decs_all = np.array(decs)#decs_fsky['decs'].values\n",
    "\n",
    "maps = \"data/HFI_SkyMap_545-field-Int_2048_R3.00_full.fits\"\n",
    "beam = 10\n",
    "map_pix = import_map(maps, int(beam))\n",
    "\n",
    "outputs = \"output/510u3/pf545.csv\"\n",
    "outputs2 = \"output/510u3/pf545_r.csv\"\n",
    "\n",
    "signal, signal_ring, ras_used, decs_used = extract_intensity(map_pix, ras_all, decs_all, beam)\n",
    "output_signal(signal, signal_ring, outputs, outputs2)"
   ]
  },
  {
   "cell_type": "code",
   "execution_count": null,
   "id": "09a8fe0e",
   "metadata": {},
   "outputs": [],
   "source": [
    "ras_fsky = pd.read_csv('data/full_sky_ras.csv').reset_index(drop=True)\n",
    "decs_fsky = pd.read_csv('data/full_sky_decs.csv').reset_index(drop=True)\n",
    "\n",
    "ras_all = np.array(ras)#np.array(ras)#ras_fsky['ras'].values\n",
    "decs_all = np.array(decs)#decs_fsky['decs'].values\n",
    "\n",
    "maps = \"data/HFI_SkyMap_857-field-Int_2048_R3.00_full.fits\"\n",
    "beam = 10\n",
    "map_pix = import_map(maps, int(beam))\n",
    "\n",
    "outputs = \"output/510u3/pf857.csv\"\n",
    "outputs2 = \"output/510u3/pf857_r.csv\"\n",
    "\n",
    "signal, signal_ring, ras_used, decs_used = extract_intensity(map_pix, ras_all, decs_all, beam)\n",
    "output_signal(signal, signal_ring, outputs, outputs2)"
   ]
  },
  {
   "cell_type": "markdown",
   "id": "7160cdce",
   "metadata": {},
   "source": [
    "---"
   ]
  },
  {
   "cell_type": "markdown",
   "id": "2ca5ca15",
   "metadata": {},
   "source": [
    "### ACT"
   ]
  },
  {
   "cell_type": "markdown",
   "id": "1dc42c1f",
   "metadata": {},
   "source": [
    "### Real"
   ]
  },
  {
   "cell_type": "code",
   "execution_count": 3,
   "id": "9a834b45",
   "metadata": {},
   "outputs": [],
   "source": [
    "def import_map(filepath, beam):\n",
    "    pl = hp.read_map(filepath)\n",
    "    pl[pl<-1e23]=0\n",
    "    try:\n",
    "        shape,wcs = enmap.fullsky_geometry(res=int(beam)*utils.arcmin,proj='car')\n",
    "        map_pix = reproject.enmap_from_healpix(pl,shape=shape,wcs=wcs)\n",
    "    except:\n",
    "        shape,wcs = enmap.fullsky_geometry(res=int(beam+1)*utils.arcmin,proj='car')\n",
    "        map_pix = reproject.enmap_from_healpix(pl,shape=shape,wcs=wcs)\n",
    "    return map_pix\n",
    "\n",
    "\n",
    "def extract_intensity(map_pix, ras, decs, beam):\n",
    "    N = len(ras)\n",
    "    stack_CMB_kSZ           = 0\n",
    "    stack_CMB_kSZ_deproject = 0\n",
    "    c = 0\n",
    "\n",
    "    signal = []\n",
    "    signal_ring = []\n",
    "    ras_used = []\n",
    "    decs_used = []\n",
    "    for i in tqdm(range(N)):\n",
    "        stamp = reproject.thumbnails(map_pix,coords = np.deg2rad([decs[i], ras[i]]),r=beam*utils.arcmin)\n",
    "        stamp2 = reproject.thumbnails(map_pix,coords = np.deg2rad([decs[i], ras[i]]),r=beam*2*utils.arcmin)\n",
    "\n",
    "        if stamp is None:\n",
    "            signal.append(-9999)\n",
    "            signal_ring.append(-9999)\n",
    "        elif stamp[0][0][0]==0.0:\n",
    "            signal.append(-9999)\n",
    "            signal_ring.append(-9999)\n",
    "        else:\n",
    "            signal_sum = sum(sum(stamp[0]))\n",
    "            signal2_sum = sum(sum(stamp2[0]))\n",
    "            num_pix_signal = len(stamp[0][0])*len(stamp[0][0])\n",
    "            num_pix_signal2 = len(stamp2[0][0])*len(stamp2[0][0])            \n",
    "            signal.append(signal_sum/num_pix_signal)\n",
    "            signal_ring.append((signal2_sum-signal_sum)/(num_pix_signal2-num_pix_signal))\n",
    "        ras_used.append(ras[i])\n",
    "        decs_used.append(decs[i])\n",
    "\n",
    "    return signal, signal_ring, ras_used, decs_used\n",
    "\n",
    "\n",
    "def output_signal(signal,signal_ring,output_fp,output_fp_signal):\n",
    "    np.savetxt(output_fp,\n",
    "               signal,\n",
    "               delimiter=\", \",\n",
    "               fmt='% s')\n",
    "    np.savetxt(output_fp_signal,\n",
    "               signal_ring,\n",
    "               delimiter=\", \",\n",
    "               fmt='% s')"
   ]
  },
  {
   "cell_type": "code",
   "execution_count": null,
   "id": "4fed0c5d",
   "metadata": {},
   "outputs": [],
   "source": [
    "real = pd.read_csv('data/union2.csv',skiprows=0,index_col=0)[::3]\n",
    "ras_real = real['amf_ra'].reset_index(drop=True)##[real.z>0.75][::2].reset_index(drop=True)\n",
    "decs_real = real['amf_dec'].reset_index(drop=True)##[real.z>0.75][::2].reset_index(drop=True)\n",
    "\n",
    "ras_all = ras_real\n",
    "decs_all = decs_real\n",
    "\n",
    "beam = 5\n",
    "map_pix = enmap.read_map(\"data/act_dr5.01_s08s18_AA_f090_daynight_map.fits\")\n",
    "outputs = \"output/510u3/ar90.csv\"\n",
    "outputs2 = \"output/510u3/ar90_r.csv\"\n",
    "\n",
    "signal, signal_ring, ras_used, decs_used = extract_intensity(map_pix, ras_all, decs_all, beam)\n",
    "output_signal(signal, signal_ring, outputs, outputs2)"
   ]
  },
  {
   "cell_type": "code",
   "execution_count": null,
   "id": "935f247d",
   "metadata": {},
   "outputs": [],
   "source": [
    "real = pd.read_csv('data/union2.csv',skiprows=0,index_col=0)[::3]\n",
    "ras_real = real['amf_ra'].reset_index(drop=True)##[real.z>0.75][::2].reset_index(drop=True)\n",
    "decs_real = real['amf_dec'].reset_index(drop=True)##[real.z>0.75][::2].reset_index(drop=True)\n",
    "\n",
    "ras_all = ras_real\n",
    "decs_all = decs_real\n",
    "\n",
    "beam = 5\n",
    "map_pix = enmap.read_map(\"data/act_dr5.01_s08s18_AA_f150_daynight_map.fits\")\n",
    "outputs = \"output/510u3/ar150.csv\"\n",
    "outputs2 = \"output/510u3/ar150_r.csv\"\n",
    "\n",
    "signal, signal_ring, ras_used, decs_used = extract_intensity(map_pix, ras_all, decs_all, beam)\n",
    "output_signal(signal, signal_ring, outputs, outputs2)"
   ]
  },
  {
   "cell_type": "code",
   "execution_count": null,
   "id": "16e69809",
   "metadata": {},
   "outputs": [],
   "source": [
    "real = pd.read_csv('data/union2.csv',skiprows=0,index_col=0)[::3]\n",
    "ras_real = real['amf_ra'].reset_index(drop=True)##[real.z>0.75][::2].reset_index(drop=True)\n",
    "decs_real = real['amf_dec'].reset_index(drop=True)##[real.z>0.75][::2].reset_index(drop=True)\n",
    "\n",
    "ras_all = ras_real\n",
    "decs_all = decs_real\n",
    "\n",
    "beam = 5\n",
    "map_pix = enmap.read_map(\"data/act_dr5.01_s08s18_AA_f220_daynight_map.fits\")\n",
    "outputs = \"output/510u3/ar220.csv\"\n",
    "outputs2 = \"output/510u3/ar220_r.csv\"\n",
    "\n",
    "signal, signal_ring, ras_used, decs_used = extract_intensity(map_pix, ras_all, decs_all, beam)\n",
    "output_signal(signal, signal_ring, outputs, outputs2)"
   ]
  },
  {
   "cell_type": "markdown",
   "id": "274dd483",
   "metadata": {},
   "source": [
    "### Non-clusters"
   ]
  },
  {
   "cell_type": "code",
   "execution_count": null,
   "id": "e695d7d2",
   "metadata": {},
   "outputs": [],
   "source": [
    "voids = pd.read_csv('data/voids.csv',skiprows=0,index_col=0)\n",
    "ras_voids = voids['ras'].reset_index(drop=True)\n",
    "decs_voids = voids['decs'].reset_index(drop=True)\n",
    "\n",
    "ras_all = ras_voids\n",
    "decs_all = decs_voids\n",
    "\n",
    "beam = 5\n",
    "map_pix = enmap.read_map(\"data/act_dr5.01_s08s18_AA_f090_daynight_map.fits\")\n",
    "outputs = \"output/510u3/av90.csv\"\n",
    "outputs2 = \"output/510u3/av90_r.csv\"\n",
    "\n",
    "signal, signal_ring, ras_used, decs_used = extract_intensity(map_pix, ras_all, decs_all, beam)\n",
    "output_signal(signal, signal_ring, outputs, outputs2)"
   ]
  },
  {
   "cell_type": "code",
   "execution_count": null,
   "id": "3f007a01",
   "metadata": {},
   "outputs": [],
   "source": [
    "voids = pd.read_csv('data/voids.csv',skiprows=0,index_col=0)\n",
    "ras_voids = voids['ras'].reset_index(drop=True)\n",
    "decs_voids = voids['decs'].reset_index(drop=True)\n",
    "\n",
    "ras_all = ras_voids\n",
    "decs_all = decs_voids\n",
    "\n",
    "beam = 5\n",
    "map_pix = enmap.read_map(\"data/act_dr5.01_s08s18_AA_f150_daynight_map.fits\")\n",
    "outputs = \"output/510u3/av150.csv\"\n",
    "outputs2 = \"output/510u3/av150_r.csv\"\n",
    "\n",
    "signal, signal_ring, ras_used, decs_used = extract_intensity(map_pix, ras_all, decs_all, beam)\n",
    "output_signal(signal, signal_ring, outputs, outputs2)"
   ]
  },
  {
   "cell_type": "code",
   "execution_count": null,
   "id": "dd02bd09",
   "metadata": {},
   "outputs": [],
   "source": [
    "voids = pd.read_csv('data/voids.csv',skiprows=0,index_col=0)\n",
    "ras_voids = voids['ras'].reset_index(drop=True)\n",
    "decs_voids = voids['decs'].reset_index(drop=True)\n",
    "\n",
    "ras_all = ras_voids\n",
    "decs_all = decs_voids\n",
    "\n",
    "beam = 5\n",
    "map_pix = enmap.read_map(\"data/act_dr5.01_s08s18_AA_f220_daynight_map.fits\")\n",
    "outputs = \"output/510u3/av220.csv\"\n",
    "outputs2 = \"output/510u3/av220_r.csv\"\n",
    "\n",
    "signal, signal_ring, ras_used, decs_used = extract_intensity(map_pix, ras_all, decs_all, beam)\n",
    "output_signal(signal, signal_ring, outputs, outputs2)"
   ]
  },
  {
   "cell_type": "markdown",
   "id": "650c9e9c",
   "metadata": {},
   "source": [
    "---"
   ]
  },
  {
   "cell_type": "markdown",
   "id": "09b78f44",
   "metadata": {},
   "source": [
    "### Fullsky"
   ]
  },
  {
   "cell_type": "code",
   "execution_count": null,
   "id": "f5d90604",
   "metadata": {},
   "outputs": [],
   "source": [
    "import astropy.coordinates as coord\n",
    "from astropy.coordinates import SkyCoord\n",
    "from astropy import units as u\n",
    "from tqdm import tqdm\n",
    "\n",
    "# galactic coordinates\n",
    "glon = []\n",
    "glat = []\n",
    "for lon in tqdm(np.linspace(180,360,1079)):\n",
    "    for lat in np.linspace(15,90,449):\n",
    "        if (lat >= -15) & (lat <= 15):\n",
    "            continue\n",
    "        glon.append(lon)\n",
    "        glat.append(lat)\n",
    "glon2 = [i*u.degree for i in glon]\n",
    "glat2 = [i*u.degree for i in glat]\n",
    "\n",
    "# convert to equitorial coordinates\n",
    "c = SkyCoord(glon2, glat2, frame='galactic')\n",
    "ras = c.icrs.ra.deg\n",
    "decs = c.icrs.dec.deg"
   ]
  },
  {
   "cell_type": "code",
   "execution_count": null,
   "id": "b235750c",
   "metadata": {},
   "outputs": [],
   "source": [
    "ras_fsky = pd.read_csv('data/full_sky_ras.csv').reset_index(drop=True)\n",
    "decs_fsky = pd.read_csv('data/full_sky_decs.csv').reset_index(drop=True)\n",
    "\n",
    "ras_all = np.array(ras)#np.array(ras)#ras_fsky['ras'].values\n",
    "decs_all = np.array(decs)#decs_fsky['decs'].values\n",
    "\n",
    "beam = 5\n",
    "map_pix = enmap.read_map(\"data/act_dr5.01_s08s18_AA_f090_daynight_map.fits\")\n",
    "outputs = \"output/510u3/af90.csv\"\n",
    "outputs2 = \"output/510u3/af90_r.csv\"\n",
    "\n",
    "signal, signal_ring, ras_used, decs_used = extract_intensity(map_pix, ras_all, decs_all, beam)\n",
    "output_signal(signal, signal_ring, outputs, outputs2)"
   ]
  },
  {
   "cell_type": "code",
   "execution_count": null,
   "id": "f4d3836c",
   "metadata": {},
   "outputs": [],
   "source": [
    "ras_fsky = pd.read_csv('data/full_sky_ras.csv').reset_index(drop=True)\n",
    "decs_fsky = pd.read_csv('data/full_sky_decs.csv').reset_index(drop=True)\n",
    "\n",
    "ras_all = np.array(ras)#np.array(ras)#ras_fsky['ras'].values\n",
    "decs_all = np.array(decs)#decs_fsky['decs'].values\n",
    "\n",
    "beam = 5\n",
    "map_pix = enmap.read_map(\"data/act_dr5.01_s08s18_AA_f150_daynight_map.fits\")\n",
    "outputs = \"output/510u3/af150.csv\"\n",
    "outputs2 = \"output/510u3/af150_r.csv\"\n",
    "\n",
    "signal, signal_ring, ras_used, decs_used = extract_intensity(map_pix, ras_all, decs_all, beam)\n",
    "output_signal(signal, signal_ring, outputs, outputs2)"
   ]
  },
  {
   "cell_type": "code",
   "execution_count": null,
   "id": "354de666",
   "metadata": {},
   "outputs": [],
   "source": [
    "ras_fsky = pd.read_csv('data/full_sky_ras.csv').reset_index(drop=True)\n",
    "decs_fsky = pd.read_csv('data/full_sky_decs.csv').reset_index(drop=True)\n",
    "\n",
    "ras_all = np.array(ras)#np.array(ras)#ras_fsky['ras'].values\n",
    "decs_all = np.array(decs)#decs_fsky['decs'].values\n",
    "\n",
    "beam = 5\n",
    "map_pix = enmap.read_map(\"data/act_dr5.01_s08s18_AA_f220_daynight_map.fits\")\n",
    "outputs = \"output/510u3/af220.csv\"\n",
    "outputs2 = \"output/510u3/af220_r.csv\"\n",
    "\n",
    "signal, signal_ring, ras_used, decs_used = extract_intensity(map_pix, ras_all, decs_all, beam)\n",
    "output_signal(signal, signal_ring, outputs, outputs2)"
   ]
  },
  {
   "cell_type": "markdown",
   "id": "f1431f66",
   "metadata": {},
   "source": [
    "---"
   ]
  },
  {
   "cell_type": "markdown",
   "id": "37e60643",
   "metadata": {},
   "source": [
    "## Rosat"
   ]
  },
  {
   "cell_type": "markdown",
   "id": "ae6ca883",
   "metadata": {},
   "source": [
    "### Real"
   ]
  },
  {
   "cell_type": "code",
   "execution_count": 4,
   "id": "d2c347ba",
   "metadata": {},
   "outputs": [],
   "source": [
    "def import_map(beam):\n",
    "    ros = hp.read_map(\"data/rass_healpix_countsec.fits\")\n",
    "    mask = hp.read_map(\"data/mask_comprass.fits\")\n",
    "\n",
    "    ros[ros<-1e23]=0\n",
    "\n",
    "    masked_ros = []\n",
    "    for i in tqdm(range(len(mask))):\n",
    "        masked_ros.append(0)\n",
    "        if mask[i]:\n",
    "            masked_ros[i]=ros[i]\n",
    "\n",
    "    masked_ros = np.array(masked_ros)\n",
    "\n",
    "    shape,wcs = enmap.fullsky_geometry(res=beam * utils.arcmin,proj='car')\n",
    "    map_pix = reproject.enmap_from_healpix(masked_ros,shape=shape,wcs=wcs)\n",
    "\n",
    "    return map_pix"
   ]
  },
  {
   "cell_type": "code",
   "execution_count": null,
   "id": "4b14582b",
   "metadata": {},
   "outputs": [],
   "source": [
    "real = pd.read_csv('data/union2.csv',skiprows=0,index_col=0)[::3]\n",
    "ras_real = real['amf_ra'].reset_index(drop=True)##[real.z>0.75][::2].reset_index(drop=True)\n",
    "decs_real = real['amf_dec'].reset_index(drop=True)##[real.z>0.75][::2].reset_index(drop=True)\n",
    "\n",
    "ras_all = ras_real\n",
    "decs_all = decs_real\n",
    "\n",
    "beam = 5\n",
    "map_pix = import_map(int(beam))\n",
    "outputs = \"output/510u3/rr.csv\"\n",
    "outputs2 = \"output/510u3/rr_r.csv\"\n",
    "\n",
    "signal, signal_ring, ras_used, decs_used = extract_intensity(map_pix, ras_all, decs_all, beam)\n",
    "output_signal(signal, signal_ring, outputs, outputs2)"
   ]
  },
  {
   "cell_type": "code",
   "execution_count": null,
   "id": "67e3757c",
   "metadata": {
    "scrolled": false
   },
   "outputs": [],
   "source": [
    "voids = pd.read_csv('data/voids.csv',skiprows=0,index_col=0)\n",
    "ras_voids = voids['ras'].reset_index(drop=True)\n",
    "decs_voids = voids['decs'].reset_index(drop=True)\n",
    "\n",
    "ras_all = ras_voids\n",
    "decs_all = decs_voids\n",
    "\n",
    "beam = 5\n",
    "map_pix = import_map(int(beam))\n",
    "outputs = \"output/510u3/rv.csv\"\n",
    "outputs2 = \"output/510u3/rv_r.csv\"\n",
    "\n",
    "signal, signal_ring, ras_used, decs_used = extract_intensity(map_pix, ras_all, decs_all, beam)\n",
    "output_signal(signal, signal_ring, outputs, outputs2)"
   ]
  },
  {
   "cell_type": "code",
   "execution_count": 5,
   "id": "162f030f",
   "metadata": {},
   "outputs": [
    {
     "name": "stderr",
     "output_type": "stream",
     "text": [
      "100%|█████████████████████████████████████████████████████████████████████████████| 1079/1079 [00:00<00:00, 4721.14it/s]\n"
     ]
    }
   ],
   "source": [
    "import astropy.coordinates as coord\n",
    "from astropy.coordinates import SkyCoord\n",
    "from astropy import units as u\n",
    "from tqdm import tqdm\n",
    "\n",
    "# galactic coordinates\n",
    "glon = []\n",
    "glat = []\n",
    "for lon in tqdm(np.linspace(180,360,1079)):\n",
    "    for lat in np.linspace(15,90,449):\n",
    "        if (lat >= -15) & (lat <= 15):\n",
    "            continue\n",
    "        glon.append(lon)\n",
    "        glat.append(lat)\n",
    "glon2 = [i*u.degree for i in glon]\n",
    "glat2 = [i*u.degree for i in glat]\n",
    "\n",
    "# convert to equitorial coordinates\n",
    "c = SkyCoord(glon2, glat2, frame='galactic')\n",
    "ras = c.icrs.ra.deg\n",
    "decs = c.icrs.dec.deg"
   ]
  },
  {
   "cell_type": "code",
   "execution_count": null,
   "id": "523078e7",
   "metadata": {
    "scrolled": true
   },
   "outputs": [
    {
     "name": "stderr",
     "output_type": "stream",
     "text": [
      "100%|████████████████████████████████████████████████████████████████| 201326592/201326592 [00:54<00:00, 3688526.23it/s]"
     ]
    }
   ],
   "source": [
    "ras_fsky = pd.read_csv('data/full_sky_ras.csv').reset_index(drop=True)\n",
    "decs_fsky = pd.read_csv('data/full_sky_decs.csv').reset_index(drop=True)\n",
    "\n",
    "ras_all = np.array(ras)#np.array(ras)#ras_fsky['ras'].values\n",
    "decs_all = np.array(decs)#decs_fsky['decs'].values\n",
    "\n",
    "beam = 5\n",
    "map_pix = import_map(int(beam))\n",
    "outputs = \"output/510u3/rf.csv\"\n",
    "outputs2 = \"output/510u3/rf_r.csv\"\n",
    "\n",
    "signal, signal_ring, ras_used, decs_used = extract_intensity(map_pix, ras_all, decs_all, beam)\n",
    "output_signal(signal, signal_ring, outputs, outputs2)"
   ]
  },
  {
   "cell_type": "code",
   "execution_count": null,
   "id": "85c4ee74",
   "metadata": {},
   "outputs": [],
   "source": []
  }
 ],
 "metadata": {
  "kernelspec": {
   "display_name": "Python 3 (ipykernel)",
   "language": "python",
   "name": "python3"
  },
  "language_info": {
   "codemirror_mode": {
    "name": "ipython",
    "version": 3
   },
   "file_extension": ".py",
   "mimetype": "text/x-python",
   "name": "python",
   "nbconvert_exporter": "python",
   "pygments_lexer": "ipython3",
   "version": "3.10.9"
  }
 },
 "nbformat": 4,
 "nbformat_minor": 5
}
