{
 "cells": [
  {
   "cell_type": "code",
   "execution_count": 1,
   "id": "6485064d",
   "metadata": {},
   "outputs": [],
   "source": [
    "import pandas as pd\n",
    "import math\n",
    "import numpy as np\n",
    "from astropy.coordinates import SkyCoord\n",
    "from astropy.io import fits\n",
    "import healpy as hp\n",
    "import matplotlib.pyplot as plt\n",
    "import time\n",
    "import sys\n",
    "from pixell import enmap, enplot, reproject, utils, curvedsky, wcsutils\n",
    "from matplotlib import cm\n",
    "from scipy.optimize import curve_fit\n",
    "from scipy.linalg import sqrtm\n",
    "from tqdm import tqdm\n",
    "import random\n",
    "import time\n",
    "import multiprocessing as mp\n",
    "import numpy as np\n",
    "import random\n",
    "import time\n",
    "import multiprocessing as mp\n",
    "import numpy as np"
   ]
  },
  {
   "cell_type": "markdown",
   "id": "a2d6dff5",
   "metadata": {},
   "source": [
    "# Rad: 5, 10"
   ]
  },
  {
   "cell_type": "code",
   "execution_count": 2,
   "id": "6d5e792e",
   "metadata": {},
   "outputs": [],
   "source": [
    "def import_map(filepath, beam):\n",
    "    pl = hp.read_map(filepath)\n",
    "    pl[(pl==-32768) | np.isnan(pl)] = 0\n",
    "    try:\n",
    "        shape,wcs = enmap.fullsky_geometry(res=int(beam)*utils.arcmin,proj='car')\n",
    "        map_pix = reproject.enmap_from_healpix(pl,shape=shape,wcs=wcs)\n",
    "    except:\n",
    "        shape,wcs = enmap.fullsky_geometry(res=int(beam+1)*utils.arcmin,proj='car')\n",
    "        map_pix = reproject.enmap_from_healpix(pl,shape=shape,wcs=wcs)\n",
    "    return map_pix\n",
    "\n",
    "\n",
    "def extract_intensity(map_pix, ras, decs, beam):\n",
    "    N = len(ras)\n",
    "    stack_CMB_kSZ           = 0\n",
    "    stack_CMB_kSZ_deproject = 0\n",
    "    c = 0\n",
    "\n",
    "    signal = []\n",
    "    signal_ring = []\n",
    "    ras_used = []\n",
    "    decs_used = []\n",
    "    for i in tqdm(range(N)):\n",
    "        stamp = reproject.thumbnails(map_pix,coords = np.deg2rad([decs[i], ras[i]]),r=beam*utils.arcmin)\n",
    "        stamp2 = reproject.thumbnails(map_pix,coords = np.deg2rad([decs[i], ras[i]]),r=beam*2*utils.arcmin)\n",
    "\n",
    "        if stamp is None:\n",
    "            signal.append(-9999)\n",
    "            signal_ring.append(-9999)\n",
    "        elif stamp[0][0][0]==0.0:\n",
    "            signal.append(-9999)\n",
    "            signal_ring.append(-9999)\n",
    "        else:\n",
    "            signal_sum = sum(sum(stamp[0]))\n",
    "            signal2_sum = sum(sum(stamp2[0]))\n",
    "            num_pix_signal = len(stamp[0][0])*len(stamp[0][0])\n",
    "            num_pix_signal2 = len(stamp2[0][0])*len(stamp2[0][0])            \n",
    "            signal.append(signal_sum/num_pix_signal)\n",
    "            signal_ring.append((signal2_sum-signal_sum)/(num_pix_signal2-num_pix_signal))\n",
    "        ras_used.append(ras[i])\n",
    "        decs_used.append(decs[i])\n",
    "\n",
    "    return signal, signal_ring, ras_used, decs_used\n",
    "\n",
    "\n",
    "def output_signal(signal,signal_ring,output_fp,output_fp_signal):\n",
    "    np.savetxt(output_fp,\n",
    "               signal,\n",
    "               delimiter=\", \",\n",
    "               fmt='% s')\n",
    "    np.savetxt(output_fp_signal,\n",
    "               signal_ring,\n",
    "               delimiter=\", \",\n",
    "               fmt='% s')"
   ]
  },
  {
   "cell_type": "code",
   "execution_count": 3,
   "id": "6caea1ec",
   "metadata": {},
   "outputs": [
    {
     "data": {
      "text/html": [
       "<div>\n",
       "<style scoped>\n",
       "    .dataframe tbody tr th:only-of-type {\n",
       "        vertical-align: middle;\n",
       "    }\n",
       "\n",
       "    .dataframe tbody tr th {\n",
       "        vertical-align: top;\n",
       "    }\n",
       "\n",
       "    .dataframe thead th {\n",
       "        text-align: right;\n",
       "    }\n",
       "</style>\n",
       "<table border=\"1\" class=\"dataframe\">\n",
       "  <thead>\n",
       "    <tr style=\"text-align: right;\">\n",
       "      <th></th>\n",
       "      <th>amf_ra</th>\n",
       "      <th>amf_dec</th>\n",
       "      <th>z</th>\n",
       "      <th>rh</th>\n",
       "      <th>cat</th>\n",
       "    </tr>\n",
       "  </thead>\n",
       "  <tbody>\n",
       "    <tr>\n",
       "      <th>133442</th>\n",
       "      <td>135.576658</td>\n",
       "      <td>84.282097</td>\n",
       "      <td>0.672224</td>\n",
       "      <td>71.125599</td>\n",
       "      <td>2</td>\n",
       "    </tr>\n",
       "    <tr>\n",
       "      <th>133457</th>\n",
       "      <td>209.871479</td>\n",
       "      <td>84.584461</td>\n",
       "      <td>0.618053</td>\n",
       "      <td>120.544025</td>\n",
       "      <td>2</td>\n",
       "    </tr>\n",
       "    <tr>\n",
       "      <th>133471</th>\n",
       "      <td>138.810199</td>\n",
       "      <td>83.776142</td>\n",
       "      <td>0.694301</td>\n",
       "      <td>85.364180</td>\n",
       "      <td>2</td>\n",
       "    </tr>\n",
       "    <tr>\n",
       "      <th>133483</th>\n",
       "      <td>135.668908</td>\n",
       "      <td>84.159404</td>\n",
       "      <td>0.871929</td>\n",
       "      <td>121.569477</td>\n",
       "      <td>2</td>\n",
       "    </tr>\n",
       "    <tr>\n",
       "      <th>133493</th>\n",
       "      <td>142.406155</td>\n",
       "      <td>83.795196</td>\n",
       "      <td>0.818349</td>\n",
       "      <td>52.069941</td>\n",
       "      <td>2</td>\n",
       "    </tr>\n",
       "    <tr>\n",
       "      <th>...</th>\n",
       "      <td>...</td>\n",
       "      <td>...</td>\n",
       "      <td>...</td>\n",
       "      <td>...</td>\n",
       "      <td>...</td>\n",
       "    </tr>\n",
       "    <tr>\n",
       "      <th>666175</th>\n",
       "      <td>327.522346</td>\n",
       "      <td>-65.807406</td>\n",
       "      <td>0.609801</td>\n",
       "      <td>191.053604</td>\n",
       "      <td>2</td>\n",
       "    </tr>\n",
       "    <tr>\n",
       "      <th>666181</th>\n",
       "      <td>57.444463</td>\n",
       "      <td>-67.289695</td>\n",
       "      <td>0.724935</td>\n",
       "      <td>40.326638</td>\n",
       "      <td>2</td>\n",
       "    </tr>\n",
       "    <tr>\n",
       "      <th>666191</th>\n",
       "      <td>59.272420</td>\n",
       "      <td>-66.669095</td>\n",
       "      <td>0.607185</td>\n",
       "      <td>90.656267</td>\n",
       "      <td>2</td>\n",
       "    </tr>\n",
       "    <tr>\n",
       "      <th>666216</th>\n",
       "      <td>63.079365</td>\n",
       "      <td>-67.299724</td>\n",
       "      <td>0.643196</td>\n",
       "      <td>146.470182</td>\n",
       "      <td>2</td>\n",
       "    </tr>\n",
       "    <tr>\n",
       "      <th>666231</th>\n",
       "      <td>66.479394</td>\n",
       "      <td>-67.250996</td>\n",
       "      <td>0.704453</td>\n",
       "      <td>94.599666</td>\n",
       "      <td>2</td>\n",
       "    </tr>\n",
       "  </tbody>\n",
       "</table>\n",
       "<p>41670 rows × 5 columns</p>\n",
       "</div>"
      ],
      "text/plain": [
       "            amf_ra    amf_dec         z          rh  cat\n",
       "133442  135.576658  84.282097  0.672224   71.125599    2\n",
       "133457  209.871479  84.584461  0.618053  120.544025    2\n",
       "133471  138.810199  83.776142  0.694301   85.364180    2\n",
       "133483  135.668908  84.159404  0.871929  121.569477    2\n",
       "133493  142.406155  83.795196  0.818349   52.069941    2\n",
       "...            ...        ...       ...         ...  ...\n",
       "666175  327.522346 -65.807406  0.609801  191.053604    2\n",
       "666181   57.444463 -67.289695  0.724935   40.326638    2\n",
       "666191   59.272420 -66.669095  0.607185   90.656267    2\n",
       "666216   63.079365 -67.299724  0.643196  146.470182    2\n",
       "666231   66.479394 -67.250996  0.704453   94.599666    2\n",
       "\n",
       "[41670 rows x 5 columns]"
      ]
     },
     "execution_count": 3,
     "metadata": {},
     "output_type": "execute_result"
    }
   ],
   "source": [
    "real = pd.read_csv(\"data/union3.csv\", skiprows = 0)\n",
    "real1 = real[(real.z > 1) & (real.cat == 3)]\n",
    "real2 = real[(real.z > 1) & (real.cat == 4)]\n",
    "real3 = real[(real.z < 1) & (real.z > 0.6) & (real.cat == 2)][::5]\n",
    "real4 = real[(real.z < 1) & (real.z > 0.6) & (real.cat.isin([1, 4]))]\n",
    "real5 = real[(real.z < 0.6) & (real.z > 0.05) & (real.cat.isin([0, 4]))]\n",
    "real6 = real[(real.z < 0.6) & (real.z > 0.05) & (real.cat == 2)]\n",
    "real3"
   ]
  },
  {
   "cell_type": "code",
   "execution_count": 28,
   "id": "8d5707aa",
   "metadata": {},
   "outputs": [
    {
     "name": "stdout",
     "output_type": "stream",
     "text": [
      "Preparing SHT\n",
      "T -> alm\n",
      "float64 complex128\n",
      "Computing pixel positions\n",
      "Computing rotated positions\n",
      "Projecting\n"
     ]
    },
    {
     "name": "stderr",
     "output_type": "stream",
     "text": [
      "100%|█████████████████████████████████████████████████████████████████████████████| 41670/41670 [12:48<00:00, 54.21it/s]\n"
     ]
    }
   ],
   "source": [
    "# real = pd.read_csv('data/union2.csv',skiprows=0,index_col=0)[::3]\n",
    "ras_real = real3['amf_ra'].reset_index(drop=True)##[real.z>0.75][::2].reset_index(drop=True)\n",
    "decs_real = real3['amf_dec'].reset_index(drop=True)##[real.z>0.75][::2].reset_index(drop=True)\n",
    "\n",
    "ras_all = ras_real\n",
    "decs_all = decs_real\n",
    "\n",
    "maps = \"data/IRIS_nohole_1_2048_v2.fits\"\n",
    "beam=10\n",
    "map_pix = import_map(maps, int(beam))\n",
    "\n",
    "outputs = \"output/510u3C3/ir12.csv\"\n",
    "outputs2 = \"output/510u3C3/ir12_r.csv\"\n",
    "\n",
    "signal, signal_ring, ras_used, decs_used = extract_intensity(map_pix, ras_all, decs_all, beam)\n",
    "output_signal(signal, signal_ring, outputs, outputs2)"
   ]
  },
  {
   "cell_type": "code",
   "execution_count": 29,
   "id": "6111375f",
   "metadata": {},
   "outputs": [
    {
     "name": "stdout",
     "output_type": "stream",
     "text": [
      "Preparing SHT\n",
      "T -> alm\n",
      "float64 complex128\n",
      "Computing pixel positions\n",
      "Computing rotated positions\n",
      "Projecting\n"
     ]
    },
    {
     "name": "stderr",
     "output_type": "stream",
     "text": [
      "100%|█████████████████████████████████████████████████████████████████████████████| 41670/41670 [12:38<00:00, 54.92it/s]\n"
     ]
    }
   ],
   "source": [
    "# real = pd.read_csv('data/union2.csv',skiprows=0,index_col=0)[::3]\n",
    "ras_real = real3['amf_ra'].reset_index(drop=True)##[real.z>0.75][::2].reset_index(drop=True)\n",
    "decs_real = real3['amf_dec'].reset_index(drop=True)##[real.z>0.75][::2].reset_index(drop=True)\n",
    "\n",
    "ras_all = ras_real\n",
    "decs_all = decs_real\n",
    "\n",
    "maps = \"data/IRIS_nohole_2_2048_v2.fits\"\n",
    "beam=10\n",
    "map_pix = import_map(maps, int(beam))\n",
    "\n",
    "outputs = \"output/510u3C3/ir25.csv\"\n",
    "outputs2 = \"output/510u3C3/ir25_r.csv\"\n",
    "\n",
    "signal, signal_ring, ras_used, decs_used = extract_intensity(map_pix, ras_all, decs_all, beam)\n",
    "output_signal(signal, signal_ring, outputs, outputs2)"
   ]
  },
  {
   "cell_type": "code",
   "execution_count": 4,
   "id": "6598379b",
   "metadata": {},
   "outputs": [
    {
     "name": "stdout",
     "output_type": "stream",
     "text": [
      "Preparing SHT\n",
      "T -> alm\n",
      "float64 complex128\n",
      "Computing pixel positions\n",
      "Computing rotated positions\n",
      "Projecting\n"
     ]
    },
    {
     "name": "stderr",
     "output_type": "stream",
     "text": [
      "100%|█████████████████████████████████████████████████████████████████████████████| 41670/41670 [11:09<00:00, 62.27it/s]\n"
     ]
    }
   ],
   "source": [
    "#real = pd.read_csv('data/union2.csv',skiprows=0,index_col=0)[::3]\n",
    "ras_real = real3['amf_ra'].reset_index(drop=True)##[real.z>0.75][::2].reset_index(drop=True)\n",
    "decs_real = real3['amf_dec'].reset_index(drop=True)##[real.z>0.75][::2].reset_index(drop=True)\n",
    "\n",
    "ras_all = ras_real\n",
    "decs_all = decs_real\n",
    "\n",
    "maps = \"data/IRIS_nohole_3_2048_v2.fits\"\n",
    "beam=10\n",
    "map_pix = import_map(maps, int(beam))\n",
    "\n",
    "outputs = \"output/510u3C3/ir60.csv\"\n",
    "outputs2 = \"output/510u3C3/ir60_r.csv\"\n",
    "\n",
    "signal, signal_ring, ras_used, decs_used = extract_intensity(map_pix, ras_all, decs_all, beam)\n",
    "output_signal(signal, signal_ring, outputs, outputs2)"
   ]
  },
  {
   "cell_type": "code",
   "execution_count": 5,
   "id": "c5d2940d",
   "metadata": {},
   "outputs": [
    {
     "name": "stdout",
     "output_type": "stream",
     "text": [
      "Preparing SHT\n",
      "T -> alm\n",
      "float64 complex128\n",
      "Computing pixel positions\n",
      "Computing rotated positions\n",
      "Projecting\n"
     ]
    },
    {
     "name": "stderr",
     "output_type": "stream",
     "text": [
      "100%|█████████████████████████████████████████████████████████████████████████████| 41670/41670 [10:56<00:00, 63.43it/s]\n"
     ]
    }
   ],
   "source": [
    "#real = pd.read_csv('data/union2.csv',skiprows=0,index_col=0)[::3]\n",
    "ras_real = real3['amf_ra'].reset_index(drop=True)##[real.z>0.75][::2].reset_index(drop=True)\n",
    "decs_real = real3['amf_dec'].reset_index(drop=True)##[real.z>0.75][::2].reset_index(drop=True)\n",
    "\n",
    "ras_all = ras_real\n",
    "decs_all = decs_real\n",
    "\n",
    "maps = \"data/IRIS_nohole_4_2048_v2.fits\"\n",
    "beam=10\n",
    "map_pix = import_map(maps, int(beam))\n",
    "\n",
    "outputs = \"output/510u3C3/ir100.csv\"\n",
    "outputs2 = \"output/510u3C3/ir100_r.csv\"\n",
    "\n",
    "signal, signal_ring, ras_used, decs_used = extract_intensity(map_pix, ras_all, decs_all, beam)\n",
    "output_signal(signal, signal_ring, outputs, outputs2)"
   ]
  },
  {
   "cell_type": "markdown",
   "id": "eb8993d3",
   "metadata": {},
   "source": [
    "---"
   ]
  },
  {
   "cell_type": "code",
   "execution_count": 5,
   "id": "18fc9a8d",
   "metadata": {},
   "outputs": [
    {
     "name": "stdout",
     "output_type": "stream",
     "text": [
      "Preparing SHT\n",
      "T -> alm\n",
      "float64 complex128\n",
      "Computing pixel positions\n",
      "Computing rotated positions\n",
      "Projecting\n"
     ]
    },
    {
     "name": "stderr",
     "output_type": "stream",
     "text": [
      "100%|████████████████████████████████████████████████████████████████████████████████████████████████████████████████████████| 47231/47231 [12:24<00:00, 63.48it/s]\n"
     ]
    }
   ],
   "source": [
    "voids = pd.read_csv('data/voids.csv',skiprows=0,index_col=0)\n",
    "ras_voids = voids['ras'].reset_index(drop=True)\n",
    "decs_voids = voids['decs'].reset_index(drop=True)\n",
    "\n",
    "ras_all = ras_voids\n",
    "decs_all = decs_voids\n",
    "\n",
    "maps = \"data/IRIS_nohole_1_2048_v2.fits\"\n",
    "beam=10\n",
    "map_pix = import_map(maps, int(beam))\n",
    "\n",
    "outputs = \"output/510u3/iv12.csv\"\n",
    "outputs2 = \"output/510u3/iv12_r.csv\"\n",
    "\n",
    "signal, signal_ring, ras_used, decs_used = extract_intensity(map_pix, ras_all, decs_all, beam)\n",
    "output_signal(signal, signal_ring, outputs, outputs2)"
   ]
  },
  {
   "cell_type": "code",
   "execution_count": 6,
   "id": "8c4017c7",
   "metadata": {},
   "outputs": [
    {
     "name": "stdout",
     "output_type": "stream",
     "text": [
      "Preparing SHT\n",
      "T -> alm\n",
      "float64 complex128\n",
      "Computing pixel positions\n",
      "Computing rotated positions\n",
      "Projecting\n"
     ]
    },
    {
     "name": "stderr",
     "output_type": "stream",
     "text": [
      "100%|████████████████████████████████████████████████████████████████████████████████████████████████████████████████████████| 47231/47231 [12:42<00:00, 61.95it/s]\n"
     ]
    }
   ],
   "source": [
    "voids = pd.read_csv('data/voids.csv',skiprows=0,index_col=0)\n",
    "ras_voids = voids['ras'].reset_index(drop=True)\n",
    "decs_voids = voids['decs'].reset_index(drop=True)\n",
    "\n",
    "ras_all = ras_voids\n",
    "decs_all = decs_voids\n",
    "\n",
    "maps = \"data/IRIS_nohole_2_2048_v2.fits\"\n",
    "beam=10\n",
    "map_pix = import_map(maps, int(beam))\n",
    "\n",
    "outputs = \"output/510u3/iv25.csv\"\n",
    "outputs2 = \"output/510u3/iv25_r.csv\"\n",
    "\n",
    "signal, signal_ring, ras_used, decs_used = extract_intensity(map_pix, ras_all, decs_all, beam)\n",
    "output_signal(signal, signal_ring, outputs, outputs2)"
   ]
  },
  {
   "cell_type": "code",
   "execution_count": 7,
   "id": "39955440",
   "metadata": {},
   "outputs": [
    {
     "name": "stdout",
     "output_type": "stream",
     "text": [
      "Preparing SHT\n",
      "T -> alm\n",
      "float64 complex128\n",
      "Computing pixel positions\n",
      "Computing rotated positions\n",
      "Projecting\n"
     ]
    },
    {
     "name": "stderr",
     "output_type": "stream",
     "text": [
      "100%|████████████████████████████████████████████████████████████████████████████████████████████████████████████████████████| 47231/47231 [14:03<00:00, 56.01it/s]\n"
     ]
    }
   ],
   "source": [
    "voids = pd.read_csv('data/voids.csv',skiprows=0,index_col=0)\n",
    "ras_voids = voids['ras'].reset_index(drop=True)\n",
    "decs_voids = voids['decs'].reset_index(drop=True)\n",
    "\n",
    "ras_all = ras_voids\n",
    "decs_all = decs_voids\n",
    "\n",
    "maps = \"data/IRIS_nohole_3_2048_v2.fits\"\n",
    "beam=10\n",
    "map_pix = import_map(maps, int(beam))\n",
    "\n",
    "outputs = \"output/510u3/iv60.csv\"\n",
    "outputs2 = \"output/510u3/iv60_r.csv\"\n",
    "\n",
    "signal, signal_ring, ras_used, decs_used = extract_intensity(map_pix, ras_all, decs_all, beam)\n",
    "output_signal(signal, signal_ring, outputs, outputs2)"
   ]
  },
  {
   "cell_type": "code",
   "execution_count": 8,
   "id": "d28fdc6b",
   "metadata": {},
   "outputs": [
    {
     "name": "stdout",
     "output_type": "stream",
     "text": [
      "Preparing SHT\n",
      "T -> alm\n",
      "float64 complex128\n",
      "Computing pixel positions\n",
      "Computing rotated positions\n",
      "Projecting\n"
     ]
    },
    {
     "name": "stderr",
     "output_type": "stream",
     "text": [
      "100%|████████████████████████████████████████████████████████████████████████████████████████████████████████████████████████| 47231/47231 [25:31<00:00, 30.83it/s]\n"
     ]
    }
   ],
   "source": [
    "voids = pd.read_csv('data/voids.csv',skiprows=0,index_col=0) \n",
    "ras_voids = voids['ras'].reset_index(drop=True)\n",
    "decs_voids = voids['decs'].reset_index(drop=True)\n",
    "\n",
    "ras_all = ras_voids\n",
    "decs_all = decs_voids\n",
    "\n",
    "maps = \"data/IRIS_nohole_4_2048_v2.fits\"\n",
    "beam=10\n",
    "map_pix = import_map(maps, int(beam))\n",
    "\n",
    "outputs = \"output/510u3/iv100.csv\"\n",
    "outputs2 = \"output/510u3/iv100_r.csv\"\n",
    "\n",
    "signal, signal_ring, ras_used, decs_used = extract_intensity(map_pix, ras_all, decs_all, beam)\n",
    "output_signal(signal, signal_ring, outputs, outputs2)"
   ]
  },
  {
   "cell_type": "code",
   "execution_count": null,
   "id": "a6fec2d5",
   "metadata": {},
   "outputs": [],
   "source": [
    "import astropy.coordinates as coord\n",
    "from astropy.coordinates import SkyCoord\n",
    "from astropy import units as u\n",
    "from tqdm import tqdm\n",
    "\n",
    "# galactic coordinates\n",
    "glon = []\n",
    "glat = []\n",
    "for lon in tqdm(np.linspace(180,360,540)):\n",
    "    for lat in np.linspace(15,90,225):\n",
    "        if (lat >= -15) & (lat <= 15):\n",
    "            continue\n",
    "        glon.append(lon)\n",
    "        glat.append(lat)\n",
    "glon2 = [i*u.degree for i in glon]\n",
    "glat2 = [i*u.degree for i in glat]\n",
    "\n",
    "# convert to equitorial coordinates\n",
    "c = SkyCoord(glon2, glat2, frame='galactic')\n",
    "ras = c.icrs.ra.deg\n",
    "decs = c.icrs.dec.deg"
   ]
  },
  {
   "cell_type": "code",
   "execution_count": null,
   "id": "b7872f3d",
   "metadata": {},
   "outputs": [],
   "source": [
    "ras_fsky = pd.read_csv('data/full_sky_ras.csv').reset_index(drop=True)\n",
    "decs_fsky = pd.read_csv('data/full_sky_decs.csv').reset_index(drop=True)\n",
    "\n",
    "ras_all = np.array(ras)#np.array(ras)#ras_fsky['ras'].values\n",
    "decs_all = np.array(decs)#decs_fsky['decs'].values\n",
    "\n",
    "maps = \"data/IRIS_nohole_1_2048_v2.fits\"\n",
    "beam=10\n",
    "map_pix = import_map(maps, int(beam))\n",
    "\n",
    "outputs = \"output/510u3/if12.csv\"\n",
    "outputs2 = \"output/510u3/if12_r.csv\"\n",
    "\n",
    "signal, signal_ring, ras_used, decs_used = extract_intensity(map_pix, ras_all, decs_all, beam)\n",
    "output_signal(signal, signal_ring, outputs, outputs2)"
   ]
  },
  {
   "cell_type": "code",
   "execution_count": null,
   "id": "a6e3b01c",
   "metadata": {},
   "outputs": [],
   "source": [
    "ras_fsky = pd.read_csv('data/full_sky_ras.csv').reset_index(drop=True)\n",
    "decs_fsky = pd.read_csv('data/full_sky_decs.csv').reset_index(drop=True)\n",
    "\n",
    "ras_all = np.array(ras)#np.array(ras)#ras_fsky['ras'].values\n",
    "decs_all = np.array(decs)#decs_fsky['decs'].values\n",
    "\n",
    "maps = \"data/IRIS_nohole_2_2048_v2.fits\"\n",
    "beam=10\n",
    "map_pix = import_map(maps, int(beam))\n",
    "\n",
    "outputs = \"output/510u3/if25.csv\"\n",
    "outputs2 = \"output/510u3/if25_r.csv\"\n",
    "\n",
    "signal, signal_ring, ras_used, decs_used = extract_intensity(map_pix, ras_all, decs_all, beam)\n",
    "output_signal(signal, signal_ring, outputs, outputs2)"
   ]
  },
  {
   "cell_type": "code",
   "execution_count": null,
   "id": "d885e186",
   "metadata": {},
   "outputs": [],
   "source": [
    "ras_fsky = pd.read_csv('data/full_sky_ras.csv').reset_index(drop=True)\n",
    "decs_fsky = pd.read_csv('data/full_sky_decs.csv').reset_index(drop=True)\n",
    "\n",
    "ras_all = np.array(ras)#np.array(ras)#ras_fsky['ras'].values\n",
    "decs_all = np.array(decs)#decs_fsky['decs'].values\n",
    "\n",
    "maps = \"data/IRIS_nohole_3_2048_v2.fits\"\n",
    "beam=10\n",
    "map_pix = import_map(maps, int(beam))\n",
    "\n",
    "outputs = \"output/510u3/if60.csv\"\n",
    "outputs2 = \"output/510u3/if60_r.csv\"\n",
    "\n",
    "signal, signal_ring, ras_used, decs_used = extract_intensity(map_pix, ras_all, decs_all, beam)\n",
    "output_signal(signal, signal_ring, outputs, outputs2)"
   ]
  },
  {
   "cell_type": "code",
   "execution_count": null,
   "id": "ac628604",
   "metadata": {},
   "outputs": [],
   "source": [
    "ras_fsky = pd.read_csv('data/full_sky_ras.csv').reset_index(drop=True)\n",
    "decs_fsky = pd.read_csv('data/full_sky_decs.csv').reset_index(drop=True)\n",
    "\n",
    "ras_all = np.array(ras)#np.array(ras)#ras_fsky['ras'].values\n",
    "decs_all = np.array(decs)#decs_fsky['decs'].values\n",
    "\n",
    "maps = \"data/IRIS_nohole_4_2048_v2.fits\"\n",
    "beam=10\n",
    "map_pix = import_map(maps, int(beam))\n",
    "\n",
    "outputs = \"output/510u3/if100.csv\"\n",
    "outputs2 = \"output/510u3/if100_r.csv\"\n",
    "\n",
    "signal, signal_ring, ras_used, decs_used = extract_intensity(map_pix, ras_all, decs_all, beam)\n",
    "output_signal(signal, signal_ring, outputs, outputs2)"
   ]
  },
  {
   "cell_type": "markdown",
   "id": "0db31942",
   "metadata": {},
   "source": [
    "## Planck"
   ]
  },
  {
   "cell_type": "markdown",
   "id": "e2186534",
   "metadata": {},
   "source": [
    "### Real"
   ]
  },
  {
   "cell_type": "code",
   "execution_count": 8,
   "id": "dc2c4a5c",
   "metadata": {},
   "outputs": [],
   "source": [
    "def import_map(filepath, beam):\n",
    "    pl = hp.read_map(filepath)\n",
    "    pl[pl<-1e23]=0\n",
    "    try:\n",
    "        shape,wcs = enmap.fullsky_geometry(res=int(beam)*utils.arcmin,proj='car')\n",
    "        map_pix = reproject.enmap_from_healpix(pl,shape=shape,wcs=wcs)\n",
    "    except:\n",
    "        shape,wcs = enmap.fullsky_geometry(res=int(beam+1)*utils.arcmin,proj='car')\n",
    "        map_pix = reproject.enmap_from_healpix(pl,shape=shape,wcs=wcs)\n",
    "    return map_pix\n",
    "\n",
    "\n",
    "def extract_intensity(map_pix, ras, decs, beam):\n",
    "    N = len(ras)\n",
    "    stack_CMB_kSZ           = 0\n",
    "    stack_CMB_kSZ_deproject = 0\n",
    "    c = 0\n",
    "\n",
    "    signal = []\n",
    "    signal_ring = []\n",
    "    ras_used = []\n",
    "    decs_used = []\n",
    "    for i in tqdm(range(N)):\n",
    "        stamp = reproject.thumbnails(map_pix,coords = np.deg2rad([decs[i], ras[i]]),r=beam*utils.arcmin)\n",
    "        stamp2 = reproject.thumbnails(map_pix,coords = np.deg2rad([decs[i], ras[i]]),r=beam*2*utils.arcmin)\n",
    "\n",
    "        if stamp is None:\n",
    "            signal.append(-9999)\n",
    "        elif stamp[0][0][0]==0.0:\n",
    "            signal.append(-9999)\n",
    "        else:\n",
    "            signal_sum = sum(sum(stamp[0]))\n",
    "            signal2_sum = sum(sum(stamp2[0]))\n",
    "            num_pix_signal = len(stamp[0][0])*len(stamp[0][0])\n",
    "            num_pix_signal2 = len(stamp2[0][0])*len(stamp2[0][0])            \n",
    "            signal.append(signal_sum/num_pix_signal)\n",
    "            signal_ring.append((signal2_sum-signal_sum)/(num_pix_signal2-num_pix_signal))\n",
    "        ras_used.append(ras[i])\n",
    "        decs_used.append(decs[i])\n",
    "\n",
    "    return signal, signal_ring, ras_used, decs_used\n",
    "\n",
    "\n",
    "def output_signal(signal,signal_ring,output_fp,output_fp_signal):\n",
    "    np.savetxt(output_fp,\n",
    "               signal,\n",
    "               delimiter=\", \",\n",
    "               fmt='% s')\n",
    "    np.savetxt(output_fp_signal,\n",
    "               signal_ring,\n",
    "               delimiter=\", \",\n",
    "               fmt='% s')"
   ]
  },
  {
   "cell_type": "code",
   "execution_count": 9,
   "id": "be827061",
   "metadata": {},
   "outputs": [
    {
     "name": "stdout",
     "output_type": "stream",
     "text": [
      "Preparing SHT\n",
      "T -> alm\n",
      "float64 complex128\n",
      "Computing pixel positions\n",
      "Computing rotated positions\n",
      "Projecting\n"
     ]
    },
    {
     "name": "stderr",
     "output_type": "stream",
     "text": [
      "100%|█████████████████████████████████████████████████████████████████████████████| 41670/41670 [10:54<00:00, 63.69it/s]\n"
     ]
    }
   ],
   "source": [
    "#real = pd.read_csv('data/union2.csv',skiprows=0,index_col=0)[::3]\n",
    "ras_real = real3['amf_ra'].reset_index(drop=True)##[real.z>0.75][::2].reset_index(drop=True)\n",
    "decs_real = real3['amf_dec'].reset_index(drop=True)##[real.z>0.75][::2].reset_index(drop=True)\n",
    "\n",
    "ras_all = ras_real\n",
    "decs_all = decs_real\n",
    "\n",
    "maps = \"data/HFI_SkyMap_100-field-IQU_2048_R3.00_full.fits\"\n",
    "beam = 10\n",
    "map_pix = import_map(maps, int(beam))\n",
    "\n",
    "outputs = \"output/510u3C3/pr100.csv\"\n",
    "outputs2 = \"output/510u3C3/pr100_r.csv\"\n",
    "\n",
    "signal, signal_ring, ras_used, decs_used = extract_intensity(map_pix, ras_all, decs_all, beam)\n",
    "output_signal(signal, signal_ring, outputs, outputs2)"
   ]
  },
  {
   "cell_type": "code",
   "execution_count": 10,
   "id": "470d5268",
   "metadata": {},
   "outputs": [
    {
     "name": "stdout",
     "output_type": "stream",
     "text": [
      "Preparing SHT\n",
      "T -> alm\n",
      "float64 complex128\n",
      "Computing pixel positions\n",
      "Computing rotated positions\n",
      "Projecting\n"
     ]
    },
    {
     "name": "stderr",
     "output_type": "stream",
     "text": [
      "100%|█████████████████████████████████████████████████████████████████████████████| 41670/41670 [11:03<00:00, 62.79it/s]\n"
     ]
    }
   ],
   "source": [
    "# real = pd.read_csv('data/union2.csv',skiprows=0,index_col=0)[::3]\n",
    "ras_real = real3['amf_ra'].reset_index(drop=True)##[real.z>0.75][::2].reset_index(drop=True)\n",
    "decs_real = real3['amf_dec'].reset_index(drop=True)##[real.z>0.75][::2].reset_index(drop=True)\n",
    "\n",
    "ras_all = ras_real\n",
    "decs_all = decs_real\n",
    "\n",
    "maps = \"data/HFI_SkyMap_143-field-IQU_2048_R3.00_full.fits\"\n",
    "beam = 10\n",
    "map_pix = import_map(maps, int(beam))\n",
    "\n",
    "outputs = \"output/510u3C3/pr143.csv\"\n",
    "outputs2 = \"output/510u3C3/pr143_r.csv\"\n",
    "\n",
    "signal, signal_ring, ras_used, decs_used = extract_intensity(map_pix, ras_all, decs_all, beam)\n",
    "output_signal(signal, signal_ring, outputs, outputs2)"
   ]
  },
  {
   "cell_type": "code",
   "execution_count": 11,
   "id": "75eb3af7",
   "metadata": {},
   "outputs": [
    {
     "name": "stdout",
     "output_type": "stream",
     "text": [
      "Preparing SHT\n",
      "T -> alm\n",
      "float64 complex128\n",
      "Computing pixel positions\n",
      "Computing rotated positions\n",
      "Projecting\n"
     ]
    },
    {
     "name": "stderr",
     "output_type": "stream",
     "text": [
      "100%|█████████████████████████████████████████████████████████████████████████████| 41670/41670 [10:58<00:00, 63.31it/s]\n"
     ]
    }
   ],
   "source": [
    "#real = pd.read_csv('data/union2.csv',skiprows=0,index_col=0)[::3]\n",
    "ras_real = real3['amf_ra'].reset_index(drop=True)##[real.z>0.75][::2].reset_index(drop=True)\n",
    "decs_real = real3['amf_dec'].reset_index(drop=True)##[real.z>0.75][::2].reset_index(drop=True)\n",
    "\n",
    "ras_all = ras_real\n",
    "decs_all = decs_real\n",
    "\n",
    "maps = \"data/HFI_SkyMap_217-field-IQU_2048_R3.00_full.fits\"\n",
    "beam = 10\n",
    "map_pix = import_map(maps, int(beam))\n",
    "\n",
    "outputs = \"output/510u3C3/pr217.csv\"\n",
    "outputs2 = \"output/510u3C3/pr217_r.csv\"\n",
    "\n",
    "signal, signal_ring, ras_used, decs_used = extract_intensity(map_pix, ras_all, decs_all, beam)\n",
    "output_signal(signal, signal_ring, outputs, outputs2)"
   ]
  },
  {
   "cell_type": "code",
   "execution_count": 12,
   "id": "4bedeb40",
   "metadata": {},
   "outputs": [
    {
     "name": "stdout",
     "output_type": "stream",
     "text": [
      "Preparing SHT\n",
      "T -> alm\n",
      "float64 complex128\n",
      "Computing pixel positions\n",
      "Computing rotated positions\n",
      "Projecting\n"
     ]
    },
    {
     "name": "stderr",
     "output_type": "stream",
     "text": [
      "100%|█████████████████████████████████████████████████████████████████████████████| 41670/41670 [11:14<00:00, 61.74it/s]\n"
     ]
    }
   ],
   "source": [
    "#real = pd.read_csv('data/union2.csv',skiprows=0,index_col=0)[::3]\n",
    "ras_real = real3['amf_ra'].reset_index(drop=True)##[real.z>0.75][::2].reset_index(drop=True)\n",
    "decs_real = real3['amf_dec'].reset_index(drop=True)##[real.z>0.75][::2].reset_index(drop=True)\n",
    "\n",
    "ras_all = ras_real\n",
    "decs_all = decs_real\n",
    "\n",
    "maps = \"data/HFI_SkyMap_353-psb-field-IQU_2048_R3.00_full.fits\"\n",
    "beam = 10\n",
    "map_pix = import_map(maps, int(beam))\n",
    "\n",
    "outputs = \"output/510u3C3/pr353.csv\"\n",
    "outputs2 = \"output/510u3C3/pr353_r.csv\"\n",
    "\n",
    "signal, signal_ring, ras_used, decs_used = extract_intensity(map_pix, ras_all, decs_all, beam)\n",
    "output_signal(signal, signal_ring, outputs, outputs2)"
   ]
  },
  {
   "cell_type": "code",
   "execution_count": 13,
   "id": "231389e2",
   "metadata": {},
   "outputs": [],
   "source": [
    "def extract_intensity(map_pix, ras, decs, beam):\n",
    "    N = len(ras)\n",
    "    stack_CMB_kSZ           = 0\n",
    "    stack_CMB_kSZ_deproject = 0\n",
    "    c = 0\n",
    "\n",
    "    signal = []\n",
    "    signal_ring = []\n",
    "    ras_used = []\n",
    "    decs_used = []\n",
    "    for i in tqdm(range(N)):\n",
    "        dust = reproject.thumbnails(map_pix,coords = np.deg2rad([decs[i], ras[i]]),r=30*utils.arcmin)\n",
    "        stamp = reproject.thumbnails(map_pix,coords = np.deg2rad([decs[i], ras[i]]),r=beam*utils.arcmin)\n",
    "        stamp2 = reproject.thumbnails(map_pix,coords = np.deg2rad([decs[i], ras[i]]),r=2*beam*utils.arcmin)\n",
    "\n",
    "        if stamp is None:\n",
    "            signal.append(-9999)\n",
    "        elif stamp[0][0][0]==0.0:\n",
    "            signal.append(-9999)\n",
    "        elif dust is None:\n",
    "            signal.append(-9999)\n",
    "        elif dust[0][0][0]==0.0:\n",
    "            signal.append(-9999)\n",
    "        else:\n",
    "            dust_sum = sum(sum(dust[0]))\n",
    "            num_pix_dust = len(dust[0][0])*len(dust[0][0])\n",
    "            signal_sum = sum(sum(stamp[0]))\n",
    "            num_pix_signal = len(stamp[0][0])*len(stamp[0][0])\n",
    "            signal2_sum = sum(sum(stamp2[0]))\n",
    "            num_pix_signal2 = len(stamp2[0][0])*len(stamp2[0][0])            \n",
    "                        \n",
    "            signal.append((signal_sum/num_pix_signal)-(dust_sum/num_pix_dust))\n",
    "            signal_ring.append(((signal2_sum-signal_sum)/(num_pix_signal2-num_pix_signal))-(dust_sum/num_pix_dust))\n",
    "            \n",
    "        ras_used.append(ras[i])\n",
    "        decs_used.append(decs[i])\n",
    "\n",
    "    return signal, signal_ring, ras_used, decs_used"
   ]
  },
  {
   "cell_type": "code",
   "execution_count": 14,
   "id": "1ecf0347",
   "metadata": {},
   "outputs": [
    {
     "name": "stdout",
     "output_type": "stream",
     "text": [
      "Preparing SHT\n",
      "T -> alm\n",
      "float64 complex128\n",
      "Computing pixel positions\n",
      "Computing rotated positions\n",
      "Projecting\n"
     ]
    },
    {
     "name": "stderr",
     "output_type": "stream",
     "text": [
      "100%|█████████████████████████████████████████████████████████████████████████████| 41670/41670 [16:26<00:00, 42.24it/s]\n"
     ]
    }
   ],
   "source": [
    "#real = pd.read_csv('data/union2.csv',skiprows=0,index_col=0)[::3]\n",
    "ras_real = real3['amf_ra'].reset_index(drop=True)##[real.z>0.75][::2].reset_index(drop=True)\n",
    "decs_real = real3['amf_dec'].reset_index(drop=True)##[real.z>0.75][::2].reset_index(drop=True)\n",
    "\n",
    "ras_all = ras_real\n",
    "decs_all = decs_real\n",
    "\n",
    "maps = \"data/HFI_SkyMap_545-field-Int_2048_R3.00_full.fits\"\n",
    "beam = 10\n",
    "map_pix = import_map(maps, int(beam))\n",
    "\n",
    "outputs = \"output/510u3C3/pr545.csv\"\n",
    "outputs2 = \"output/510u3C3/pr545_r.csv\"\n",
    "\n",
    "signal, signal_ring, ras_used, decs_used = extract_intensity(map_pix, ras_all, decs_all, beam)\n",
    "output_signal(signal, signal_ring, outputs, outputs2)"
   ]
  },
  {
   "cell_type": "code",
   "execution_count": 15,
   "id": "5e02427c",
   "metadata": {},
   "outputs": [
    {
     "name": "stdout",
     "output_type": "stream",
     "text": [
      "Preparing SHT\n",
      "T -> alm\n",
      "float64 complex128\n",
      "Computing pixel positions\n",
      "Computing rotated positions\n",
      "Projecting\n"
     ]
    },
    {
     "name": "stderr",
     "output_type": "stream",
     "text": [
      "100%|█████████████████████████████████████████████████████████████████████████████| 41670/41670 [16:47<00:00, 41.35it/s]\n"
     ]
    }
   ],
   "source": [
    "#real = pd.read_csv('data/union2.csv',skiprows=0,index_col=0)[::3]\n",
    "ras_real = real3['amf_ra'].reset_index(drop=True)##[real.z>0.75][::2].reset_index(drop=True)\n",
    "decs_real = real3['amf_dec'].reset_index(drop=True)##[real.z>0.75][::2].reset_index(drop=True)\n",
    "\n",
    "ras_all = ras_real\n",
    "decs_all = decs_real\n",
    "\n",
    "maps = \"data/HFI_SkyMap_857-field-Int_2048_R3.00_full.fits\"\n",
    "beam = 10\n",
    "map_pix = import_map(maps, int(beam))\n",
    "\n",
    "outputs = \"output/510u3C3/pr857.csv\"\n",
    "outputs2 = \"output/510u3C3/pr857_r.csv\"\n",
    "\n",
    "signal, signal_ring, ras_used, decs_used = extract_intensity(map_pix, ras_all, decs_all, beam)\n",
    "output_signal(signal, signal_ring, outputs, outputs2)"
   ]
  },
  {
   "cell_type": "markdown",
   "id": "7b230279",
   "metadata": {},
   "source": [
    "### Non-clusters"
   ]
  },
  {
   "cell_type": "code",
   "execution_count": 5,
   "id": "0bf0ce28",
   "metadata": {},
   "outputs": [],
   "source": [
    "def import_map(filepath, beam):\n",
    "    pl = hp.read_map(filepath)\n",
    "    pl[pl<-1e23]=0\n",
    "    try:\n",
    "        shape,wcs = enmap.fullsky_geometry(res=int(beam)*utils.arcmin,proj='car')\n",
    "        map_pix = reproject.enmap_from_healpix(pl,shape=shape,wcs=wcs)\n",
    "    except:\n",
    "        shape,wcs = enmap.fullsky_geometry(res=int(beam+1)*utils.arcmin,proj='car')\n",
    "        map_pix = reproject.enmap_from_healpix(pl,shape=shape,wcs=wcs)\n",
    "    return map_pix\n",
    "\n",
    "\n",
    "def extract_intensity(map_pix, ras, decs, beam):\n",
    "    N = len(ras)\n",
    "    stack_CMB_kSZ           = 0\n",
    "    stack_CMB_kSZ_deproject = 0\n",
    "    c = 0\n",
    "\n",
    "    signal = []\n",
    "    signal_ring = []\n",
    "    ras_used = []\n",
    "    decs_used = []\n",
    "    for i in tqdm(range(N)):\n",
    "        stamp = reproject.thumbnails(map_pix,coords = np.deg2rad([decs[i], ras[i]]),r=beam*utils.arcmin)\n",
    "        stamp2 = reproject.thumbnails(map_pix,coords = np.deg2rad([decs[i], ras[i]]),r=beam*2*utils.arcmin)\n",
    "\n",
    "        if stamp is None:\n",
    "            signal.append(-9999)\n",
    "        elif stamp[0][0][0]==0.0:\n",
    "            signal.append(-9999)\n",
    "        else:\n",
    "            signal_sum = sum(sum(stamp[0]))\n",
    "            signal2_sum = sum(sum(stamp2[0]))\n",
    "            num_pix_signal = len(stamp[0][0])*len(stamp[0][0])\n",
    "            num_pix_signal2 = len(stamp2[0][0])*len(stamp2[0][0])            \n",
    "            signal.append(signal_sum/num_pix_signal)\n",
    "            signal_ring.append((signal2_sum-signal_sum)/(num_pix_signal2-num_pix_signal))\n",
    "        ras_used.append(ras[i])\n",
    "        decs_used.append(decs[i])\n",
    "\n",
    "    return signal, signal_ring, ras_used, decs_used\n",
    "\n",
    "\n",
    "def output_signal(signal,signal_ring,output_fp,output_fp_signal):\n",
    "    np.savetxt(output_fp,\n",
    "               signal,\n",
    "               delimiter=\", \",\n",
    "               fmt='% s')\n",
    "    np.savetxt(output_fp_signal,\n",
    "               signal_ring,\n",
    "               delimiter=\", \",\n",
    "               fmt='% s')"
   ]
  },
  {
   "cell_type": "code",
   "execution_count": 17,
   "id": "83e08a71",
   "metadata": {},
   "outputs": [
    {
     "name": "stdout",
     "output_type": "stream",
     "text": [
      "Preparing SHT\n",
      "T -> alm\n",
      "float64 complex128\n",
      "Computing pixel positions\n",
      "Computing rotated positions\n",
      "Projecting\n"
     ]
    }
   ],
   "source": [
    "voids = pd.read_csv('data/voids.csv',skiprows=0,index_col=0)\n",
    "ras_voids = voids['ras'].reset_index(drop=True)\n",
    "decs_voids = voids['decs'].reset_index(drop=True)\n",
    "\n",
    "ras_all = ras_voids\n",
    "decs_all = decs_voids\n",
    "\n",
    "maps = \"data/HFI_SkyMap_100-field-IQU_2048_R3.00_full.fits\"\n",
    "beam = 10\n",
    "map_pix = import_map(maps, int(beam))\n",
    "\n",
    "outputs = \"output/510u3C2/pv100.csv\"\n",
    "outputs2 = \"output/510u3C2/pv100_r.csv\"\n",
    "\n",
    "signal, signal_ring, ras_used, decs_used = extract_intensity(map_pix, ras_all, decs_all, beam)\n",
    "output_signal(signal, signal_ring, outputs, outputs2)"
   ]
  },
  {
   "cell_type": "code",
   "execution_count": 18,
   "id": "27b843a2",
   "metadata": {},
   "outputs": [
    {
     "name": "stdout",
     "output_type": "stream",
     "text": [
      "Preparing SHT\n",
      "T -> alm\n",
      "float64 complex128\n",
      "Computing pixel positions\n",
      "Computing rotated positions\n",
      "Projecting\n"
     ]
    }
   ],
   "source": [
    "voids = pd.read_csv('data/voids.csv',skiprows=0,index_col=0)\n",
    "ras_voids = voids['ras'].reset_index(drop=True)\n",
    "decs_voids = voids['decs'].reset_index(drop=True)\n",
    "\n",
    "ras_all = ras_voids\n",
    "decs_all = decs_voids\n",
    "\n",
    "maps = \"data/HFI_SkyMap_143-field-IQU_2048_R3.00_full.fits\"\n",
    "beam = 10\n",
    "map_pix = import_map(maps, int(beam))\n",
    "\n",
    "outputs = \"output/510u3C2/pv143.csv\"\n",
    "outputs2 = \"output/510u3C2/pv143_r.csv\"\n",
    "\n",
    "signal, signal_ring, ras_used, decs_used = extract_intensity(map_pix, ras_all, decs_all, beam)\n",
    "output_signal(signal, signal_ring, outputs, outputs2)"
   ]
  },
  {
   "cell_type": "code",
   "execution_count": 19,
   "id": "ecf0031a",
   "metadata": {},
   "outputs": [
    {
     "name": "stdout",
     "output_type": "stream",
     "text": [
      "Preparing SHT\n",
      "T -> alm\n",
      "float64 complex128\n",
      "Computing pixel positions\n",
      "Computing rotated positions\n",
      "Projecting\n"
     ]
    }
   ],
   "source": [
    "voids = pd.read_csv('data/voids.csv',skiprows=0,index_col=0)\n",
    "ras_voids = voids['ras'].reset_index(drop=True)\n",
    "decs_voids = voids['decs'].reset_index(drop=True)\n",
    "\n",
    "ras_all = ras_voids\n",
    "decs_all = decs_voids\n",
    "\n",
    "maps = \"data/HFI_SkyMap_217-field-IQU_2048_R3.00_full.fits\"\n",
    "beam = 10\n",
    "map_pix = import_map(maps, int(beam))\n",
    "\n",
    "outputs = \"output/510u3C2/pv217.csv\"\n",
    "outputs2 = \"output/510u3C2/pv217_r.csv\"\n",
    "\n",
    "signal, signal_ring, ras_used, decs_used = extract_intensity(map_pix, ras_all, decs_all, beam)\n",
    "output_signal(signal, signal_ring, outputs, outputs2)"
   ]
  },
  {
   "cell_type": "code",
   "execution_count": 6,
   "id": "128f8af0",
   "metadata": {},
   "outputs": [
    {
     "name": "stdout",
     "output_type": "stream",
     "text": [
      "Preparing SHT\n",
      "T -> alm\n",
      "float64 complex128\n",
      "Computing pixel positions\n",
      "Computing rotated positions\n",
      "Projecting\n"
     ]
    },
    {
     "name": "stderr",
     "output_type": "stream",
     "text": [
      "100%|█████████████████████████████████████████████████████████████████████████████| 47231/47231 [12:19<00:00, 63.84it/s]\n"
     ]
    }
   ],
   "source": [
    "voids = pd.read_csv('data/voids.csv',skiprows=0,index_col=0)\n",
    "ras_voids = voids['ras'].reset_index(drop=True)\n",
    "decs_voids = voids['decs'].reset_index(drop=True)\n",
    "\n",
    "ras_all = ras_voids\n",
    "decs_all = decs_voids\n",
    "\n",
    "maps = \"data/HFI_SkyMap_353-psb-field-IQU_2048_R3.00_full.fits\"\n",
    "beam = 10\n",
    "map_pix = import_map(maps, int(beam))\n",
    "\n",
    "outputs = \"output/510u3C2/pv353.csv\"\n",
    "outputs2 = \"output/510u3C2/pv353_r.csv\"\n",
    "\n",
    "signal, signal_ring, ras_used, decs_used = extract_intensity(map_pix, ras_all, decs_all, beam)\n",
    "output_signal(signal, signal_ring, outputs, outputs2)"
   ]
  },
  {
   "cell_type": "code",
   "execution_count": 7,
   "id": "2bfece4e",
   "metadata": {},
   "outputs": [],
   "source": [
    "def extract_intensity(map_pix, ras, decs, beam):\n",
    "    N = len(ras)\n",
    "    stack_CMB_kSZ           = 0\n",
    "    stack_CMB_kSZ_deproject = 0\n",
    "    c = 0\n",
    "\n",
    "    signal = []\n",
    "    signal_ring = []\n",
    "    ras_used = []\n",
    "    decs_used = []\n",
    "    for i in tqdm(range(N)):\n",
    "        dust = reproject.thumbnails(map_pix,coords = np.deg2rad([decs[i], ras[i]]),r=30*utils.arcmin)\n",
    "        stamp = reproject.thumbnails(map_pix,coords = np.deg2rad([decs[i], ras[i]]),r=beam*utils.arcmin)\n",
    "        stamp2 = reproject.thumbnails(map_pix,coords = np.deg2rad([decs[i], ras[i]]),r=2*beam*utils.arcmin)\n",
    "\n",
    "        if stamp is None:\n",
    "            signal.append(-9999)\n",
    "        elif stamp[0][0][0]==0.0:\n",
    "            signal.append(-9999)\n",
    "        elif dust is None:\n",
    "            signal.append(-9999)\n",
    "        elif dust[0][0][0]==0.0:\n",
    "            signal.append(-9999)\n",
    "        else:\n",
    "            dust_sum = sum(sum(dust[0]))\n",
    "            num_pix_dust = len(dust[0][0])*len(dust[0][0])\n",
    "            signal_sum = sum(sum(stamp[0]))\n",
    "            num_pix_signal = len(stamp[0][0])*len(stamp[0][0])\n",
    "            signal2_sum = sum(sum(stamp2[0]))\n",
    "            num_pix_signal2 = len(stamp2[0][0])*len(stamp2[0][0])            \n",
    "                        \n",
    "            signal.append((signal_sum/num_pix_signal)-(dust_sum/num_pix_dust))\n",
    "            signal_ring.append(((signal2_sum-signal_sum)/(num_pix_signal2-num_pix_signal))-(dust_sum/num_pix_dust))\n",
    "            \n",
    "        ras_used.append(ras[i])\n",
    "        decs_used.append(decs[i])\n",
    "\n",
    "    return signal, signal_ring, ras_used, decs_used"
   ]
  },
  {
   "cell_type": "code",
   "execution_count": 8,
   "id": "1c536d4c",
   "metadata": {},
   "outputs": [
    {
     "name": "stdout",
     "output_type": "stream",
     "text": [
      "Preparing SHT\n",
      "T -> alm\n",
      "float64 complex128\n",
      "Computing pixel positions\n",
      "Computing rotated positions\n",
      "Projecting\n"
     ]
    },
    {
     "name": "stderr",
     "output_type": "stream",
     "text": [
      "100%|█████████████████████████████████████████████████████████████████████████████| 47231/47231 [18:52<00:00, 41.72it/s]\n"
     ]
    }
   ],
   "source": [
    "voids = pd.read_csv('data/voids.csv',skiprows=0,index_col=0)\n",
    "ras_voids = voids['ras'].reset_index(drop=True)\n",
    "decs_voids = voids['decs'].reset_index(drop=True)\n",
    "\n",
    "ras_all = ras_voids\n",
    "decs_all = decs_voids\n",
    "\n",
    "maps = \"data/HFI_SkyMap_545-field-Int_2048_R3.00_full.fits\"\n",
    "beam = 10\n",
    "map_pix = import_map(maps, int(beam))\n",
    "\n",
    "outputs = \"output/510u3C2/pv545.csv\"\n",
    "outputs2 = \"output/510u3C2/pv545_r.csv\"\n",
    "\n",
    "signal, signal_ring, ras_used, decs_used = extract_intensity(map_pix, ras_all, decs_all, beam)\n",
    "output_signal(signal, signal_ring, outputs, outputs2)"
   ]
  },
  {
   "cell_type": "code",
   "execution_count": 9,
   "id": "e0d17a30",
   "metadata": {},
   "outputs": [
    {
     "name": "stdout",
     "output_type": "stream",
     "text": [
      "Preparing SHT\n",
      "T -> alm\n",
      "float64 complex128\n",
      "Computing pixel positions\n",
      "Computing rotated positions\n",
      "Projecting\n"
     ]
    },
    {
     "name": "stderr",
     "output_type": "stream",
     "text": [
      "100%|█████████████████████████████████████████████████████████████████████████████| 47231/47231 [18:59<00:00, 41.44it/s]\n"
     ]
    }
   ],
   "source": [
    "voids = pd.read_csv('data/voids.csv',skiprows=0,index_col=0)\n",
    "ras_voids = voids['ras'].reset_index(drop=True)\n",
    "decs_voids = voids['decs'].reset_index(drop=True)\n",
    "\n",
    "ras_all = ras_voids\n",
    "decs_all = decs_voids\n",
    "\n",
    "maps = \"data/HFI_SkyMap_857-field-Int_2048_R3.00_full.fits\"\n",
    "beam = 10\n",
    "map_pix = import_map(maps, int(beam))\n",
    "\n",
    "outputs = \"output/510u3C2/pv857.csv\"\n",
    "outputs2 = \"output/510u3C2/pv857_r.csv\"\n",
    "\n",
    "signal, signal_ring, ras_used, decs_used = extract_intensity(map_pix, ras_all, decs_all, beam)\n",
    "output_signal(signal, signal_ring, outputs, outputs2)"
   ]
  },
  {
   "cell_type": "markdown",
   "id": "55c48d8a",
   "metadata": {},
   "source": [
    "---"
   ]
  },
  {
   "cell_type": "markdown",
   "id": "9fed9586",
   "metadata": {},
   "source": [
    "### Fullsky"
   ]
  },
  {
   "cell_type": "code",
   "execution_count": null,
   "id": "578d787c",
   "metadata": {},
   "outputs": [],
   "source": [
    "import astropy.coordinates as coord\n",
    "from astropy.coordinates import SkyCoord\n",
    "from astropy import units as u\n",
    "\n",
    "# galactic coordinates\n",
    "glon = []\n",
    "glat = []\n",
    "for lon in np.linspace(0,360,317):\n",
    "    for lat in np.linspace(-90,90,317):\n",
    "        glon.append(lon)\n",
    "        glat.append(lat)\n",
    "glon2 = [i*u.degree for i in glon]\n",
    "glat2 = [i*u.degree for i in glat]\n",
    "\n",
    "# convert to equitorial coordinates\n",
    "c = SkyCoord(glon2, glat2, frame='galactic')\n",
    "ras = c.icrs.ra.deg\n",
    "decs = c.icrs.dec.deg"
   ]
  },
  {
   "cell_type": "code",
   "execution_count": null,
   "id": "bc401343",
   "metadata": {},
   "outputs": [],
   "source": [
    "def import_map(filepath, beam):\n",
    "    pl = hp.read_map(filepath)\n",
    "    pl[pl<-1e23]=0\n",
    "    try:\n",
    "        shape,wcs = enmap.fullsky_geometry(res=int(beam)*utils.arcmin,proj='car')\n",
    "        map_pix = reproject.enmap_from_healpix(pl,shape=shape,wcs=wcs)\n",
    "    except:\n",
    "        shape,wcs = enmap.fullsky_geometry(res=int(beam+1)*utils.arcmin,proj='car')\n",
    "        map_pix = reproject.enmap_from_healpix(pl,shape=shape,wcs=wcs)\n",
    "    return map_pix\n",
    "\n",
    "\n",
    "def extract_intensity(map_pix, ras, decs, beam):\n",
    "    N = len(ras)\n",
    "    stack_CMB_kSZ           = 0\n",
    "    stack_CMB_kSZ_deproject = 0\n",
    "    c = 0\n",
    "\n",
    "    signal = []\n",
    "    signal_ring = []\n",
    "    ras_used = []\n",
    "    decs_used = []\n",
    "    for i in tqdm(range(N)):\n",
    "        stamp = reproject.thumbnails(map_pix,coords = np.deg2rad([decs[i], ras[i]]),r=beam*utils.arcmin)\n",
    "        stamp2 = reproject.thumbnails(map_pix,coords = np.deg2rad([decs[i], ras[i]]),r=beam*2*utils.arcmin)\n",
    "\n",
    "        if stamp is None:\n",
    "            signal.append(-9999)\n",
    "        elif stamp[0][0][0]==0.0:\n",
    "            signal.append(-9999)\n",
    "        else:\n",
    "            signal_sum = sum(sum(stamp[0]))\n",
    "            signal2_sum = sum(sum(stamp2[0]))\n",
    "            num_pix_signal = len(stamp[0][0])*len(stamp[0][0])\n",
    "            num_pix_signal2 = len(stamp2[0][0])*len(stamp2[0][0])            \n",
    "            signal.append(signal_sum/num_pix_signal)\n",
    "            signal_ring.append((signal2_sum-signal_sum)/(num_pix_signal2-num_pix_signal))\n",
    "        ras_used.append(ras[i])\n",
    "        decs_used.append(decs[i])\n",
    "\n",
    "    return signal, signal_ring, ras_used, decs_used\n",
    "\n",
    "\n",
    "def output_signal(signal,signal_ring,output_fp,output_fp_signal):\n",
    "    np.savetxt(output_fp,\n",
    "               signal,\n",
    "               delimiter=\", \",\n",
    "               fmt='% s')\n",
    "    np.savetxt(output_fp_signal,\n",
    "               signal_ring,\n",
    "               delimiter=\", \",\n",
    "               fmt='% s')"
   ]
  },
  {
   "cell_type": "code",
   "execution_count": null,
   "id": "6ec662e6",
   "metadata": {},
   "outputs": [],
   "source": [
    "import astropy.coordinates as coord\n",
    "from astropy.coordinates import SkyCoord\n",
    "from astropy import units as u\n",
    "\n",
    "# galactic coordinates\n",
    "glon = []\n",
    "glat = []\n",
    "for lon in np.linspace(0,360,317):\n",
    "    for lat in np.linspace(-90,90,317):\n",
    "        glon.append(lon)\n",
    "        glat.append(lat)\n",
    "glon2 = [i*u.degree for i in glon]\n",
    "glat2 = [i*u.degree for i in glat]\n",
    "\n",
    "# convert to equitorial coordinates\n",
    "c = SkyCoord(glon2, glat2, frame='galactic')\n",
    "ras = c.icrs.ra.deg\n",
    "decs = c.icrs.dec.deg"
   ]
  },
  {
   "cell_type": "code",
   "execution_count": null,
   "id": "bc97ebe2",
   "metadata": {},
   "outputs": [],
   "source": [
    "ras_fsky = pd.read_csv('data/full_sky_ras.csv').reset_index(drop=True)\n",
    "decs_fsky = pd.read_csv('data/full_sky_decs.csv').reset_index(drop=True)\n",
    "\n",
    "ras_all = np.array(ras)#np.array(ras)#ras_fsky['ras'].values\n",
    "decs_all = np.array(decs)#decs_fsky['decs'].values\n",
    "\n",
    "maps = \"data/HFI_SkyMap_100-field-IQU_2048_R3.00_full.fits\"\n",
    "beam = 10\n",
    "map_pix = import_map(maps, int(beam))\n",
    "\n",
    "outputs = \"output/510u3/pf100.csv\"\n",
    "outputs2 = \"output/510u3/pf100_r.csv\"\n",
    "\n",
    "signal, signal_ring, ras_used, decs_used = extract_intensity(map_pix, ras_all, decs_all, beam)\n",
    "output_signal(signal, signal_ring, outputs, outputs2)"
   ]
  },
  {
   "cell_type": "code",
   "execution_count": null,
   "id": "ae6a7dd5",
   "metadata": {},
   "outputs": [],
   "source": [
    "ras_fsky = pd.read_csv('data/full_sky_ras.csv').reset_index(drop=True)\n",
    "decs_fsky = pd.read_csv('data/full_sky_decs.csv').reset_index(drop=True)\n",
    "\n",
    "ras_all = np.array(ras)#np.array(ras)#ras_fsky['ras'].values\n",
    "decs_all = np.array(decs)#decs_fsky['decs'].values\n",
    "\n",
    "maps = \"data/HFI_SkyMap_143-field-IQU_2048_R3.00_full.fits\"\n",
    "beam = 10\n",
    "map_pix = import_map(maps, int(beam))\n",
    "\n",
    "outputs = \"output/510u3/pf143.csv\"\n",
    "outputs2 = \"output/510u3/pf143_r.csv\"\n",
    "\n",
    "signal, signal_ring, ras_used, decs_used = extract_intensity(map_pix, ras_all, decs_all, beam)\n",
    "output_signal(signal, signal_ring, outputs, outputs2)"
   ]
  },
  {
   "cell_type": "code",
   "execution_count": null,
   "id": "1963ab44",
   "metadata": {},
   "outputs": [],
   "source": [
    "ras_fsky = pd.read_csv('data/full_sky_ras.csv').reset_index(drop=True)\n",
    "decs_fsky = pd.read_csv('data/full_sky_decs.csv').reset_index(drop=True)\n",
    "\n",
    "ras_all = np.array(ras)#np.array(ras)#ras_fsky['ras'].values\n",
    "decs_all = np.array(decs)#decs_fsky['decs'].values\n",
    "\n",
    "maps = \"data/HFI_SkyMap_217-field-IQU_2048_R3.00_full.fits\"\n",
    "beam = 10\n",
    "map_pix = import_map(maps, int(beam))\n",
    "\n",
    "outputs = \"output/510u3/pf217.csv\"\n",
    "outputs2 = \"output/510u3/pf217_r.csv\"\n",
    "\n",
    "signal, signal_ring, ras_used, decs_used = extract_intensity(map_pix, ras_all, decs_all, beam)\n",
    "output_signal(signal, signal_ring, outputs, outputs2)"
   ]
  },
  {
   "cell_type": "code",
   "execution_count": null,
   "id": "bdc8043d",
   "metadata": {},
   "outputs": [],
   "source": [
    "# ras_fsky = pd.read_csv('data/full_sky_ras.csv').reset_index(drop=True)\n",
    "decs_fsky = pd.read_csv('data/full_sky_decs.csv').reset_index(drop=True)\n",
    "\n",
    "ras_all = np.array(ras)#np.array(ras)#ras_fsky['ras'].values\n",
    "decs_all = np.array(decs)#decs_fsky['decs'].values\n",
    "\n",
    "maps = \"data/HFI_SkyMap_353-psb-field-IQU_2048_R3.00_full.fits\"\n",
    "beam = 10\n",
    "map_pix = import_map(maps, int(beam))\n",
    "\n",
    "outputs = \"output/510u3/pf353.csv\"\n",
    "outputs2 = \"output/510u3/pf353_r.csv\"\n",
    "\n",
    "signal, signal_ring, ras_used, decs_used = extract_intensity(map_pix, ras_all, decs_all, beam)\n",
    "output_signal(signal, signal_ring, outputs, outputs2)"
   ]
  },
  {
   "cell_type": "code",
   "execution_count": null,
   "id": "453eb1c7",
   "metadata": {},
   "outputs": [],
   "source": [
    "def extract_intensity(map_pix, ras, decs, beam):\n",
    "    N = len(ras)\n",
    "    stack_CMB_kSZ           = 0\n",
    "    stack_CMB_kSZ_deproject = 0\n",
    "    c = 0\n",
    "\n",
    "    signal = []\n",
    "    signal_ring = []\n",
    "    ras_used = []\n",
    "    decs_used = []\n",
    "    for i in tqdm(range(N)):\n",
    "        dust = reproject.thumbnails(map_pix,coords = np.deg2rad([decs[i], ras[i]]),r=30*utils.arcmin)\n",
    "        stamp = reproject.thumbnails(map_pix,coords = np.deg2rad([decs[i], ras[i]]),r=beam*utils.arcmin)\n",
    "        stamp2 = reproject.thumbnails(map_pix,coords = np.deg2rad([decs[i], ras[i]]),r=2*beam*utils.arcmin)\n",
    "\n",
    "        if stamp is None:\n",
    "            signal.append(-9999)\n",
    "        elif stamp[0][0][0]==0.0:\n",
    "            signal.append(-9999)\n",
    "        elif dust is None:\n",
    "            signal.append(-9999)\n",
    "        elif dust[0][0][0]==0.0:\n",
    "            signal.append(-9999)\n",
    "        else:\n",
    "            dust_sum = sum(sum(dust[0]))\n",
    "            num_pix_dust = len(dust[0][0])*len(dust[0][0])\n",
    "            signal_sum = sum(sum(stamp[0]))\n",
    "            num_pix_signal = len(stamp[0][0])*len(stamp[0][0])\n",
    "            signal2_sum = sum(sum(stamp2[0]))\n",
    "            num_pix_signal2 = len(stamp2[0][0])*len(stamp2[0][0])            \n",
    "                        \n",
    "            signal.append((signal_sum/num_pix_signal)-(dust_sum/num_pix_dust))\n",
    "            signal_ring.append(((signal2_sum-signal_sum)/(num_pix_signal2-num_pix_signal))-(dust_sum/num_pix_dust))\n",
    "            \n",
    "        ras_used.append(ras[i])\n",
    "        decs_used.append(decs[i])\n",
    "\n",
    "    return signal, signal_ring, ras_used, decs_used"
   ]
  },
  {
   "cell_type": "code",
   "execution_count": null,
   "id": "9337c9c7",
   "metadata": {},
   "outputs": [],
   "source": [
    "ras_fsky = pd.read_csv('data/full_sky_ras.csv').reset_index(drop=True)\n",
    "decs_fsky = pd.read_csv('data/full_sky_decs.csv').reset_index(drop=True)\n",
    "\n",
    "ras_all = np.array(ras)#np.array(ras)#ras_fsky['ras'].values\n",
    "decs_all = np.array(decs)#decs_fsky['decs'].values\n",
    "\n",
    "maps = \"data/HFI_SkyMap_545-field-Int_2048_R3.00_full.fits\"\n",
    "beam = 10\n",
    "map_pix = import_map(maps, int(beam))\n",
    "\n",
    "outputs = \"output/510u3/pf545.csv\"\n",
    "outputs2 = \"output/510u3/pf545_r.csv\"\n",
    "\n",
    "signal, signal_ring, ras_used, decs_used = extract_intensity(map_pix, ras_all, decs_all, beam)\n",
    "output_signal(signal, signal_ring, outputs, outputs2)"
   ]
  },
  {
   "cell_type": "code",
   "execution_count": null,
   "id": "09a8fe0e",
   "metadata": {},
   "outputs": [],
   "source": [
    "ras_fsky = pd.read_csv('data/full_sky_ras.csv').reset_index(drop=True)\n",
    "decs_fsky = pd.read_csv('data/full_sky_decs.csv').reset_index(drop=True)\n",
    "\n",
    "ras_all = np.array(ras)#np.array(ras)#ras_fsky['ras'].values\n",
    "decs_all = np.array(decs)#decs_fsky['decs'].values\n",
    "\n",
    "maps = \"data/HFI_SkyMap_857-field-Int_2048_R3.00_full.fits\"\n",
    "beam = 10\n",
    "map_pix = import_map(maps, int(beam))\n",
    "\n",
    "outputs = \"output/510u3/pf857.csv\"\n",
    "outputs2 = \"output/510u3/pf857_r.csv\"\n",
    "\n",
    "signal, signal_ring, ras_used, decs_used = extract_intensity(map_pix, ras_all, decs_all, beam)\n",
    "output_signal(signal, signal_ring, outputs, outputs2)"
   ]
  },
  {
   "cell_type": "markdown",
   "id": "7160cdce",
   "metadata": {},
   "source": [
    "---"
   ]
  },
  {
   "cell_type": "markdown",
   "id": "2ca5ca15",
   "metadata": {},
   "source": [
    "### ACT"
   ]
  },
  {
   "cell_type": "markdown",
   "id": "1dc42c1f",
   "metadata": {},
   "source": [
    "### Real"
   ]
  },
  {
   "cell_type": "code",
   "execution_count": 3,
   "id": "9a834b45",
   "metadata": {},
   "outputs": [],
   "source": [
    "def import_map(filepath, beam):\n",
    "    pl = hp.read_map(filepath)\n",
    "    pl[pl<-1e23]=0\n",
    "    try:\n",
    "        shape,wcs = enmap.fullsky_geometry(res=int(beam)*utils.arcmin,proj='car')\n",
    "        map_pix = reproject.enmap_from_healpix(pl,shape=shape,wcs=wcs)\n",
    "    except:\n",
    "        shape,wcs = enmap.fullsky_geometry(res=int(beam+1)*utils.arcmin,proj='car')\n",
    "        map_pix = reproject.enmap_from_healpix(pl,shape=shape,wcs=wcs)\n",
    "    return map_pix\n",
    "\n",
    "\n",
    "def extract_intensity(map_pix, ras, decs, beam):\n",
    "    N = len(ras)\n",
    "    stack_CMB_kSZ           = 0\n",
    "    stack_CMB_kSZ_deproject = 0\n",
    "    c = 0\n",
    "\n",
    "    signal = []\n",
    "    signal_ring = []\n",
    "    ras_used = []\n",
    "    decs_used = []\n",
    "    for i in tqdm(range(N)):\n",
    "        stamp = reproject.thumbnails(map_pix,coords = np.deg2rad([decs[i], ras[i]]),r=beam*utils.arcmin)\n",
    "        stamp2 = reproject.thumbnails(map_pix,coords = np.deg2rad([decs[i], ras[i]]),r=beam*2*utils.arcmin)\n",
    "\n",
    "        if stamp is None:\n",
    "            signal.append(-9999)\n",
    "            signal_ring.append(-9999)\n",
    "        elif stamp[0][0][0]==0.0:\n",
    "            signal.append(-9999)\n",
    "            signal_ring.append(-9999)\n",
    "        else:\n",
    "            signal_sum = sum(sum(stamp[0]))\n",
    "            signal2_sum = sum(sum(stamp2[0]))\n",
    "            num_pix_signal = len(stamp[0][0])*len(stamp[0][0])\n",
    "            num_pix_signal2 = len(stamp2[0][0])*len(stamp2[0][0])            \n",
    "            signal.append(signal_sum/num_pix_signal)\n",
    "            signal_ring.append((signal2_sum-signal_sum)/(num_pix_signal2-num_pix_signal))\n",
    "        ras_used.append(ras[i])\n",
    "        decs_used.append(decs[i])\n",
    "\n",
    "    return signal, signal_ring, ras_used, decs_used\n",
    "\n",
    "\n",
    "def output_signal(signal,signal_ring,output_fp,output_fp_signal):\n",
    "    np.savetxt(output_fp,\n",
    "               signal,\n",
    "               delimiter=\", \",\n",
    "               fmt='% s')\n",
    "    np.savetxt(output_fp_signal,\n",
    "               signal_ring,\n",
    "               delimiter=\", \",\n",
    "               fmt='% s')"
   ]
  },
  {
   "cell_type": "code",
   "execution_count": null,
   "id": "4fed0c5d",
   "metadata": {},
   "outputs": [],
   "source": [
    "real = pd.read_csv('data/union2.csv',skiprows=0,index_col=0)[::3]\n",
    "ras_real = real['amf_ra'].reset_index(drop=True)##[real.z>0.75][::2].reset_index(drop=True)\n",
    "decs_real = real['amf_dec'].reset_index(drop=True)##[real.z>0.75][::2].reset_index(drop=True)\n",
    "\n",
    "ras_all = ras_real\n",
    "decs_all = decs_real\n",
    "\n",
    "beam = 5\n",
    "map_pix = enmap.read_map(\"data/act_dr5.01_s08s18_AA_f090_daynight_map.fits\")\n",
    "outputs = \"output/510u3/ar90.csv\"\n",
    "outputs2 = \"output/510u3/ar90_r.csv\"\n",
    "\n",
    "signal, signal_ring, ras_used, decs_used = extract_intensity(map_pix, ras_all, decs_all, beam)\n",
    "output_signal(signal, signal_ring, outputs, outputs2)"
   ]
  },
  {
   "cell_type": "code",
   "execution_count": null,
   "id": "935f247d",
   "metadata": {},
   "outputs": [],
   "source": [
    "real = pd.read_csv('data/union2.csv',skiprows=0,index_col=0)[::3]\n",
    "ras_real = real['amf_ra'].reset_index(drop=True)##[real.z>0.75][::2].reset_index(drop=True)\n",
    "decs_real = real['amf_dec'].reset_index(drop=True)##[real.z>0.75][::2].reset_index(drop=True)\n",
    "\n",
    "ras_all = ras_real\n",
    "decs_all = decs_real\n",
    "\n",
    "beam = 5\n",
    "map_pix = enmap.read_map(\"data/act_dr5.01_s08s18_AA_f150_daynight_map.fits\")\n",
    "outputs = \"output/510u3/ar150.csv\"\n",
    "outputs2 = \"output/510u3/ar150_r.csv\"\n",
    "\n",
    "signal, signal_ring, ras_used, decs_used = extract_intensity(map_pix, ras_all, decs_all, beam)\n",
    "output_signal(signal, signal_ring, outputs, outputs2)"
   ]
  },
  {
   "cell_type": "code",
   "execution_count": null,
   "id": "16e69809",
   "metadata": {},
   "outputs": [],
   "source": [
    "real = pd.read_csv('data/union2.csv',skiprows=0,index_col=0)[::3]\n",
    "ras_real = real['amf_ra'].reset_index(drop=True)##[real.z>0.75][::2].reset_index(drop=True)\n",
    "decs_real = real['amf_dec'].reset_index(drop=True)##[real.z>0.75][::2].reset_index(drop=True)\n",
    "\n",
    "ras_all = ras_real\n",
    "decs_all = decs_real\n",
    "\n",
    "beam = 5\n",
    "map_pix = enmap.read_map(\"data/act_dr5.01_s08s18_AA_f220_daynight_map.fits\")\n",
    "outputs = \"output/510u3/ar220.csv\"\n",
    "outputs2 = \"output/510u3/ar220_r.csv\"\n",
    "\n",
    "signal, signal_ring, ras_used, decs_used = extract_intensity(map_pix, ras_all, decs_all, beam)\n",
    "output_signal(signal, signal_ring, outputs, outputs2)"
   ]
  },
  {
   "cell_type": "markdown",
   "id": "274dd483",
   "metadata": {},
   "source": [
    "### Non-clusters"
   ]
  },
  {
   "cell_type": "code",
   "execution_count": null,
   "id": "e695d7d2",
   "metadata": {},
   "outputs": [],
   "source": [
    "voids = pd.read_csv('data/voids.csv',skiprows=0,index_col=0)\n",
    "ras_voids = voids['ras'].reset_index(drop=True)\n",
    "decs_voids = voids['decs'].reset_index(drop=True)\n",
    "\n",
    "ras_all = ras_voids\n",
    "decs_all = decs_voids\n",
    "\n",
    "beam = 5\n",
    "map_pix = enmap.read_map(\"data/act_dr5.01_s08s18_AA_f090_daynight_map.fits\")\n",
    "outputs = \"output/510u3/av90.csv\"\n",
    "outputs2 = \"output/510u3/av90_r.csv\"\n",
    "\n",
    "signal, signal_ring, ras_used, decs_used = extract_intensity(map_pix, ras_all, decs_all, beam)\n",
    "output_signal(signal, signal_ring, outputs, outputs2)"
   ]
  },
  {
   "cell_type": "code",
   "execution_count": null,
   "id": "3f007a01",
   "metadata": {},
   "outputs": [],
   "source": [
    "voids = pd.read_csv('data/voids.csv',skiprows=0,index_col=0)\n",
    "ras_voids = voids['ras'].reset_index(drop=True)\n",
    "decs_voids = voids['decs'].reset_index(drop=True)\n",
    "\n",
    "ras_all = ras_voids\n",
    "decs_all = decs_voids\n",
    "\n",
    "beam = 5\n",
    "map_pix = enmap.read_map(\"data/act_dr5.01_s08s18_AA_f150_daynight_map.fits\")\n",
    "outputs = \"output/510u3/av150.csv\"\n",
    "outputs2 = \"output/510u3/av150_r.csv\"\n",
    "\n",
    "signal, signal_ring, ras_used, decs_used = extract_intensity(map_pix, ras_all, decs_all, beam)\n",
    "output_signal(signal, signal_ring, outputs, outputs2)"
   ]
  },
  {
   "cell_type": "code",
   "execution_count": null,
   "id": "dd02bd09",
   "metadata": {},
   "outputs": [],
   "source": [
    "voids = pd.read_csv('data/voids.csv',skiprows=0,index_col=0)\n",
    "ras_voids = voids['ras'].reset_index(drop=True)\n",
    "decs_voids = voids['decs'].reset_index(drop=True)\n",
    "\n",
    "ras_all = ras_voids\n",
    "decs_all = decs_voids\n",
    "\n",
    "beam = 5\n",
    "map_pix = enmap.read_map(\"data/act_dr5.01_s08s18_AA_f220_daynight_map.fits\")\n",
    "outputs = \"output/510u3/av220.csv\"\n",
    "outputs2 = \"output/510u3/av220_r.csv\"\n",
    "\n",
    "signal, signal_ring, ras_used, decs_used = extract_intensity(map_pix, ras_all, decs_all, beam)\n",
    "output_signal(signal, signal_ring, outputs, outputs2)"
   ]
  },
  {
   "cell_type": "markdown",
   "id": "650c9e9c",
   "metadata": {},
   "source": [
    "---"
   ]
  },
  {
   "cell_type": "markdown",
   "id": "09b78f44",
   "metadata": {},
   "source": [
    "### Fullsky"
   ]
  },
  {
   "cell_type": "code",
   "execution_count": null,
   "id": "f5d90604",
   "metadata": {},
   "outputs": [],
   "source": [
    "import astropy.coordinates as coord\n",
    "from astropy.coordinates import SkyCoord\n",
    "from astropy import units as u\n",
    "from tqdm import tqdm\n",
    "\n",
    "# galactic coordinates\n",
    "glon = []\n",
    "glat = []\n",
    "for lon in tqdm(np.linspace(180,360,1079)):\n",
    "    for lat in np.linspace(15,90,449):\n",
    "        if (lat >= -15) & (lat <= 15):\n",
    "            continue\n",
    "        glon.append(lon)\n",
    "        glat.append(lat)\n",
    "glon2 = [i*u.degree for i in glon]\n",
    "glat2 = [i*u.degree for i in glat]\n",
    "\n",
    "# convert to equitorial coordinates\n",
    "c = SkyCoord(glon2, glat2, frame='galactic')\n",
    "ras = c.icrs.ra.deg\n",
    "decs = c.icrs.dec.deg"
   ]
  },
  {
   "cell_type": "code",
   "execution_count": null,
   "id": "b235750c",
   "metadata": {},
   "outputs": [],
   "source": [
    "ras_fsky = pd.read_csv('data/full_sky_ras.csv').reset_index(drop=True)\n",
    "decs_fsky = pd.read_csv('data/full_sky_decs.csv').reset_index(drop=True)\n",
    "\n",
    "ras_all = np.array(ras)#np.array(ras)#ras_fsky['ras'].values\n",
    "decs_all = np.array(decs)#decs_fsky['decs'].values\n",
    "\n",
    "beam = 5\n",
    "map_pix = enmap.read_map(\"data/act_dr5.01_s08s18_AA_f090_daynight_map.fits\")\n",
    "outputs = \"output/510u3/af90.csv\"\n",
    "outputs2 = \"output/510u3/af90_r.csv\"\n",
    "\n",
    "signal, signal_ring, ras_used, decs_used = extract_intensity(map_pix, ras_all, decs_all, beam)\n",
    "output_signal(signal, signal_ring, outputs, outputs2)"
   ]
  },
  {
   "cell_type": "code",
   "execution_count": null,
   "id": "f4d3836c",
   "metadata": {},
   "outputs": [],
   "source": [
    "ras_fsky = pd.read_csv('data/full_sky_ras.csv').reset_index(drop=True)\n",
    "decs_fsky = pd.read_csv('data/full_sky_decs.csv').reset_index(drop=True)\n",
    "\n",
    "ras_all = np.array(ras)#np.array(ras)#ras_fsky['ras'].values\n",
    "decs_all = np.array(decs)#decs_fsky['decs'].values\n",
    "\n",
    "beam = 5\n",
    "map_pix = enmap.read_map(\"data/act_dr5.01_s08s18_AA_f150_daynight_map.fits\")\n",
    "outputs = \"output/510u3/af150.csv\"\n",
    "outputs2 = \"output/510u3/af150_r.csv\"\n",
    "\n",
    "signal, signal_ring, ras_used, decs_used = extract_intensity(map_pix, ras_all, decs_all, beam)\n",
    "output_signal(signal, signal_ring, outputs, outputs2)"
   ]
  },
  {
   "cell_type": "code",
   "execution_count": null,
   "id": "354de666",
   "metadata": {},
   "outputs": [],
   "source": [
    "ras_fsky = pd.read_csv('data/full_sky_ras.csv').reset_index(drop=True)\n",
    "decs_fsky = pd.read_csv('data/full_sky_decs.csv').reset_index(drop=True)\n",
    "\n",
    "ras_all = np.array(ras)#np.array(ras)#ras_fsky['ras'].values\n",
    "decs_all = np.array(decs)#decs_fsky['decs'].values\n",
    "\n",
    "beam = 5\n",
    "map_pix = enmap.read_map(\"data/act_dr5.01_s08s18_AA_f220_daynight_map.fits\")\n",
    "outputs = \"output/510u3/af220.csv\"\n",
    "outputs2 = \"output/510u3/af220_r.csv\"\n",
    "\n",
    "signal, signal_ring, ras_used, decs_used = extract_intensity(map_pix, ras_all, decs_all, beam)\n",
    "output_signal(signal, signal_ring, outputs, outputs2)"
   ]
  },
  {
   "cell_type": "markdown",
   "id": "f1431f66",
   "metadata": {},
   "source": [
    "---"
   ]
  },
  {
   "cell_type": "markdown",
   "id": "37e60643",
   "metadata": {},
   "source": [
    "## Rosat"
   ]
  },
  {
   "cell_type": "markdown",
   "id": "ae6ca883",
   "metadata": {},
   "source": [
    "### Real"
   ]
  },
  {
   "cell_type": "code",
   "execution_count": 4,
   "id": "d2c347ba",
   "metadata": {},
   "outputs": [],
   "source": [
    "def import_map(beam):\n",
    "    ros = hp.read_map(\"data/rass_healpix_countsec.fits\")\n",
    "    mask = hp.read_map(\"data/mask_comprass.fits\")\n",
    "\n",
    "    ros[ros<-1e23]=0\n",
    "\n",
    "    masked_ros = []\n",
    "    for i in tqdm(range(len(mask))):\n",
    "        masked_ros.append(0)\n",
    "        if mask[i]:\n",
    "            masked_ros[i]=ros[i]\n",
    "\n",
    "    masked_ros = np.array(masked_ros)\n",
    "\n",
    "    shape,wcs = enmap.fullsky_geometry(res=beam * utils.arcmin,proj='car')\n",
    "    map_pix = reproject.enmap_from_healpix(masked_ros,shape=shape,wcs=wcs)\n",
    "\n",
    "    return map_pix"
   ]
  },
  {
   "cell_type": "code",
   "execution_count": null,
   "id": "4b14582b",
   "metadata": {},
   "outputs": [],
   "source": [
    "real = pd.read_csv('data/union2.csv',skiprows=0,index_col=0)[::3]\n",
    "ras_real = real['amf_ra'].reset_index(drop=True)##[real.z>0.75][::2].reset_index(drop=True)\n",
    "decs_real = real['amf_dec'].reset_index(drop=True)##[real.z>0.75][::2].reset_index(drop=True)\n",
    "\n",
    "ras_all = ras_real\n",
    "decs_all = decs_real\n",
    "\n",
    "beam = 5\n",
    "map_pix = import_map(int(beam))\n",
    "outputs = \"output/510u3/rr.csv\"\n",
    "outputs2 = \"output/510u3/rr_r.csv\"\n",
    "\n",
    "signal, signal_ring, ras_used, decs_used = extract_intensity(map_pix, ras_all, decs_all, beam)\n",
    "output_signal(signal, signal_ring, outputs, outputs2)"
   ]
  },
  {
   "cell_type": "code",
   "execution_count": null,
   "id": "67e3757c",
   "metadata": {
    "scrolled": false
   },
   "outputs": [],
   "source": [
    "voids = pd.read_csv('data/voids.csv',skiprows=0,index_col=0)\n",
    "ras_voids = voids['ras'].reset_index(drop=True)\n",
    "decs_voids = voids['decs'].reset_index(drop=True)\n",
    "\n",
    "ras_all = ras_voids\n",
    "decs_all = decs_voids\n",
    "\n",
    "beam = 5\n",
    "map_pix = import_map(int(beam))\n",
    "outputs = \"output/510u3/rv.csv\"\n",
    "outputs2 = \"output/510u3/rv_r.csv\"\n",
    "\n",
    "signal, signal_ring, ras_used, decs_used = extract_intensity(map_pix, ras_all, decs_all, beam)\n",
    "output_signal(signal, signal_ring, outputs, outputs2)"
   ]
  },
  {
   "cell_type": "code",
   "execution_count": 5,
   "id": "162f030f",
   "metadata": {},
   "outputs": [
    {
     "name": "stderr",
     "output_type": "stream",
     "text": [
      "100%|█████████████████████████████████████████████████████████████████████████████| 1079/1079 [00:00<00:00, 4721.14it/s]\n"
     ]
    }
   ],
   "source": [
    "import astropy.coordinates as coord\n",
    "from astropy.coordinates import SkyCoord\n",
    "from astropy import units as u\n",
    "from tqdm import tqdm\n",
    "\n",
    "# galactic coordinates\n",
    "glon = []\n",
    "glat = []\n",
    "for lon in tqdm(np.linspace(180,360,1079)):\n",
    "    for lat in np.linspace(15,90,449):\n",
    "        if (lat >= -15) & (lat <= 15):\n",
    "            continue\n",
    "        glon.append(lon)\n",
    "        glat.append(lat)\n",
    "glon2 = [i*u.degree for i in glon]\n",
    "glat2 = [i*u.degree for i in glat]\n",
    "\n",
    "# convert to equitorial coordinates\n",
    "c = SkyCoord(glon2, glat2, frame='galactic')\n",
    "ras = c.icrs.ra.deg\n",
    "decs = c.icrs.dec.deg"
   ]
  },
  {
   "cell_type": "code",
   "execution_count": null,
   "id": "523078e7",
   "metadata": {
    "scrolled": true
   },
   "outputs": [
    {
     "name": "stderr",
     "output_type": "stream",
     "text": [
      "100%|████████████████████████████████████████████████████████████████| 201326592/201326592 [00:54<00:00, 3688526.23it/s]"
     ]
    }
   ],
   "source": [
    "ras_fsky = pd.read_csv('data/full_sky_ras.csv').reset_index(drop=True)\n",
    "decs_fsky = pd.read_csv('data/full_sky_decs.csv').reset_index(drop=True)\n",
    "\n",
    "ras_all = np.array(ras)#np.array(ras)#ras_fsky['ras'].values\n",
    "decs_all = np.array(decs)#decs_fsky['decs'].values\n",
    "\n",
    "beam = 5\n",
    "map_pix = import_map(int(beam))\n",
    "outputs = \"output/510u3/rf.csv\"\n",
    "outputs2 = \"output/510u3/rf_r.csv\"\n",
    "\n",
    "signal, signal_ring, ras_used, decs_used = extract_intensity(map_pix, ras_all, decs_all, beam)\n",
    "output_signal(signal, signal_ring, outputs, outputs2)"
   ]
  },
  {
   "cell_type": "code",
   "execution_count": null,
   "id": "85c4ee74",
   "metadata": {},
   "outputs": [],
   "source": []
  }
 ],
 "metadata": {
  "kernelspec": {
   "display_name": "Python 3 (ipykernel)",
   "language": "python",
   "name": "python3"
  },
  "language_info": {
   "codemirror_mode": {
    "name": "ipython",
    "version": 3
   },
   "file_extension": ".py",
   "mimetype": "text/x-python",
   "name": "python",
   "nbconvert_exporter": "python",
   "pygments_lexer": "ipython3",
   "version": "3.10.9"
  }
 },
 "nbformat": 4,
 "nbformat_minor": 5
}
